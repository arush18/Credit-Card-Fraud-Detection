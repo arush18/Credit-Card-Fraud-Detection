{
 "cells": [
  {
   "cell_type": "markdown",
   "metadata": {},
   "source": [
    "## Import Dependencies"
   ]
  },
  {
   "cell_type": "code",
   "execution_count": 1,
   "metadata": {},
   "outputs": [],
   "source": [
    "import pandas as pd\n",
    "import numpy as np\n",
    "\n",
    "import matplotlib.pyplot as plt\n",
    "import seaborn as sns\n",
    "from plotly import tools\n",
    "import plotly.io as pio\n",
    "import plotly.figure_factory as ff\n",
    "import plotly.graph_objs as go\n",
    "import plotly.offline as py\n",
    "from plotly.offline import plot, iplot, download_plotlyjs, init_notebook_mode\n",
    "\n",
    "import gc\n",
    "from datetime import datetime\n",
    "\n",
    "from sklearn.ensemble import RandomForestClassifier, AdaBoostClassifier\n",
    "from sklearn import svm\n",
    "from catboost import CatBoostClassifier\n",
    "from sklearn.model_selection import train_test_split, KFold\n",
    "from sklearn.metrics import roc_auc_score\n",
    "\n",
    "import lightgbm as lgb\n",
    "from lightgbm import LGBMClassifier\n",
    "import xgboost as xgb"
   ]
  },
  {
   "cell_type": "code",
   "execution_count": 2,
   "metadata": {},
   "outputs": [
    {
     "data": {
      "text/html": [
       "        <script type=\"text/javascript\">\n",
       "        window.PlotlyConfig = {MathJaxConfig: 'local'};\n",
       "        if (window.MathJax && window.MathJax.Hub && window.MathJax.Hub.Config) {window.MathJax.Hub.Config({SVG: {font: \"STIX-Web\"}});}\n",
       "        </script>\n",
       "        <script type=\"module\">import \"https://cdn.plot.ly/plotly-3.0.0.min\"</script>\n",
       "        "
      ]
     },
     "metadata": {},
     "output_type": "display_data"
    }
   ],
   "source": [
    "%matplotlib inline\n",
    "py.init_notebook_mode(connected=True)"
   ]
  },
  {
   "cell_type": "markdown",
   "metadata": {},
   "source": [
    "## Data Preparation"
   ]
  },
  {
   "cell_type": "markdown",
   "metadata": {},
   "source": [
    "### Load Data"
   ]
  },
  {
   "cell_type": "code",
   "execution_count": 3,
   "metadata": {},
   "outputs": [
    {
     "data": {
      "text/plain": [
       "(284807, 31)"
      ]
     },
     "execution_count": 3,
     "metadata": {},
     "output_type": "execute_result"
    }
   ],
   "source": [
    "data = pd.read_csv('../datasets/creditcard.csv')\n",
    "data.shape"
   ]
  },
  {
   "cell_type": "markdown",
   "metadata": {},
   "source": [
    "### Data Exploration"
   ]
  },
  {
   "cell_type": "code",
   "execution_count": 4,
   "metadata": {},
   "outputs": [
    {
     "data": {
      "text/html": [
       "<div>\n",
       "<style scoped>\n",
       "    .dataframe tbody tr th:only-of-type {\n",
       "        vertical-align: middle;\n",
       "    }\n",
       "\n",
       "    .dataframe tbody tr th {\n",
       "        vertical-align: top;\n",
       "    }\n",
       "\n",
       "    .dataframe thead th {\n",
       "        text-align: right;\n",
       "    }\n",
       "</style>\n",
       "<table border=\"1\" class=\"dataframe\">\n",
       "  <thead>\n",
       "    <tr style=\"text-align: right;\">\n",
       "      <th></th>\n",
       "      <th>Time</th>\n",
       "      <th>V1</th>\n",
       "      <th>V2</th>\n",
       "      <th>V3</th>\n",
       "      <th>V4</th>\n",
       "      <th>V5</th>\n",
       "      <th>V6</th>\n",
       "      <th>V7</th>\n",
       "      <th>V8</th>\n",
       "      <th>V9</th>\n",
       "      <th>...</th>\n",
       "      <th>V21</th>\n",
       "      <th>V22</th>\n",
       "      <th>V23</th>\n",
       "      <th>V24</th>\n",
       "      <th>V25</th>\n",
       "      <th>V26</th>\n",
       "      <th>V27</th>\n",
       "      <th>V28</th>\n",
       "      <th>Amount</th>\n",
       "      <th>Class</th>\n",
       "    </tr>\n",
       "  </thead>\n",
       "  <tbody>\n",
       "    <tr>\n",
       "      <th>0</th>\n",
       "      <td>0.0</td>\n",
       "      <td>-1.359807</td>\n",
       "      <td>-0.072781</td>\n",
       "      <td>2.536347</td>\n",
       "      <td>1.378155</td>\n",
       "      <td>-0.338321</td>\n",
       "      <td>0.462388</td>\n",
       "      <td>0.239599</td>\n",
       "      <td>0.098698</td>\n",
       "      <td>0.363787</td>\n",
       "      <td>...</td>\n",
       "      <td>-0.018307</td>\n",
       "      <td>0.277838</td>\n",
       "      <td>-0.110474</td>\n",
       "      <td>0.066928</td>\n",
       "      <td>0.128539</td>\n",
       "      <td>-0.189115</td>\n",
       "      <td>0.133558</td>\n",
       "      <td>-0.021053</td>\n",
       "      <td>149.62</td>\n",
       "      <td>0</td>\n",
       "    </tr>\n",
       "    <tr>\n",
       "      <th>1</th>\n",
       "      <td>0.0</td>\n",
       "      <td>1.191857</td>\n",
       "      <td>0.266151</td>\n",
       "      <td>0.166480</td>\n",
       "      <td>0.448154</td>\n",
       "      <td>0.060018</td>\n",
       "      <td>-0.082361</td>\n",
       "      <td>-0.078803</td>\n",
       "      <td>0.085102</td>\n",
       "      <td>-0.255425</td>\n",
       "      <td>...</td>\n",
       "      <td>-0.225775</td>\n",
       "      <td>-0.638672</td>\n",
       "      <td>0.101288</td>\n",
       "      <td>-0.339846</td>\n",
       "      <td>0.167170</td>\n",
       "      <td>0.125895</td>\n",
       "      <td>-0.008983</td>\n",
       "      <td>0.014724</td>\n",
       "      <td>2.69</td>\n",
       "      <td>0</td>\n",
       "    </tr>\n",
       "    <tr>\n",
       "      <th>2</th>\n",
       "      <td>1.0</td>\n",
       "      <td>-1.358354</td>\n",
       "      <td>-1.340163</td>\n",
       "      <td>1.773209</td>\n",
       "      <td>0.379780</td>\n",
       "      <td>-0.503198</td>\n",
       "      <td>1.800499</td>\n",
       "      <td>0.791461</td>\n",
       "      <td>0.247676</td>\n",
       "      <td>-1.514654</td>\n",
       "      <td>...</td>\n",
       "      <td>0.247998</td>\n",
       "      <td>0.771679</td>\n",
       "      <td>0.909412</td>\n",
       "      <td>-0.689281</td>\n",
       "      <td>-0.327642</td>\n",
       "      <td>-0.139097</td>\n",
       "      <td>-0.055353</td>\n",
       "      <td>-0.059752</td>\n",
       "      <td>378.66</td>\n",
       "      <td>0</td>\n",
       "    </tr>\n",
       "  </tbody>\n",
       "</table>\n",
       "<p>3 rows × 31 columns</p>\n",
       "</div>"
      ],
      "text/plain": [
       "   Time        V1        V2        V3        V4        V5        V6        V7  \\\n",
       "0   0.0 -1.359807 -0.072781  2.536347  1.378155 -0.338321  0.462388  0.239599   \n",
       "1   0.0  1.191857  0.266151  0.166480  0.448154  0.060018 -0.082361 -0.078803   \n",
       "2   1.0 -1.358354 -1.340163  1.773209  0.379780 -0.503198  1.800499  0.791461   \n",
       "\n",
       "         V8        V9  ...       V21       V22       V23       V24       V25  \\\n",
       "0  0.098698  0.363787  ... -0.018307  0.277838 -0.110474  0.066928  0.128539   \n",
       "1  0.085102 -0.255425  ... -0.225775 -0.638672  0.101288 -0.339846  0.167170   \n",
       "2  0.247676 -1.514654  ...  0.247998  0.771679  0.909412 -0.689281 -0.327642   \n",
       "\n",
       "        V26       V27       V28  Amount  Class  \n",
       "0 -0.189115  0.133558 -0.021053  149.62      0  \n",
       "1  0.125895 -0.008983  0.014724    2.69      0  \n",
       "2 -0.139097 -0.055353 -0.059752  378.66      0  \n",
       "\n",
       "[3 rows x 31 columns]"
      ]
     },
     "execution_count": 4,
     "metadata": {},
     "output_type": "execute_result"
    }
   ],
   "source": [
    "data.head(3)"
   ]
  },
  {
   "cell_type": "code",
   "execution_count": 5,
   "metadata": {},
   "outputs": [
    {
     "name": "stdout",
     "output_type": "stream",
     "text": [
      "Time      0.0\n",
      "V1        0.0\n",
      "V2        0.0\n",
      "V3        0.0\n",
      "V4        0.0\n",
      "V5        0.0\n",
      "V6        0.0\n",
      "V7        0.0\n",
      "V8        0.0\n",
      "V9        0.0\n",
      "V10       0.0\n",
      "V11       0.0\n",
      "V12       0.0\n",
      "V13       0.0\n",
      "V14       0.0\n",
      "V15       0.0\n",
      "V16       0.0\n",
      "V17       0.0\n",
      "V18       0.0\n",
      "V19       0.0\n",
      "V20       0.0\n",
      "V21       0.0\n",
      "V22       0.0\n",
      "V23       0.0\n",
      "V24       0.0\n",
      "V25       0.0\n",
      "V26       0.0\n",
      "V27       0.0\n",
      "V28       0.0\n",
      "Amount    0.0\n",
      "Class     0.0\n",
      "dtype: float64\n"
     ]
    }
   ],
   "source": [
    "print(data.isnull().mean()*100)"
   ]
  },
  {
   "cell_type": "code",
   "execution_count": 6,
   "metadata": {},
   "outputs": [
    {
     "data": {
      "text/html": [
       "<div>\n",
       "<style scoped>\n",
       "    .dataframe tbody tr th:only-of-type {\n",
       "        vertical-align: middle;\n",
       "    }\n",
       "\n",
       "    .dataframe tbody tr th {\n",
       "        vertical-align: top;\n",
       "    }\n",
       "\n",
       "    .dataframe thead th {\n",
       "        text-align: right;\n",
       "    }\n",
       "</style>\n",
       "<table border=\"1\" class=\"dataframe\">\n",
       "  <thead>\n",
       "    <tr style=\"text-align: right;\">\n",
       "      <th></th>\n",
       "      <th>Time</th>\n",
       "      <th>V1</th>\n",
       "      <th>V2</th>\n",
       "      <th>V3</th>\n",
       "      <th>V4</th>\n",
       "      <th>V5</th>\n",
       "      <th>V6</th>\n",
       "      <th>V7</th>\n",
       "      <th>V8</th>\n",
       "      <th>V9</th>\n",
       "      <th>...</th>\n",
       "      <th>V21</th>\n",
       "      <th>V22</th>\n",
       "      <th>V23</th>\n",
       "      <th>V24</th>\n",
       "      <th>V25</th>\n",
       "      <th>V26</th>\n",
       "      <th>V27</th>\n",
       "      <th>V28</th>\n",
       "      <th>Amount</th>\n",
       "      <th>Class</th>\n",
       "    </tr>\n",
       "  </thead>\n",
       "  <tbody>\n",
       "    <tr>\n",
       "      <th>count</th>\n",
       "      <td>284807.000000</td>\n",
       "      <td>2.848070e+05</td>\n",
       "      <td>2.848070e+05</td>\n",
       "      <td>2.848070e+05</td>\n",
       "      <td>2.848070e+05</td>\n",
       "      <td>2.848070e+05</td>\n",
       "      <td>2.848070e+05</td>\n",
       "      <td>2.848070e+05</td>\n",
       "      <td>2.848070e+05</td>\n",
       "      <td>2.848070e+05</td>\n",
       "      <td>...</td>\n",
       "      <td>2.848070e+05</td>\n",
       "      <td>2.848070e+05</td>\n",
       "      <td>2.848070e+05</td>\n",
       "      <td>2.848070e+05</td>\n",
       "      <td>2.848070e+05</td>\n",
       "      <td>2.848070e+05</td>\n",
       "      <td>2.848070e+05</td>\n",
       "      <td>2.848070e+05</td>\n",
       "      <td>284807.000000</td>\n",
       "      <td>284807.000000</td>\n",
       "    </tr>\n",
       "    <tr>\n",
       "      <th>mean</th>\n",
       "      <td>94813.859575</td>\n",
       "      <td>1.168375e-15</td>\n",
       "      <td>3.416908e-16</td>\n",
       "      <td>-1.379537e-15</td>\n",
       "      <td>2.074095e-15</td>\n",
       "      <td>9.604066e-16</td>\n",
       "      <td>1.487313e-15</td>\n",
       "      <td>-5.556467e-16</td>\n",
       "      <td>1.213481e-16</td>\n",
       "      <td>-2.406331e-15</td>\n",
       "      <td>...</td>\n",
       "      <td>1.654067e-16</td>\n",
       "      <td>-3.568593e-16</td>\n",
       "      <td>2.578648e-16</td>\n",
       "      <td>4.473266e-15</td>\n",
       "      <td>5.340915e-16</td>\n",
       "      <td>1.683437e-15</td>\n",
       "      <td>-3.660091e-16</td>\n",
       "      <td>-1.227390e-16</td>\n",
       "      <td>88.349619</td>\n",
       "      <td>0.001727</td>\n",
       "    </tr>\n",
       "    <tr>\n",
       "      <th>std</th>\n",
       "      <td>47488.145955</td>\n",
       "      <td>1.958696e+00</td>\n",
       "      <td>1.651309e+00</td>\n",
       "      <td>1.516255e+00</td>\n",
       "      <td>1.415869e+00</td>\n",
       "      <td>1.380247e+00</td>\n",
       "      <td>1.332271e+00</td>\n",
       "      <td>1.237094e+00</td>\n",
       "      <td>1.194353e+00</td>\n",
       "      <td>1.098632e+00</td>\n",
       "      <td>...</td>\n",
       "      <td>7.345240e-01</td>\n",
       "      <td>7.257016e-01</td>\n",
       "      <td>6.244603e-01</td>\n",
       "      <td>6.056471e-01</td>\n",
       "      <td>5.212781e-01</td>\n",
       "      <td>4.822270e-01</td>\n",
       "      <td>4.036325e-01</td>\n",
       "      <td>3.300833e-01</td>\n",
       "      <td>250.120109</td>\n",
       "      <td>0.041527</td>\n",
       "    </tr>\n",
       "    <tr>\n",
       "      <th>min</th>\n",
       "      <td>0.000000</td>\n",
       "      <td>-5.640751e+01</td>\n",
       "      <td>-7.271573e+01</td>\n",
       "      <td>-4.832559e+01</td>\n",
       "      <td>-5.683171e+00</td>\n",
       "      <td>-1.137433e+02</td>\n",
       "      <td>-2.616051e+01</td>\n",
       "      <td>-4.355724e+01</td>\n",
       "      <td>-7.321672e+01</td>\n",
       "      <td>-1.343407e+01</td>\n",
       "      <td>...</td>\n",
       "      <td>-3.483038e+01</td>\n",
       "      <td>-1.093314e+01</td>\n",
       "      <td>-4.480774e+01</td>\n",
       "      <td>-2.836627e+00</td>\n",
       "      <td>-1.029540e+01</td>\n",
       "      <td>-2.604551e+00</td>\n",
       "      <td>-2.256568e+01</td>\n",
       "      <td>-1.543008e+01</td>\n",
       "      <td>0.000000</td>\n",
       "      <td>0.000000</td>\n",
       "    </tr>\n",
       "    <tr>\n",
       "      <th>25%</th>\n",
       "      <td>54201.500000</td>\n",
       "      <td>-9.203734e-01</td>\n",
       "      <td>-5.985499e-01</td>\n",
       "      <td>-8.903648e-01</td>\n",
       "      <td>-8.486401e-01</td>\n",
       "      <td>-6.915971e-01</td>\n",
       "      <td>-7.682956e-01</td>\n",
       "      <td>-5.540759e-01</td>\n",
       "      <td>-2.086297e-01</td>\n",
       "      <td>-6.430976e-01</td>\n",
       "      <td>...</td>\n",
       "      <td>-2.283949e-01</td>\n",
       "      <td>-5.423504e-01</td>\n",
       "      <td>-1.618463e-01</td>\n",
       "      <td>-3.545861e-01</td>\n",
       "      <td>-3.171451e-01</td>\n",
       "      <td>-3.269839e-01</td>\n",
       "      <td>-7.083953e-02</td>\n",
       "      <td>-5.295979e-02</td>\n",
       "      <td>5.600000</td>\n",
       "      <td>0.000000</td>\n",
       "    </tr>\n",
       "    <tr>\n",
       "      <th>50%</th>\n",
       "      <td>84692.000000</td>\n",
       "      <td>1.810880e-02</td>\n",
       "      <td>6.548556e-02</td>\n",
       "      <td>1.798463e-01</td>\n",
       "      <td>-1.984653e-02</td>\n",
       "      <td>-5.433583e-02</td>\n",
       "      <td>-2.741871e-01</td>\n",
       "      <td>4.010308e-02</td>\n",
       "      <td>2.235804e-02</td>\n",
       "      <td>-5.142873e-02</td>\n",
       "      <td>...</td>\n",
       "      <td>-2.945017e-02</td>\n",
       "      <td>6.781943e-03</td>\n",
       "      <td>-1.119293e-02</td>\n",
       "      <td>4.097606e-02</td>\n",
       "      <td>1.659350e-02</td>\n",
       "      <td>-5.213911e-02</td>\n",
       "      <td>1.342146e-03</td>\n",
       "      <td>1.124383e-02</td>\n",
       "      <td>22.000000</td>\n",
       "      <td>0.000000</td>\n",
       "    </tr>\n",
       "    <tr>\n",
       "      <th>75%</th>\n",
       "      <td>139320.500000</td>\n",
       "      <td>1.315642e+00</td>\n",
       "      <td>8.037239e-01</td>\n",
       "      <td>1.027196e+00</td>\n",
       "      <td>7.433413e-01</td>\n",
       "      <td>6.119264e-01</td>\n",
       "      <td>3.985649e-01</td>\n",
       "      <td>5.704361e-01</td>\n",
       "      <td>3.273459e-01</td>\n",
       "      <td>5.971390e-01</td>\n",
       "      <td>...</td>\n",
       "      <td>1.863772e-01</td>\n",
       "      <td>5.285536e-01</td>\n",
       "      <td>1.476421e-01</td>\n",
       "      <td>4.395266e-01</td>\n",
       "      <td>3.507156e-01</td>\n",
       "      <td>2.409522e-01</td>\n",
       "      <td>9.104512e-02</td>\n",
       "      <td>7.827995e-02</td>\n",
       "      <td>77.165000</td>\n",
       "      <td>0.000000</td>\n",
       "    </tr>\n",
       "    <tr>\n",
       "      <th>max</th>\n",
       "      <td>172792.000000</td>\n",
       "      <td>2.454930e+00</td>\n",
       "      <td>2.205773e+01</td>\n",
       "      <td>9.382558e+00</td>\n",
       "      <td>1.687534e+01</td>\n",
       "      <td>3.480167e+01</td>\n",
       "      <td>7.330163e+01</td>\n",
       "      <td>1.205895e+02</td>\n",
       "      <td>2.000721e+01</td>\n",
       "      <td>1.559499e+01</td>\n",
       "      <td>...</td>\n",
       "      <td>2.720284e+01</td>\n",
       "      <td>1.050309e+01</td>\n",
       "      <td>2.252841e+01</td>\n",
       "      <td>4.584549e+00</td>\n",
       "      <td>7.519589e+00</td>\n",
       "      <td>3.517346e+00</td>\n",
       "      <td>3.161220e+01</td>\n",
       "      <td>3.384781e+01</td>\n",
       "      <td>25691.160000</td>\n",
       "      <td>1.000000</td>\n",
       "    </tr>\n",
       "  </tbody>\n",
       "</table>\n",
       "<p>8 rows × 31 columns</p>\n",
       "</div>"
      ],
      "text/plain": [
       "                Time            V1            V2            V3            V4  \\\n",
       "count  284807.000000  2.848070e+05  2.848070e+05  2.848070e+05  2.848070e+05   \n",
       "mean    94813.859575  1.168375e-15  3.416908e-16 -1.379537e-15  2.074095e-15   \n",
       "std     47488.145955  1.958696e+00  1.651309e+00  1.516255e+00  1.415869e+00   \n",
       "min         0.000000 -5.640751e+01 -7.271573e+01 -4.832559e+01 -5.683171e+00   \n",
       "25%     54201.500000 -9.203734e-01 -5.985499e-01 -8.903648e-01 -8.486401e-01   \n",
       "50%     84692.000000  1.810880e-02  6.548556e-02  1.798463e-01 -1.984653e-02   \n",
       "75%    139320.500000  1.315642e+00  8.037239e-01  1.027196e+00  7.433413e-01   \n",
       "max    172792.000000  2.454930e+00  2.205773e+01  9.382558e+00  1.687534e+01   \n",
       "\n",
       "                 V5            V6            V7            V8            V9  \\\n",
       "count  2.848070e+05  2.848070e+05  2.848070e+05  2.848070e+05  2.848070e+05   \n",
       "mean   9.604066e-16  1.487313e-15 -5.556467e-16  1.213481e-16 -2.406331e-15   \n",
       "std    1.380247e+00  1.332271e+00  1.237094e+00  1.194353e+00  1.098632e+00   \n",
       "min   -1.137433e+02 -2.616051e+01 -4.355724e+01 -7.321672e+01 -1.343407e+01   \n",
       "25%   -6.915971e-01 -7.682956e-01 -5.540759e-01 -2.086297e-01 -6.430976e-01   \n",
       "50%   -5.433583e-02 -2.741871e-01  4.010308e-02  2.235804e-02 -5.142873e-02   \n",
       "75%    6.119264e-01  3.985649e-01  5.704361e-01  3.273459e-01  5.971390e-01   \n",
       "max    3.480167e+01  7.330163e+01  1.205895e+02  2.000721e+01  1.559499e+01   \n",
       "\n",
       "       ...           V21           V22           V23           V24  \\\n",
       "count  ...  2.848070e+05  2.848070e+05  2.848070e+05  2.848070e+05   \n",
       "mean   ...  1.654067e-16 -3.568593e-16  2.578648e-16  4.473266e-15   \n",
       "std    ...  7.345240e-01  7.257016e-01  6.244603e-01  6.056471e-01   \n",
       "min    ... -3.483038e+01 -1.093314e+01 -4.480774e+01 -2.836627e+00   \n",
       "25%    ... -2.283949e-01 -5.423504e-01 -1.618463e-01 -3.545861e-01   \n",
       "50%    ... -2.945017e-02  6.781943e-03 -1.119293e-02  4.097606e-02   \n",
       "75%    ...  1.863772e-01  5.285536e-01  1.476421e-01  4.395266e-01   \n",
       "max    ...  2.720284e+01  1.050309e+01  2.252841e+01  4.584549e+00   \n",
       "\n",
       "                V25           V26           V27           V28         Amount  \\\n",
       "count  2.848070e+05  2.848070e+05  2.848070e+05  2.848070e+05  284807.000000   \n",
       "mean   5.340915e-16  1.683437e-15 -3.660091e-16 -1.227390e-16      88.349619   \n",
       "std    5.212781e-01  4.822270e-01  4.036325e-01  3.300833e-01     250.120109   \n",
       "min   -1.029540e+01 -2.604551e+00 -2.256568e+01 -1.543008e+01       0.000000   \n",
       "25%   -3.171451e-01 -3.269839e-01 -7.083953e-02 -5.295979e-02       5.600000   \n",
       "50%    1.659350e-02 -5.213911e-02  1.342146e-03  1.124383e-02      22.000000   \n",
       "75%    3.507156e-01  2.409522e-01  9.104512e-02  7.827995e-02      77.165000   \n",
       "max    7.519589e+00  3.517346e+00  3.161220e+01  3.384781e+01   25691.160000   \n",
       "\n",
       "               Class  \n",
       "count  284807.000000  \n",
       "mean        0.001727  \n",
       "std         0.041527  \n",
       "min         0.000000  \n",
       "25%         0.000000  \n",
       "50%         0.000000  \n",
       "75%         0.000000  \n",
       "max         1.000000  \n",
       "\n",
       "[8 rows x 31 columns]"
      ]
     },
     "execution_count": 6,
     "metadata": {},
     "output_type": "execute_result"
    }
   ],
   "source": [
    "data.describe()"
   ]
  },
  {
   "cell_type": "markdown",
   "metadata": {},
   "source": [
    "### Data Visualization"
   ]
  },
  {
   "cell_type": "markdown",
   "metadata": {},
   "source": [
    "#### Time-based Transaction Density"
   ]
  },
  {
   "cell_type": "code",
   "execution_count": 7,
   "metadata": {},
   "outputs": [
    {
     "data": {
      "application/vnd.plotly.v1+json": {
       "config": {
        "plotlyServerURL": "https://plot.ly"
       },
       "data": [
        {
         "legendgroup": "Legit Transactions",
         "marker": {
          "color": "#519872"
         },
         "mode": "lines",
         "name": "Legit Transactions",
         "showlegend": true,
         "type": "scatter",
         "x": [
          0,
          345.584,
          691.168,
          1036.752,
          1382.336,
          1727.92,
          2073.504,
          2419.088,
          2764.672,
          3110.256,
          3455.84,
          3801.424,
          4147.008,
          4492.592,
          4838.176,
          5183.76,
          5529.344,
          5874.928,
          6220.512,
          6566.096,
          6911.68,
          7257.264,
          7602.848,
          7948.432,
          8294.016,
          8639.6,
          8985.184,
          9330.768,
          9676.352,
          10021.936,
          10367.52,
          10713.104,
          11058.688,
          11404.272,
          11749.856,
          12095.44,
          12441.024,
          12786.608,
          13132.192,
          13477.776,
          13823.36,
          14168.944,
          14514.528,
          14860.112,
          15205.696,
          15551.28,
          15896.864,
          16242.448,
          16588.032,
          16933.616,
          17279.2,
          17624.784,
          17970.368,
          18315.952,
          18661.536,
          19007.12,
          19352.704,
          19698.288,
          20043.872,
          20389.456,
          20735.04,
          21080.624,
          21426.208,
          21771.792,
          22117.376,
          22462.96,
          22808.544,
          23154.128,
          23499.712,
          23845.296,
          24190.88,
          24536.464,
          24882.048,
          25227.632,
          25573.216,
          25918.8,
          26264.384,
          26609.968,
          26955.552,
          27301.136,
          27646.72,
          27992.304,
          28337.888,
          28683.472,
          29029.056,
          29374.64,
          29720.224,
          30065.808,
          30411.392,
          30756.976,
          31102.56,
          31448.144,
          31793.728,
          32139.312,
          32484.896,
          32830.48,
          33176.064,
          33521.648,
          33867.232,
          34212.816,
          34558.4,
          34903.984,
          35249.568,
          35595.152,
          35940.736,
          36286.32,
          36631.904,
          36977.488,
          37323.072,
          37668.656,
          38014.24,
          38359.824,
          38705.408,
          39050.992,
          39396.576,
          39742.16,
          40087.744,
          40433.328,
          40778.912,
          41124.496,
          41470.08,
          41815.664,
          42161.248,
          42506.832,
          42852.416,
          43198,
          43543.584,
          43889.168,
          44234.752,
          44580.336,
          44925.92,
          45271.504,
          45617.088,
          45962.672,
          46308.256,
          46653.84,
          46999.424,
          47345.008,
          47690.592,
          48036.176,
          48381.76,
          48727.344,
          49072.928,
          49418.512,
          49764.096,
          50109.68,
          50455.264,
          50800.848,
          51146.432,
          51492.016,
          51837.6,
          52183.184,
          52528.768,
          52874.352,
          53219.936,
          53565.52,
          53911.104,
          54256.688,
          54602.272,
          54947.856,
          55293.44,
          55639.024,
          55984.608,
          56330.192,
          56675.776,
          57021.36,
          57366.944,
          57712.528,
          58058.112,
          58403.696,
          58749.28,
          59094.864,
          59440.448,
          59786.032,
          60131.616,
          60477.2,
          60822.784,
          61168.368,
          61513.952,
          61859.536,
          62205.12,
          62550.704,
          62896.288,
          63241.872,
          63587.456,
          63933.04,
          64278.624,
          64624.208,
          64969.792,
          65315.376,
          65660.96,
          66006.544,
          66352.128,
          66697.712,
          67043.296,
          67388.88,
          67734.464,
          68080.048,
          68425.632,
          68771.216,
          69116.8,
          69462.384,
          69807.968,
          70153.552,
          70499.136,
          70844.72,
          71190.304,
          71535.888,
          71881.472,
          72227.056,
          72572.64,
          72918.224,
          73263.808,
          73609.392,
          73954.976,
          74300.56,
          74646.144,
          74991.728,
          75337.312,
          75682.896,
          76028.48,
          76374.064,
          76719.648,
          77065.232,
          77410.816,
          77756.4,
          78101.984,
          78447.568,
          78793.152,
          79138.736,
          79484.32,
          79829.904,
          80175.488,
          80521.072,
          80866.656,
          81212.24,
          81557.824,
          81903.408,
          82248.992,
          82594.576,
          82940.16,
          83285.744,
          83631.328,
          83976.912,
          84322.496,
          84668.08,
          85013.664,
          85359.248,
          85704.832,
          86050.416,
          86396,
          86741.584,
          87087.168,
          87432.752,
          87778.336,
          88123.92,
          88469.504,
          88815.088,
          89160.672,
          89506.256,
          89851.84,
          90197.424,
          90543.008,
          90888.592,
          91234.176,
          91579.76,
          91925.344,
          92270.928,
          92616.512,
          92962.096,
          93307.68,
          93653.264,
          93998.848,
          94344.432,
          94690.016,
          95035.6,
          95381.184,
          95726.768,
          96072.352,
          96417.936,
          96763.52,
          97109.104,
          97454.688,
          97800.272,
          98145.856,
          98491.44,
          98837.024,
          99182.608,
          99528.192,
          99873.776,
          100219.36,
          100564.944,
          100910.528,
          101256.112,
          101601.696,
          101947.28,
          102292.864,
          102638.448,
          102984.032,
          103329.616,
          103675.2,
          104020.784,
          104366.368,
          104711.952,
          105057.536,
          105403.12,
          105748.704,
          106094.288,
          106439.872,
          106785.456,
          107131.04,
          107476.624,
          107822.208,
          108167.792,
          108513.376,
          108858.96,
          109204.544,
          109550.128,
          109895.712,
          110241.296,
          110586.88,
          110932.464,
          111278.048,
          111623.632,
          111969.216,
          112314.8,
          112660.384,
          113005.968,
          113351.552,
          113697.136,
          114042.72,
          114388.304,
          114733.888,
          115079.472,
          115425.056,
          115770.64,
          116116.224,
          116461.808,
          116807.392,
          117152.976,
          117498.56,
          117844.144,
          118189.728,
          118535.312,
          118880.896,
          119226.48,
          119572.064,
          119917.648,
          120263.232,
          120608.816,
          120954.4,
          121299.984,
          121645.568,
          121991.152,
          122336.736,
          122682.32,
          123027.904,
          123373.488,
          123719.072,
          124064.656,
          124410.24,
          124755.824,
          125101.408,
          125446.992,
          125792.576,
          126138.16,
          126483.744,
          126829.328,
          127174.912,
          127520.496,
          127866.08,
          128211.664,
          128557.248,
          128902.832,
          129248.416,
          129594,
          129939.584,
          130285.168,
          130630.752,
          130976.336,
          131321.92,
          131667.504,
          132013.088,
          132358.672,
          132704.256,
          133049.84,
          133395.424,
          133741.008,
          134086.592,
          134432.176,
          134777.76,
          135123.344,
          135468.928,
          135814.512,
          136160.096,
          136505.68,
          136851.264,
          137196.848,
          137542.432,
          137888.016,
          138233.6,
          138579.184,
          138924.768,
          139270.352,
          139615.936,
          139961.52,
          140307.104,
          140652.688,
          140998.272,
          141343.856,
          141689.44,
          142035.024,
          142380.608,
          142726.192,
          143071.776,
          143417.36,
          143762.944,
          144108.528,
          144454.112,
          144799.696,
          145145.28,
          145490.864,
          145836.448,
          146182.032,
          146527.616,
          146873.2,
          147218.784,
          147564.368,
          147909.952,
          148255.536,
          148601.12,
          148946.704,
          149292.288,
          149637.872,
          149983.456,
          150329.04,
          150674.624,
          151020.208,
          151365.792,
          151711.376,
          152056.96,
          152402.544,
          152748.128,
          153093.712,
          153439.296,
          153784.88,
          154130.464,
          154476.048,
          154821.632,
          155167.216,
          155512.8,
          155858.384,
          156203.968,
          156549.552,
          156895.136,
          157240.72,
          157586.304,
          157931.888,
          158277.472,
          158623.056,
          158968.64,
          159314.224,
          159659.808,
          160005.392,
          160350.976,
          160696.56,
          161042.144,
          161387.728,
          161733.312,
          162078.896,
          162424.48,
          162770.064,
          163115.648,
          163461.232,
          163806.816,
          164152.4,
          164497.984,
          164843.568,
          165189.152,
          165534.736,
          165880.32,
          166225.904,
          166571.488,
          166917.072,
          167262.656,
          167608.24,
          167953.824,
          168299.408,
          168644.992,
          168990.576,
          169336.16,
          169681.744,
          170027.328,
          170372.912,
          170718.496,
          171064.08,
          171409.664,
          171755.248,
          172100.832,
          172446.416
         ],
         "xaxis": "x",
         "y": {
          "bdata": "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",
          "dtype": "f8"
         },
         "yaxis": "y"
        },
        {
         "legendgroup": "Fraud Transactions",
         "marker": {
          "color": "#041b15"
         },
         "mode": "lines",
         "name": "Fraud Transactions",
         "showlegend": true,
         "type": "scatter",
         "x": [
          406,
          745.884,
          1085.768,
          1425.652,
          1765.536,
          2105.42,
          2445.304,
          2785.188,
          3125.072,
          3464.956,
          3804.84,
          4144.724,
          4484.608,
          4824.492,
          5164.376,
          5504.26,
          5844.144,
          6184.028,
          6523.912,
          6863.796,
          7203.68,
          7543.564,
          7883.448,
          8223.332,
          8563.216,
          8903.1,
          9242.984,
          9582.868,
          9922.752,
          10262.636,
          10602.52,
          10942.404,
          11282.288,
          11622.172,
          11962.056,
          12301.94,
          12641.824,
          12981.708,
          13321.592,
          13661.476,
          14001.36,
          14341.244,
          14681.128,
          15021.012,
          15360.896,
          15700.78,
          16040.664,
          16380.548,
          16720.432,
          17060.316,
          17400.2,
          17740.084,
          18079.968,
          18419.852,
          18759.736,
          19099.62,
          19439.504,
          19779.388,
          20119.272,
          20459.156,
          20799.04,
          21138.924,
          21478.808,
          21818.692,
          22158.576,
          22498.46,
          22838.344,
          23178.228,
          23518.112,
          23857.996,
          24197.88,
          24537.764,
          24877.648,
          25217.532,
          25557.416,
          25897.3,
          26237.184,
          26577.068,
          26916.952,
          27256.836,
          27596.72,
          27936.604,
          28276.488,
          28616.372,
          28956.256,
          29296.14,
          29636.024,
          29975.908,
          30315.792,
          30655.676,
          30995.56,
          31335.444,
          31675.328,
          32015.212,
          32355.096,
          32694.98,
          33034.864,
          33374.748,
          33714.632,
          34054.516,
          34394.4,
          34734.284,
          35074.168,
          35414.052,
          35753.936,
          36093.82,
          36433.704,
          36773.588,
          37113.472,
          37453.356,
          37793.24,
          38133.124,
          38473.008,
          38812.892,
          39152.776,
          39492.66,
          39832.544,
          40172.428,
          40512.312,
          40852.196,
          41192.08,
          41531.964,
          41871.848,
          42211.732,
          42551.616,
          42891.5,
          43231.384,
          43571.268,
          43911.152,
          44251.036,
          44590.92,
          44930.804,
          45270.688,
          45610.572,
          45950.456,
          46290.34,
          46630.224,
          46970.108,
          47309.992,
          47649.876,
          47989.76,
          48329.644,
          48669.528,
          49009.412,
          49349.296,
          49689.18,
          50029.064,
          50368.948,
          50708.832,
          51048.716,
          51388.6,
          51728.484,
          52068.368,
          52408.252,
          52748.136,
          53088.02,
          53427.904,
          53767.788,
          54107.672,
          54447.556,
          54787.44,
          55127.324,
          55467.208,
          55807.092,
          56146.976,
          56486.86,
          56826.744,
          57166.628,
          57506.512,
          57846.396,
          58186.28,
          58526.164,
          58866.048,
          59205.932,
          59545.816,
          59885.7,
          60225.584,
          60565.468,
          60905.352,
          61245.236,
          61585.12,
          61925.004,
          62264.888,
          62604.772,
          62944.656,
          63284.54,
          63624.424,
          63964.308,
          64304.192,
          64644.076,
          64983.96,
          65323.844,
          65663.728,
          66003.612,
          66343.496,
          66683.38,
          67023.264,
          67363.148,
          67703.032,
          68042.916,
          68382.8,
          68722.684,
          69062.568,
          69402.452,
          69742.336,
          70082.22,
          70422.104,
          70761.988,
          71101.872,
          71441.756,
          71781.64,
          72121.524,
          72461.408,
          72801.292,
          73141.176,
          73481.06,
          73820.944,
          74160.828,
          74500.712,
          74840.596,
          75180.48,
          75520.364,
          75860.248,
          76200.132,
          76540.016,
          76879.9,
          77219.784,
          77559.668,
          77899.552,
          78239.436,
          78579.32,
          78919.204,
          79259.088,
          79598.972,
          79938.856,
          80278.74,
          80618.624,
          80958.508,
          81298.392,
          81638.276,
          81978.16,
          82318.044,
          82657.928,
          82997.812,
          83337.696,
          83677.58,
          84017.464,
          84357.348,
          84697.232,
          85037.116,
          85377,
          85716.884,
          86056.768,
          86396.652,
          86736.536,
          87076.42,
          87416.304,
          87756.188,
          88096.072,
          88435.956,
          88775.84,
          89115.724,
          89455.608,
          89795.492,
          90135.376,
          90475.26,
          90815.144,
          91155.028,
          91494.912,
          91834.796,
          92174.68,
          92514.564,
          92854.448,
          93194.332,
          93534.216,
          93874.1,
          94213.984,
          94553.868,
          94893.752,
          95233.636,
          95573.52,
          95913.404,
          96253.288,
          96593.172,
          96933.056,
          97272.94,
          97612.824,
          97952.708,
          98292.592,
          98632.476,
          98972.36,
          99312.244,
          99652.128,
          99992.012,
          100331.896,
          100671.78,
          101011.664,
          101351.548,
          101691.432,
          102031.316,
          102371.2,
          102711.084,
          103050.968,
          103390.852,
          103730.736,
          104070.62,
          104410.504,
          104750.388,
          105090.272,
          105430.156,
          105770.04,
          106109.924,
          106449.808,
          106789.692,
          107129.576,
          107469.46,
          107809.344,
          108149.228,
          108489.112,
          108828.996,
          109168.88,
          109508.764,
          109848.648,
          110188.532,
          110528.416,
          110868.3,
          111208.184,
          111548.068,
          111887.952,
          112227.836,
          112567.72,
          112907.604,
          113247.488,
          113587.372,
          113927.256,
          114267.14,
          114607.024,
          114946.908,
          115286.792,
          115626.676,
          115966.56,
          116306.444,
          116646.328,
          116986.212,
          117326.096,
          117665.98,
          118005.864,
          118345.748,
          118685.632,
          119025.516,
          119365.4,
          119705.284,
          120045.168,
          120385.052,
          120724.936,
          121064.82,
          121404.704,
          121744.588,
          122084.472,
          122424.356,
          122764.24,
          123104.124,
          123444.008,
          123783.892,
          124123.776,
          124463.66,
          124803.544,
          125143.428,
          125483.312,
          125823.196,
          126163.08,
          126502.964,
          126842.848,
          127182.732,
          127522.616,
          127862.5,
          128202.384,
          128542.268,
          128882.152,
          129222.036,
          129561.92,
          129901.804,
          130241.688,
          130581.572,
          130921.456,
          131261.34,
          131601.224,
          131941.108,
          132280.992,
          132620.876,
          132960.76,
          133300.644,
          133640.528,
          133980.412,
          134320.296,
          134660.18,
          135000.064,
          135339.948,
          135679.832,
          136019.716,
          136359.6,
          136699.484,
          137039.368,
          137379.252,
          137719.136,
          138059.02,
          138398.904,
          138738.788,
          139078.672,
          139418.556,
          139758.44,
          140098.324,
          140438.208,
          140778.092,
          141117.976,
          141457.86,
          141797.744,
          142137.628,
          142477.512,
          142817.396,
          143157.28,
          143497.164,
          143837.048,
          144176.932,
          144516.816,
          144856.7,
          145196.584,
          145536.468,
          145876.352,
          146216.236,
          146556.12,
          146896.004,
          147235.888,
          147575.772,
          147915.656,
          148255.54,
          148595.424,
          148935.308,
          149275.192,
          149615.076,
          149954.96,
          150294.844,
          150634.728,
          150974.612,
          151314.496,
          151654.38,
          151994.264,
          152334.148,
          152674.032,
          153013.916,
          153353.8,
          153693.684,
          154033.568,
          154373.452,
          154713.336,
          155053.22,
          155393.104,
          155732.988,
          156072.872,
          156412.756,
          156752.64,
          157092.524,
          157432.408,
          157772.292,
          158112.176,
          158452.06,
          158791.944,
          159131.828,
          159471.712,
          159811.596,
          160151.48,
          160491.364,
          160831.248,
          161171.132,
          161511.016,
          161850.9,
          162190.784,
          162530.668,
          162870.552,
          163210.436,
          163550.32,
          163890.204,
          164230.088,
          164569.972,
          164909.856,
          165249.74,
          165589.624,
          165929.508,
          166269.392,
          166609.276,
          166949.16,
          167289.044,
          167628.928,
          167968.812,
          168308.696,
          168648.58,
          168988.464,
          169328.348,
          169668.232,
          170008.116
         ],
         "xaxis": "x",
         "y": {
          "bdata": "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",
          "dtype": "f8"
         },
         "yaxis": "y"
        }
       ],
       "layout": {
        "barmode": "overlay",
        "height": 500,
        "hovermode": "closest",
        "legend": {
         "traceorder": "reversed"
        },
        "template": {
         "data": {
          "bar": [
           {
            "error_x": {
             "color": "#2a3f5f"
            },
            "error_y": {
             "color": "#2a3f5f"
            },
            "marker": {
             "line": {
              "color": "#E5ECF6",
              "width": 0.5
             },
             "pattern": {
              "fillmode": "overlay",
              "size": 10,
              "solidity": 0.2
             }
            },
            "type": "bar"
           }
          ],
          "barpolar": [
           {
            "marker": {
             "line": {
              "color": "#E5ECF6",
              "width": 0.5
             },
             "pattern": {
              "fillmode": "overlay",
              "size": 10,
              "solidity": 0.2
             }
            },
            "type": "barpolar"
           }
          ],
          "carpet": [
           {
            "aaxis": {
             "endlinecolor": "#2a3f5f",
             "gridcolor": "white",
             "linecolor": "white",
             "minorgridcolor": "white",
             "startlinecolor": "#2a3f5f"
            },
            "baxis": {
             "endlinecolor": "#2a3f5f",
             "gridcolor": "white",
             "linecolor": "white",
             "minorgridcolor": "white",
             "startlinecolor": "#2a3f5f"
            },
            "type": "carpet"
           }
          ],
          "choropleth": [
           {
            "colorbar": {
             "outlinewidth": 0,
             "ticks": ""
            },
            "type": "choropleth"
           }
          ],
          "contour": [
           {
            "colorbar": {
             "outlinewidth": 0,
             "ticks": ""
            },
            "colorscale": [
             [
              0,
              "#0d0887"
             ],
             [
              0.1111111111111111,
              "#46039f"
             ],
             [
              0.2222222222222222,
              "#7201a8"
             ],
             [
              0.3333333333333333,
              "#9c179e"
             ],
             [
              0.4444444444444444,
              "#bd3786"
             ],
             [
              0.5555555555555556,
              "#d8576b"
             ],
             [
              0.6666666666666666,
              "#ed7953"
             ],
             [
              0.7777777777777778,
              "#fb9f3a"
             ],
             [
              0.8888888888888888,
              "#fdca26"
             ],
             [
              1,
              "#f0f921"
             ]
            ],
            "type": "contour"
           }
          ],
          "contourcarpet": [
           {
            "colorbar": {
             "outlinewidth": 0,
             "ticks": ""
            },
            "type": "contourcarpet"
           }
          ],
          "heatmap": [
           {
            "colorbar": {
             "outlinewidth": 0,
             "ticks": ""
            },
            "colorscale": [
             [
              0,
              "#0d0887"
             ],
             [
              0.1111111111111111,
              "#46039f"
             ],
             [
              0.2222222222222222,
              "#7201a8"
             ],
             [
              0.3333333333333333,
              "#9c179e"
             ],
             [
              0.4444444444444444,
              "#bd3786"
             ],
             [
              0.5555555555555556,
              "#d8576b"
             ],
             [
              0.6666666666666666,
              "#ed7953"
             ],
             [
              0.7777777777777778,
              "#fb9f3a"
             ],
             [
              0.8888888888888888,
              "#fdca26"
             ],
             [
              1,
              "#f0f921"
             ]
            ],
            "type": "heatmap"
           }
          ],
          "histogram": [
           {
            "marker": {
             "pattern": {
              "fillmode": "overlay",
              "size": 10,
              "solidity": 0.2
             }
            },
            "type": "histogram"
           }
          ],
          "histogram2d": [
           {
            "colorbar": {
             "outlinewidth": 0,
             "ticks": ""
            },
            "colorscale": [
             [
              0,
              "#0d0887"
             ],
             [
              0.1111111111111111,
              "#46039f"
             ],
             [
              0.2222222222222222,
              "#7201a8"
             ],
             [
              0.3333333333333333,
              "#9c179e"
             ],
             [
              0.4444444444444444,
              "#bd3786"
             ],
             [
              0.5555555555555556,
              "#d8576b"
             ],
             [
              0.6666666666666666,
              "#ed7953"
             ],
             [
              0.7777777777777778,
              "#fb9f3a"
             ],
             [
              0.8888888888888888,
              "#fdca26"
             ],
             [
              1,
              "#f0f921"
             ]
            ],
            "type": "histogram2d"
           }
          ],
          "histogram2dcontour": [
           {
            "colorbar": {
             "outlinewidth": 0,
             "ticks": ""
            },
            "colorscale": [
             [
              0,
              "#0d0887"
             ],
             [
              0.1111111111111111,
              "#46039f"
             ],
             [
              0.2222222222222222,
              "#7201a8"
             ],
             [
              0.3333333333333333,
              "#9c179e"
             ],
             [
              0.4444444444444444,
              "#bd3786"
             ],
             [
              0.5555555555555556,
              "#d8576b"
             ],
             [
              0.6666666666666666,
              "#ed7953"
             ],
             [
              0.7777777777777778,
              "#fb9f3a"
             ],
             [
              0.8888888888888888,
              "#fdca26"
             ],
             [
              1,
              "#f0f921"
             ]
            ],
            "type": "histogram2dcontour"
           }
          ],
          "mesh3d": [
           {
            "colorbar": {
             "outlinewidth": 0,
             "ticks": ""
            },
            "type": "mesh3d"
           }
          ],
          "parcoords": [
           {
            "line": {
             "colorbar": {
              "outlinewidth": 0,
              "ticks": ""
             }
            },
            "type": "parcoords"
           }
          ],
          "pie": [
           {
            "automargin": true,
            "type": "pie"
           }
          ],
          "scatter": [
           {
            "fillpattern": {
             "fillmode": "overlay",
             "size": 10,
             "solidity": 0.2
            },
            "type": "scatter"
           }
          ],
          "scatter3d": [
           {
            "line": {
             "colorbar": {
              "outlinewidth": 0,
              "ticks": ""
             }
            },
            "marker": {
             "colorbar": {
              "outlinewidth": 0,
              "ticks": ""
             }
            },
            "type": "scatter3d"
           }
          ],
          "scattercarpet": [
           {
            "marker": {
             "colorbar": {
              "outlinewidth": 0,
              "ticks": ""
             }
            },
            "type": "scattercarpet"
           }
          ],
          "scattergeo": [
           {
            "marker": {
             "colorbar": {
              "outlinewidth": 0,
              "ticks": ""
             }
            },
            "type": "scattergeo"
           }
          ],
          "scattergl": [
           {
            "marker": {
             "colorbar": {
              "outlinewidth": 0,
              "ticks": ""
             }
            },
            "type": "scattergl"
           }
          ],
          "scattermap": [
           {
            "marker": {
             "colorbar": {
              "outlinewidth": 0,
              "ticks": ""
             }
            },
            "type": "scattermap"
           }
          ],
          "scattermapbox": [
           {
            "marker": {
             "colorbar": {
              "outlinewidth": 0,
              "ticks": ""
             }
            },
            "type": "scattermapbox"
           }
          ],
          "scatterpolar": [
           {
            "marker": {
             "colorbar": {
              "outlinewidth": 0,
              "ticks": ""
             }
            },
            "type": "scatterpolar"
           }
          ],
          "scatterpolargl": [
           {
            "marker": {
             "colorbar": {
              "outlinewidth": 0,
              "ticks": ""
             }
            },
            "type": "scatterpolargl"
           }
          ],
          "scatterternary": [
           {
            "marker": {
             "colorbar": {
              "outlinewidth": 0,
              "ticks": ""
             }
            },
            "type": "scatterternary"
           }
          ],
          "surface": [
           {
            "colorbar": {
             "outlinewidth": 0,
             "ticks": ""
            },
            "colorscale": [
             [
              0,
              "#0d0887"
             ],
             [
              0.1111111111111111,
              "#46039f"
             ],
             [
              0.2222222222222222,
              "#7201a8"
             ],
             [
              0.3333333333333333,
              "#9c179e"
             ],
             [
              0.4444444444444444,
              "#bd3786"
             ],
             [
              0.5555555555555556,
              "#d8576b"
             ],
             [
              0.6666666666666666,
              "#ed7953"
             ],
             [
              0.7777777777777778,
              "#fb9f3a"
             ],
             [
              0.8888888888888888,
              "#fdca26"
             ],
             [
              1,
              "#f0f921"
             ]
            ],
            "type": "surface"
           }
          ],
          "table": [
           {
            "cells": {
             "fill": {
              "color": "#EBF0F8"
             },
             "line": {
              "color": "white"
             }
            },
            "header": {
             "fill": {
              "color": "#C8D4E3"
             },
             "line": {
              "color": "white"
             }
            },
            "type": "table"
           }
          ]
         },
         "layout": {
          "annotationdefaults": {
           "arrowcolor": "#2a3f5f",
           "arrowhead": 0,
           "arrowwidth": 1
          },
          "autotypenumbers": "strict",
          "coloraxis": {
           "colorbar": {
            "outlinewidth": 0,
            "ticks": ""
           }
          },
          "colorscale": {
           "diverging": [
            [
             0,
             "#8e0152"
            ],
            [
             0.1,
             "#c51b7d"
            ],
            [
             0.2,
             "#de77ae"
            ],
            [
             0.3,
             "#f1b6da"
            ],
            [
             0.4,
             "#fde0ef"
            ],
            [
             0.5,
             "#f7f7f7"
            ],
            [
             0.6,
             "#e6f5d0"
            ],
            [
             0.7,
             "#b8e186"
            ],
            [
             0.8,
             "#7fbc41"
            ],
            [
             0.9,
             "#4d9221"
            ],
            [
             1,
             "#276419"
            ]
           ],
           "sequential": [
            [
             0,
             "#0d0887"
            ],
            [
             0.1111111111111111,
             "#46039f"
            ],
            [
             0.2222222222222222,
             "#7201a8"
            ],
            [
             0.3333333333333333,
             "#9c179e"
            ],
            [
             0.4444444444444444,
             "#bd3786"
            ],
            [
             0.5555555555555556,
             "#d8576b"
            ],
            [
             0.6666666666666666,
             "#ed7953"
            ],
            [
             0.7777777777777778,
             "#fb9f3a"
            ],
            [
             0.8888888888888888,
             "#fdca26"
            ],
            [
             1,
             "#f0f921"
            ]
           ],
           "sequentialminus": [
            [
             0,
             "#0d0887"
            ],
            [
             0.1111111111111111,
             "#46039f"
            ],
            [
             0.2222222222222222,
             "#7201a8"
            ],
            [
             0.3333333333333333,
             "#9c179e"
            ],
            [
             0.4444444444444444,
             "#bd3786"
            ],
            [
             0.5555555555555556,
             "#d8576b"
            ],
            [
             0.6666666666666666,
             "#ed7953"
            ],
            [
             0.7777777777777778,
             "#fb9f3a"
            ],
            [
             0.8888888888888888,
             "#fdca26"
            ],
            [
             1,
             "#f0f921"
            ]
           ]
          },
          "colorway": [
           "#636efa",
           "#EF553B",
           "#00cc96",
           "#ab63fa",
           "#FFA15A",
           "#19d3f3",
           "#FF6692",
           "#B6E880",
           "#FF97FF",
           "#FECB52"
          ],
          "font": {
           "color": "#2a3f5f"
          },
          "geo": {
           "bgcolor": "white",
           "lakecolor": "white",
           "landcolor": "#E5ECF6",
           "showlakes": true,
           "showland": true,
           "subunitcolor": "white"
          },
          "hoverlabel": {
           "align": "left"
          },
          "hovermode": "closest",
          "mapbox": {
           "style": "light"
          },
          "paper_bgcolor": "white",
          "plot_bgcolor": "#E5ECF6",
          "polar": {
           "angularaxis": {
            "gridcolor": "white",
            "linecolor": "white",
            "ticks": ""
           },
           "bgcolor": "#E5ECF6",
           "radialaxis": {
            "gridcolor": "white",
            "linecolor": "white",
            "ticks": ""
           }
          },
          "scene": {
           "xaxis": {
            "backgroundcolor": "#E5ECF6",
            "gridcolor": "white",
            "gridwidth": 2,
            "linecolor": "white",
            "showbackground": true,
            "ticks": "",
            "zerolinecolor": "white"
           },
           "yaxis": {
            "backgroundcolor": "#E5ECF6",
            "gridcolor": "white",
            "gridwidth": 2,
            "linecolor": "white",
            "showbackground": true,
            "ticks": "",
            "zerolinecolor": "white"
           },
           "zaxis": {
            "backgroundcolor": "#E5ECF6",
            "gridcolor": "white",
            "gridwidth": 2,
            "linecolor": "white",
            "showbackground": true,
            "ticks": "",
            "zerolinecolor": "white"
           }
          },
          "shapedefaults": {
           "line": {
            "color": "#2a3f5f"
           }
          },
          "ternary": {
           "aaxis": {
            "gridcolor": "white",
            "linecolor": "white",
            "ticks": ""
           },
           "baxis": {
            "gridcolor": "white",
            "linecolor": "white",
            "ticks": ""
           },
           "bgcolor": "#E5ECF6",
           "caxis": {
            "gridcolor": "white",
            "linecolor": "white",
            "ticks": ""
           }
          },
          "title": {
           "x": 0.05
          },
          "xaxis": {
           "automargin": true,
           "gridcolor": "white",
           "linecolor": "white",
           "ticks": "",
           "title": {
            "standoff": 15
           },
           "zerolinecolor": "white",
           "zerolinewidth": 2
          },
          "yaxis": {
           "automargin": true,
           "gridcolor": "white",
           "linecolor": "white",
           "ticks": "",
           "title": {
            "standoff": 15
           },
           "zerolinecolor": "white",
           "zerolinewidth": 2
          }
         }
        },
        "title": {
         "text": "Time-based Transaction Density"
        },
        "width": 900,
        "xaxis": {
         "anchor": "y2",
         "domain": [
          0,
          1
         ],
         "title": {
          "text": "Time"
         },
         "zeroline": false
        },
        "yaxis": {
         "anchor": "free",
         "domain": [
          0,
          1
         ],
         "position": 0
        }
       }
      },
      "text/html": [
       "<div>            <script src=\"https://cdnjs.cloudflare.com/ajax/libs/mathjax/2.7.5/MathJax.js?config=TeX-AMS-MML_SVG\"></script><script type=\"text/javascript\">if (window.MathJax && window.MathJax.Hub && window.MathJax.Hub.Config) {window.MathJax.Hub.Config({SVG: {font: \"STIX-Web\"}});}</script>                <script type=\"text/javascript\">window.PlotlyConfig = {MathJaxConfig: 'local'};</script>\n",
       "        <script charset=\"utf-8\" src=\"https://cdn.plot.ly/plotly-3.0.0.min.js\"></script>                <div id=\"9d6d41f1-9604-4e81-b16b-e9da644be4c9\" class=\"plotly-graph-div\" style=\"height:500px; width:900px;\"></div>            <script type=\"text/javascript\">                window.PLOTLYENV=window.PLOTLYENV || {};                                if (document.getElementById(\"9d6d41f1-9604-4e81-b16b-e9da644be4c9\")) {                    Plotly.newPlot(                        \"9d6d41f1-9604-4e81-b16b-e9da644be4c9\",                        [{\"legendgroup\":\"Legit Transactions\",\"marker\":{\"color\":\"#519872\"},\"mode\":\"lines\",\"name\":\"Legit Transactions\",\"showlegend\":true,\"x\":[0.0,345.584,691.168,1036.752,1382.336,1727.92,2073.504,2419.088,2764.672,3110.256,3455.84,3801.424,4147.008,4492.592,4838.176,5183.76,5529.344,5874.928,6220.512,6566.096,6911.68,7257.264,7602.848,7948.432,8294.016,8639.6,8985.184,9330.768,9676.352,10021.936,10367.52,10713.104,11058.688,11404.272,11749.856,12095.44,12441.024,12786.608,13132.192,13477.776,13823.36,14168.944,14514.528,14860.112,15205.696,15551.28,15896.864,16242.448,16588.032,16933.616,17279.2,17624.784,17970.368,18315.952,18661.536,19007.12,19352.704,19698.288,20043.872,20389.456,20735.04,21080.624,21426.208,21771.792,22117.376,22462.96,22808.544,23154.128,23499.712,23845.296,24190.88,24536.464,24882.048,25227.632,25573.216,25918.8,26264.384,26609.968,26955.552,27301.136,27646.72,27992.304,28337.888,28683.472,29029.056,29374.64,29720.224,30065.808,30411.392,30756.976,31102.56,31448.144,31793.728,32139.312,32484.896,32830.48,33176.064,33521.648,33867.232,34212.816,34558.4,34903.984,35249.568,35595.152,35940.736,36286.32,36631.904,36977.488,37323.072,37668.656,38014.24,38359.824,38705.408,39050.992,39396.576,39742.16,40087.744,40433.328,40778.912,41124.496,41470.08,41815.664,42161.248,42506.832,42852.416,43198.0,43543.584,43889.168,44234.752,44580.336,44925.92,45271.504,45617.088,45962.672,46308.256,46653.84,46999.424,47345.008,47690.592,48036.176,48381.76,48727.344,49072.928,49418.512,49764.096,50109.68,50455.264,50800.848,51146.432,51492.016,51837.6,52183.184,52528.768,52874.352,53219.936,53565.52,53911.104,54256.688,54602.272,54947.856,55293.44,55639.024,55984.608,56330.192,56675.776,57021.36,57366.944,57712.528,58058.112,58403.696,58749.28,59094.864,59440.448,59786.032,60131.616,60477.2,60822.784,61168.368,61513.952,61859.536,62205.12,62550.704,62896.288,63241.872,63587.456,63933.04,64278.624,64624.208,64969.792,65315.376,65660.96,66006.544,66352.128,66697.712,67043.296,67388.88,67734.464,68080.048,68425.632,68771.216,69116.8,69462.384,69807.968,70153.552,70499.136,70844.72,71190.304,71535.888,71881.472,72227.056,72572.64,72918.224,73263.808,73609.392,73954.976,74300.56,74646.144,74991.728,75337.312,75682.896,76028.48,76374.064,76719.648,77065.232,77410.816,77756.4,78101.984,78447.568,78793.152,79138.736,79484.32,79829.904,80175.488,80521.072,80866.656,81212.24,81557.824,81903.408,82248.992,82594.576,82940.16,83285.744,83631.328,83976.912,84322.496,84668.08,85013.664,85359.248,85704.832,86050.416,86396.0,86741.584,87087.168,87432.752,87778.336,88123.92,88469.504,88815.088,89160.672,89506.256,89851.84,90197.424,90543.008,90888.592,91234.176,91579.76,91925.344,92270.928,92616.512,92962.096,93307.68,93653.264,93998.848,94344.432,94690.016,95035.6,95381.184,95726.768,96072.352,96417.936,96763.52,97109.104,97454.688,97800.272,98145.856,98491.44,98837.024,99182.608,99528.192,99873.776,100219.36,100564.944,100910.528,101256.112,101601.696,101947.28,102292.864,102638.448,102984.032,103329.616,103675.2,104020.784,104366.368,104711.952,105057.536,105403.12,105748.704,106094.288,106439.872,106785.456,107131.04,107476.624,107822.208,108167.792,108513.376,108858.96,109204.544,109550.128,109895.712,110241.296,110586.88,110932.464,111278.048,111623.632,111969.216,112314.8,112660.384,113005.968,113351.552,113697.136,114042.72,114388.304,114733.888,115079.472,115425.056,115770.64,116116.224,116461.808,116807.392,117152.976,117498.56,117844.144,118189.728,118535.312,118880.896,119226.48,119572.064,119917.648,120263.232,120608.816,120954.4,121299.984,121645.568,121991.152,122336.736,122682.32,123027.904,123373.488,123719.072,124064.656,124410.24,124755.824,125101.408,125446.992,125792.576,126138.16,126483.744,126829.328,127174.912,127520.496,127866.08,128211.664,128557.248,128902.832,129248.416,129594.0,129939.584,130285.168,130630.752,130976.336,131321.92,131667.504,132013.088,132358.672,132704.256,133049.84,133395.424,133741.008,134086.592,134432.176,134777.76,135123.344,135468.928,135814.512,136160.096,136505.68,136851.264,137196.848,137542.432,137888.016,138233.6,138579.184,138924.768,139270.352,139615.936,139961.52,140307.104,140652.688,140998.272,141343.856,141689.44,142035.024,142380.608,142726.192,143071.776,143417.36,143762.944,144108.528,144454.112,144799.696,145145.28,145490.864,145836.448,146182.032,146527.616,146873.2,147218.784,147564.368,147909.952,148255.536,148601.12,148946.704,149292.288,149637.872,149983.456,150329.04,150674.624,151020.208,151365.792,151711.376,152056.96,152402.544,152748.128,153093.712,153439.296,153784.88,154130.464,154476.048,154821.632,155167.216,155512.8,155858.384,156203.968,156549.552,156895.136,157240.72,157586.304,157931.888,158277.472,158623.056,158968.64,159314.224,159659.808,160005.392,160350.976,160696.56,161042.144,161387.728,161733.312,162078.896,162424.48,162770.064,163115.648,163461.232,163806.816,164152.4,164497.984,164843.568,165189.152,165534.736,165880.32,166225.904,166571.488,166917.072,167262.656,167608.24,167953.824,168299.408,168644.992,168990.576,169336.16,169681.744,170027.328,170372.912,170718.496,171064.08,171409.664,171755.248,172100.832,172446.416],\"xaxis\":\"x\",\"y\":{\"dtype\":\"f8\",\"bdata\":\"kfirQw16vD5z+HHwugS+PjcSGZSFdb8+3tMrFwVkwD7AQ5OzQfzAPnqY2N3ygcE+hctMi\\u002frzwT5tzzRrqVHCPouKd9HBmsI+ab+8bHbPwj5ARSfhZPDCPt0yZZSM\\u002fsI+wam2JkL7wj6i\\u002fBU8IOjCPtCHrVb2xsI+sim8lraZwj6IJyc7Y2LCPsI3Nrn8IsI+ftUDMnHdwT6d1FzyjZPBPkKR+IfzRsE+++pazwz5wD5LbccyCavAPghf9ibaXcA+poElyDMSwD56PbSnIJG\\u002fPi46JjZsAr8+RAle3n54vj61WL30R\\u002fO9PtJfLdeFcr0+lIgMu9r1vD7FT1nP4Hy8PkVmqK48B7w+JBqdRa2Uuz5Cha6EGCW7PgsQ2WuUuLo+IUYtOWxPuj71esu8Ieq5PshU0Qpribk+bw9z8ywuuT5YtszQctm4Pmu+UFdkjLg+o4YVKDpIuD4HnjjrMQ64PiaNRrSC37c+HObHY1K9tz7mU\\u002fagrKi3PjAu0eZ7orc+wDNM+oSrtz4pmF32ZMS3PrDqoPCR7bc+S\\u002f17EF4nuD5wwnzN\\u002fHG4PtcAEuqJzbg+KQSHpxE6uT4MQpOgmbe5Pm3TmbEpRro+NbYMWdTluj5NXNsGvpa7PvJiXeYiWbw+jpU8yVotvT7+IYX52hO+Ppv199o1Db8+lwrSMgwNwD5jdqzRop3APiu9UTrIOME+4IaG++newT415Ap6dZDCPuN6LmPTTcM+8zFYEGMXxD51DQcNdu3EPsNuo+lL0MU+b8pLfA7Axj6KcpimzrzHPnjjIa2Bxsg+4vlXJP\\u002fcyT7nrrlu\\u002f\\u002f\\u002fKPliPTsMaL8w+O\\u002f2tsMhpzT45JeAQYK\\u002fOPvlFqGQX\\u002f88+hTdeyAKs0D5Ujid+kVzRPp1XnYqlENI+TQcaIZ\\u002fH0j4mtO4m0oDTPgTL5KqHO9Q+eXMRo\\u002f\\u002f21D4xfdTycrLVPnJ\\u002fL7cVbdY+i2YP0xkm1z7VVhKwsdzXPh2pQSMTkNg+ivenYHo\\u002f2T660hvlLOrZPhuDdDt8j9o+xxX1gcgu2z4x1DGWgsfbPi+OCtEtWdw+FgRbQWHj3D5hNGZayGXdPqFYThIj4N0+gWCbdEVS3j7y8FO0FrzePmxe98+PHd8+0Ug837l23z5BJXUmrMffPturzwZFCOA+QXWljMAo4D50kd+AY0XgPnDdlQBMXuA+sSBPtppz4D62uZpScoXgPkv8DDT3k+A+oQFJPk+f4D5\\u002flUbcoafgPvLR2yYYreA+yTrxJd2v4D4o69QgHrDgPl+r+vAKruA+v9AqStap4D4vvrPrtaPgPr15lq\\u002fim+A+CfPGbpiS4D6lRlG0FYjgPqqNWzybfOA+SPZcP2tw4D5rkUmNyGPgPsJyqX\\u002f1VuA+mLVmzDJK4D7QimVFvj3gPnKXkZLRMeA+mt\\u002fd9KAm4D7HGbcgWhzgPi7Bnj0jE+A+nzwgFxoL4D4z2CuJUwTgPnK1gV62\\u002fd8+wKy0tWb13z6NAemkqu\\u002ffPk0\\u002fzK5j7N8+dGqz22Pr3z5vOB2\\u002fb+zfPjZrm99A798+pxt0aojz3z5iBs8Z8vjfPqIU1zIn\\u002f98+Q2ttwOgC4D5onI0ZTwbgPk8ARkKgCeA+W+ubC7oM4D4tGRR4fw\\u002fgPgZ+QoLZEeA+3X99prcT4D5ueZssEBXgPnl9IDHgFeA++LTJbysW4D47tNrT+xXgPseF3NRgFeA+UZCAqG4U4D7wIvdTPRPgPkX5J6jnEeA+nkbGNIoQ4D7fhiQ+Qg\\u002fgPhiI8sAsDuA+qHu6jWUN4D7UtxKEBg3gPku7MPMmDeA+har+ItsN4D7l8TUGNA\\u002fgPgd9ghM\\u002fEeA+kmWCQQYU4D59SsIfkBfgPuQewAXgG+A+IJ6ZUPYg4D74GF6o0CbgPsYo+EZqLeA+9DAwPLw04D5QkTisvTzgPhNBVAhkReA+IsU7Q6NO4D6hlbAEbljgPtyw\\u002fOC1YuA+Fd+\\u002fmWtt4D7vU0ptf3jgPjn30njhg+A+FPIiMIKP4D7XwPfqUpvgPiZAk4VGp+A+rJP2DlKz4D4H22F8bb\\u002fgPrbaMVeUy+A+Y4ZbWMbX4D4MFczjB+TgPjcrAlZi8OA+47ZaF+T84D499MJqoAnhPt0nqvCuFuE+p9D02iok4T5U5hTTMTLhPu3D95fiQOE+B0jjXVtQ4T7H4VH+t2DhPuj2HwkQcuE+Ona5ynSE4T4mx01c75fhPnzgV9N+rOE+SIEIpRbC4T45YXJQndjhPk1Y4F\\u002fr7+E+N2OozsoH4j77n0nd9h\\u002fiPrdO21kcOOI+0ZntXtpP4j77bxmHw2biPru8s49ffOI+mbB6YS2Q4j6vCLFypaHiPuo6AHM8sOI+Owu3Lma74j4Py6GUmMLiPiYH5cdOxeI+bcEOJgzD4j5AwBwpX7viPiqhnA3kreI++sJjJkea4j5+qbbJRoDiPlalD8e0X+I+6aP3WHc44j41DGyLiQriPrUK4BT71eE+amu+pe+a4T5BFxe4nVnhPiBXgO5MEuE+GZnSFVTF4D56jfngFnPgPrCMZHgDHOA+SEUK7x+B3z5dmXTkb8LePjktIDT0\\u002fN0+lrsMMKwx3T7CeLdWlWHcPtQC4TGojds+B\\u002fYf49W22j7YdklgBt7ZPqSIxlcXBNk+9JUtrNsp2D5IK19vG1DXPvyRQkCUd9Y+a6s76\\u002fmg1T6lbpEs98zUPtpbHXUu\\u002fNM+N\\u002fCFlDov0z42Daowr2bSPtMWZ\\u002fcYo9E+nuomfv3k0D6jykbJ2izQPiLKJvhM9s4+rxHvcJmgzT74XZl2XVnMPrHFho5CIcs+nErM6NX4yT4HbEz6hODIPuLjJ0ea2Mc+duWVkzrhxj6S\\u002fFuvYvrFPtBEqAvmI8U+ufEdRG5dxD6EGq66e6bDPs2tslpn\\u002fsI+NSMhi2Vkwj7ZURlKitfBPvQoNV7OVsE+pTyBfBXhwD7rrqQ1NXXAPq+dLHL8EcA+k\\u002fKce3Zsvz4tp5c4lcG+Pnbkm0EoIb4+a214BDKJvT6I3mbY8Pe8PsIXNanpa7w++MPGUfDjuz4ZB2BmLV+7Prl2H0wh3bo+7VnzmKRduj6wEnLU5eC5Ptz9sMxkZ7k+yXsWyevxuD4yyxj3hoG4PtPmJ3l6F7g+qL9Qhje1tz6PM40JUVy3PpqXoCpwDrc+q1WUIEnNtj4gQWKgkJq2PlNPPyryd7Y+prl+Zgdntj73kluxUGm2PpCmNOQugLY+eWTcW96stj5+GEcvc\\u002fC2Prs1nYDWS7c+vI3EzMS\\u002ftz5cVtEazUy4PoH1P+1Q87g+Ttvk2YSzuT4554OycY26Pq1pNS72gLs+8ShICsmNvD5sO0yfe7O9Pi+zjOt88b4+q6xei44jwD5Huz25yNnAPj5PEnz8msE+ChM3n7Bmwj4qGyvsZTzDPvioCAKaG8Q+7R4rQsoDxT4dqvq4dvTFPq\\u002fVH+Qk7cY+hMDZMmLtxz7mZXkaxvTIPnsTqJjzAso+mgaH\\u002f5kXyz4L0RvtdDLMPojt3VdLU80+\\u002f8VUpe15zj6XjQfNMqbPPsAeZkz6a9A+bhhtkYUH0T5tlmvgo6XRPqBQI8w3RtI+rJaeERvp0j7\\u002fZoX5G47TPmtpegD7NNQ+h7tP7Wjd1D4r8yZ4BYfVPiAkcJ9eMdY+4XuGv\\u002fDb1j5UIdN3J4bXPoF4gl1fL9g+ftKjcOjW2D5vmr09CXzZPjZuLowCHto+VI7HcRO82j7PQW6efVXbPv1foa+J6ds+Ir+tW4t33D7ulCNH5f7cPvJciVwMf90+RMDuhYr33T50MVixAGjePuTeVxMo0N4+drDVpdIv3z6vN03r6obfPo0U\\u002fgdz1d8+SB8QpcEN4D6getsfpCzgPnwt7D2AR+A+BOgMF31e4D7TG7FWyHHgPqNm9gmVgeA+r\\u002fOWghqO4D74+wNYk5fgPpC8bow8nuA+pRgK2FSi4D69OIoZHKTgPgL3D+jSo+A+vbdwQLqh4D65oENGE57gPvXcVxAfmeA+gLoxeB6T4D6qotTkUYzgPtBhWgr5hOA+YGGAmVJ94D6MO0Hcm3XgPveJmj4QbuA+fbudxOhm4D52G71wW2DgPgBw0Z6aWuA+hg2GWdRV4D4i0qawMVLgPupcMhfWT+A+pgoX0N5O4D4HpitwYk\\u002fgPgefUXtwUeA+9tPLIRFV4D7228AhRVrgPmWSp88FYeA+qloNR0Vp4D7uLMnD7nLgPqMBUCLnfeA+TtaGhA2K4D5ufCYXPJfgPl5YlvJIpeA+9H4YEQe04D4EqkVTR8PgPr6XNYvZ0uA+BidUho3i4D7uLdUNNPLgPrd1ANafAeE+O1UuVaYQ4T5aG0N8IB\\u002fhPl9Pu0vrLOE+aEvgQeg54T4T1XCg\\u002fUXhPnUl1IkWUeE+CMe19yJb4T65oZCOF2ThPjgHHVPta+E+tMOvR6Fy4T7dcUz4M3jhPh98b\\u002fyofOE+uIZgdQaA4T4gwzqPVILhPvRi1Amdg+E+YDNgzeqD4T78wyqNSYPhPtRgUHnFgeE+kSjf\\u002fmp\\u002f4T7YV6iURnzhPlS\\u002fKpJkeOE+ne6QDdFz4T74f8G9l27hPoLm893DaOE+f5cREWBi4T7vuEdEdlvhPoZXbpEPVOE+HqomIzRM4T5wZqAd60PhPuYdsI86O+E+KqsmcCcy4T52BhirtSjhPnjR8EHoHuE+JNbmf8EU4T5955JCQwrhPtRpf1Rv\\u002f+A+Adxe1Uf04D6sd6Wpz+jgPmfenekK3eA+MavxRv\\u002fQ4D6z8ShftMTgPp2S7fEzuOA+yc\\u002ft8omr4D6h3wBxxJ7gPjASk07zkeA+eeMxyieF4D7lPB7Zc3jgPlGI2Vjpa+A+sTh2H5lf4D5f4dn0kVPgPgnt6IDfR+A+5IikO4k84D4Zj4lskTHgPisL+kX0JuA+7Ic3KKcc4D6yuYsVmBLgPjgz0l6tCOA+wKGiGYv93z41Rb0Pb+nfPgNarvil1N8+ajRP78G+3z6wRkBuSaffPrLHdT+5jd8+xvnSqIZx3z5SqAS\\u002fIVLfPoIhEcf3Lt8+0uegj3UH3z6g1NCsCdvePt+QWIQmqd4+dxXVG0Rx3j6wBOWf4TLePkWlPaCG7d0+1pGlAsSg3T50uH20NEzdPkeX0Cd+79w+EvZdrVCK3D4p+GPAZxzcPjkjpVqKpds+dgEXZ4sl2z4WzZJnSpzaPhiVxl20Cdo+DcueAcVt2T4AkbVHiMjYPuiudzEcGtg+Gms117Ji1z4uS\\u002fOSlKLWPoqPSCoi2tU+rTC1ztYJ1T5gpk7HSTLUPo4sCJUvVNM+EjaXZFpw0j5TQDCmuYfRPuwZ96tYm9A+cG83d7hYzz4ReyMb\\u002fnfNPuEVd4cal8s+oCFu4r24yT4oFzi4o9\\u002fHPg==\"},\"yaxis\":\"y\",\"type\":\"scatter\"},{\"legendgroup\":\"Fraud Transactions\",\"marker\":{\"color\":\"#041b15\"},\"mode\":\"lines\",\"name\":\"Fraud Transactions\",\"showlegend\":true,\"x\":[406.0,745.884,1085.768,1425.652,1765.536,2105.42,2445.304,2785.188,3125.072,3464.956,3804.84,4144.724,4484.608,4824.492,5164.376,5504.26,5844.144,6184.028,6523.912,6863.796,7203.68,7543.564,7883.448,8223.332,8563.216,8903.1,9242.984,9582.868,9922.752,10262.636,10602.52,10942.404,11282.288,11622.172,11962.056,12301.94,12641.824,12981.708,13321.592,13661.476,14001.36,14341.244,14681.128,15021.012,15360.896,15700.78,16040.664,16380.548,16720.432,17060.316,17400.2,17740.084,18079.968,18419.852,18759.736,19099.62,19439.504,19779.388,20119.272,20459.156,20799.04,21138.924,21478.808,21818.692,22158.576,22498.46,22838.344,23178.228,23518.112,23857.996,24197.88,24537.764,24877.648,25217.532,25557.416,25897.3,26237.184,26577.068,26916.952,27256.836,27596.72,27936.604,28276.488,28616.372,28956.256,29296.14,29636.024,29975.908,30315.792,30655.676,30995.56,31335.444,31675.328,32015.212,32355.096,32694.98,33034.864,33374.748,33714.632,34054.516,34394.4,34734.284,35074.168,35414.052,35753.936,36093.82,36433.704,36773.588,37113.472,37453.356,37793.24,38133.124,38473.008,38812.892,39152.776,39492.66,39832.544,40172.428,40512.312,40852.196,41192.08,41531.964,41871.848,42211.732,42551.616,42891.5,43231.384,43571.268,43911.152,44251.036,44590.92,44930.804,45270.688,45610.572,45950.456,46290.34,46630.224,46970.108,47309.992,47649.876,47989.76,48329.644,48669.528,49009.412,49349.296,49689.18,50029.064,50368.948,50708.832,51048.716,51388.6,51728.484,52068.368,52408.252,52748.136,53088.02,53427.904,53767.788,54107.672,54447.556,54787.44,55127.324,55467.208,55807.092,56146.976,56486.86,56826.744,57166.628,57506.512,57846.396,58186.28,58526.164,58866.048,59205.932,59545.816,59885.7,60225.584,60565.468,60905.352,61245.236,61585.12,61925.004,62264.888,62604.772,62944.656,63284.54,63624.424,63964.308,64304.192,64644.076,64983.96,65323.844,65663.728,66003.612,66343.496,66683.38,67023.264,67363.148,67703.032,68042.916,68382.8,68722.684,69062.568,69402.452,69742.336,70082.22,70422.104,70761.988,71101.872,71441.756,71781.64,72121.524,72461.408,72801.292,73141.176,73481.06,73820.944,74160.828,74500.712,74840.596,75180.48,75520.364,75860.248,76200.132,76540.016,76879.9,77219.784,77559.668,77899.552,78239.436,78579.32,78919.204,79259.088,79598.972,79938.856,80278.74,80618.624,80958.508,81298.392,81638.276,81978.16,82318.044,82657.928,82997.812,83337.696,83677.58,84017.464,84357.348,84697.232,85037.116,85377.0,85716.884,86056.768,86396.652,86736.536,87076.42,87416.304,87756.188,88096.072,88435.956,88775.84,89115.724,89455.608,89795.492,90135.376,90475.26,90815.144,91155.028,91494.912,91834.796,92174.68,92514.564,92854.448,93194.332,93534.216,93874.1,94213.984,94553.868,94893.752,95233.636,95573.52,95913.404,96253.288,96593.172,96933.056,97272.94,97612.824,97952.708,98292.592,98632.476,98972.36,99312.244,99652.128,99992.012,100331.896,100671.78,101011.664,101351.548,101691.432,102031.316,102371.2,102711.084,103050.968,103390.852,103730.736,104070.62,104410.504,104750.388,105090.272,105430.156,105770.04,106109.924,106449.808,106789.692,107129.576,107469.46,107809.344,108149.228,108489.112,108828.996,109168.88,109508.764,109848.648,110188.532,110528.416,110868.3,111208.184,111548.068,111887.952,112227.836,112567.72,112907.604,113247.488,113587.372,113927.256,114267.14,114607.024,114946.908,115286.792,115626.676,115966.56,116306.444,116646.328,116986.212,117326.096,117665.98,118005.864,118345.748,118685.632,119025.516,119365.4,119705.284,120045.168,120385.052,120724.936,121064.82,121404.704,121744.588,122084.472,122424.356,122764.24,123104.124,123444.008,123783.892,124123.776,124463.66,124803.544,125143.428,125483.312,125823.196,126163.08,126502.964,126842.848,127182.732,127522.616,127862.5,128202.384,128542.268,128882.152,129222.036,129561.92,129901.804,130241.688,130581.572,130921.456,131261.34,131601.224,131941.108,132280.992,132620.876,132960.76,133300.644,133640.528,133980.412,134320.296,134660.18,135000.064,135339.948,135679.832,136019.716,136359.6,136699.484,137039.368,137379.252,137719.136,138059.02,138398.904,138738.788,139078.672,139418.556,139758.44,140098.324,140438.208,140778.092,141117.976,141457.86,141797.744,142137.628,142477.512,142817.396,143157.28,143497.164,143837.048,144176.932,144516.816,144856.7,145196.584,145536.468,145876.352,146216.236,146556.12,146896.004,147235.888,147575.772,147915.656,148255.54,148595.424,148935.308,149275.192,149615.076,149954.96,150294.844,150634.728,150974.612,151314.496,151654.38,151994.264,152334.148,152674.032,153013.916,153353.8,153693.684,154033.568,154373.452,154713.336,155053.22,155393.104,155732.988,156072.872,156412.756,156752.64,157092.524,157432.408,157772.292,158112.176,158452.06,158791.944,159131.828,159471.712,159811.596,160151.48,160491.364,160831.248,161171.132,161511.016,161850.9,162190.784,162530.668,162870.552,163210.436,163550.32,163890.204,164230.088,164569.972,164909.856,165249.74,165589.624,165929.508,166269.392,166609.276,166949.16,167289.044,167628.928,167968.812,168308.696,168648.58,168988.464,169328.348,169668.232,170008.116],\"xaxis\":\"x\",\"y\":{\"dtype\":\"f8\",\"bdata\":\"5HCCr3WUxT6eWfW8ChLGPnH3TfE7kMY+nEnGcPkOxz7KOCddM47HPmoMLt\\u002fZDcg+6UHtL92NyD4zdB+iLQ7JPuH1Yqu7jsk+BcJU7XcPyj4Hb4E+U5DKPr\\u002foIrM+Ecs+ItahpSuSyz6LvtG+CxPMPnM43\\u002f3Qk8w+6rHnv20UzT4HsDLH1JTNPmO8BEL5FM4+DJwE0c6Uzj471iuNSRTPPm4MPA1ek88+3Y9ZtQAJ0D58VRyjFEjQPnT0v+XlhtA+29dM2m\\u002fF0D4oZ1kmrgPRPtnaHbmcQdE+WH87zDd\\u002f0T4chzbke7zRPp3eodBl+dE+v9L8q\\u002fI10j4IrkLbH3LSPsfMLA3rrdI+BwEoOVLp0j5Xdf6dUyTTPjSXN8DtXtM+rOUvaB+Z0z4B1Oqf59LTPudDobBFDNQ+RmYPIDlF1D6NH4WtwX3UPnZSvE7ftdQ+yrl4LJLt1D4QOPWe2iTVPr7AIiq5W9U+pTO9eS6S1T5BtjpdO8jVPr9AmsPg\\u002fdU+VD4Wtx8z1j6fPMBY+WfWPkbGCtxunNY+jJVGgoHQ1j4YXRiWMgTXPgNt7GaDN9c+O31tRHVq1z5n4QN6CZ3XPq9iYkpBz9c++Okl6x0B2D7ED42AoDLYPhuLTBnKY9g+Q1WFqpuU2D4ENeELFsXYPssv2vM59dg+GTQx9Acl2T66FZh2gFTZPmq2krmjg9k+0vmSzXGy2T7S2lKS6uDZPi2xb7QND9o+1GlJq9o82j6eJii3UGraPr9kqt9ul9o+l3h98jPE2j7302GCnvDaPhM2fOasHNs+TIn0OV1I2z7c2uJbrXPbPmp8iu+ants+jgXjXCPJ2z5ek27RQ\\u002fPbPmhIXEH5HNw+mrr1aEBG3D7QpFXOFW\\u002fcPsDgZcN1l9w+41kiaFy\\u002f3D4MXx6txebcPq1rSVatDd0+\\u002fzvw\\u002fQ403T7Hu\\u002fYX5lndPrYgR\\u002fUtf90+hEhyx+Gj3T7bPH2k\\u002fMfdPkOP14p5690+FxZ2ZVMO3j6tbQ0QhTDePlSCZ1sJUt4+QE7PEdty3j5S5I379JLePtDTc+NRst4+YOhpm+zQ3j5BTQQBwO7ePuQbEwLHC98+fG0rofwn3z76FiT6W0PfPiNQgUbgXd8+UqPK4YR33z4Np8ZNRZDfPpcsmDYdqN8+Tru4dgi\\u002f3z4zY8waA9XfPhUsS2UJ6t8+pZ380Rf+3z4vEaGMlQjgPomilhmgEeA+D4svLSoa4D4WJFeHMiLgPn7zyAu4KeA+t2knw7kw4D4CQvPbNjfgPgnrYqsuPeA+R4gZrqBC4D6fQ72IjEfgPt3QbAjyS+A+yysUI9FP4D7GwaD3KVPgPn9dFc78VeA+U1N+F0pY4D5\\u002fjcZtElrgPqw+bpNWW+A+wh4kcxdc4D7XN0IfVlzgPlhkL9ETXOA+8L2m6FFb4D7bUObqEVrgPqmCxoFVWOA+h6u7eh5W4D4qdcPFblPgPoeeP3RIUOA+JtG\\u002ft61M4D5cPbzgoEjgPmC3Ql0kROA+zxSYtzo\\u002f4D6JiM+U5jngPmC5WbMqNOA+\\u002fEqN6Qku4D5qiCokhyfgPtPU22SlIOA+aXu0wGcZ4D68Zq9e0RHgPnE3L3blCeA+wR6BTacB4D6blcdwNPLfPmg5Jy2D4N8+7Y66pEHO3z7huG++drvfPkldznApqN8+rLZOv2CU3z4oT8S3I4DfPnWN3W95a98+WP64AmlW3z5TCZGO+UDfPsqGfjIyK98+fG5SDBoV3z6RoIY2uP7ePtyPRcYT6N4+r1+IyTPR3j4V00pFH7rePlo61DPdot4+oF0Ug3SL3j4cOBMT7HPePtQwcrRKXN4+X1n9JpdE3j7DHUsY2CzePjuzaCIUFd4+K3+RylH93T4Kne9\\u002fl+XdPsWcY5rrzd0+k4tRWVS23T4DVnHi157dPrmSoEB8h90+YM2zYkdw3T7Rc0UaP1ndPjCYgBppQt0+SM\\u002fl9sor3T73iwgiahXdPn53Q+xL\\u002f9w+oGVignXp3D6BrEDs69PcPpTQWgu0vtw+659SmdKp3D5QDGUmTJXcPgJC0Rclgdw+5LAwpmFt3D6Q9L\\u002fbBVrcPrLAmJIVR9w+jC\\u002fdcpQ03D7iD9XwhSLcPgwG\\u002fkrtENw+qJQPiM3\\u002f2z6TWPR0Ke\\u002fbPhwCuqID39s+N815ZF7P2z5LcjvNO8DbPhjC1K2dsds+8k7IkoWj2z4yuyXC9JXbPlBwbjnsiNs+J62Bq2x82z6vApN+dnDbPh13LsoJZds+aKhNVSZa2z7PX4GUy0\\u002fbPiUeM6j4Rds+lDcCW6w82z4MI0Ag5TPbPtGjjxKhK9s+AXaq8t0j2z4JIFEmmRzbPgmAaLfPFds+ZZpIU34P2z4HF0BKoQnbPjnAT480BNs+RTAhuDP\\u002f2j6LtDv9mfraPqE+ejpi9to+cQjF74by2j7OVxFCAu\\u002faPniQqfzN69o+gYG\\u002fkuPo2j4dlEohPObaPtc2M3HQ49o+3pHM+Zjh2j6zPZ3jjd\\u002faPuVhdwun3do+ukfgBdzb2j4lE8ciJNraPsz3iXF22No+f+JIxcnW2j7hMIS5FNXaPtqwBbdN09o+FMUR+WrR2j48Kd6SYs\\u002faPpt3S3Uqzdo+cDLedLjK2j4Yu\\u002fNPAsjaPm1IL7X9xNo+qpsaSqDB2j5t3\\u002fWx373aPvjQsZSxudo+TAsPpgu12j79Bt2s46\\u002faPnYkU4ovqto+dNt9QeWj2j6d+bn++pzaPrWrNx9nldo+b+d+OCCN2j4ure4fHYTaPqR\\u002fMPJUeto++16ZGr9v2j5vjHFaU2TaPpNXHNAJWNo+az4Z\\u002ftpK2j5mtdfRvzzaPgsCV6qxLdo+srCLXqod2j4sUIRDpAzaPhtNRzKa+tk+vPZjjYfn2T4z9DBGaNPZPqewsuE4vtk+YY0kffan2T4x9x\\u002fSnpDZPg7QXDoweNk+4fgGs6le2T6NJKXfCkTZPtGCjQxUKNk+5DjlMIYL2T4FCSjwou3YPon6NZusztg+HUXlMKau2D7gNhdek43YPrFBT314a9g+n9XLlVpI2D5XIyFaPyTYPjNcViYt\\u002f9c+8XmG\\u002fSrZ1z5mEQaHQLLXPjcmEAt2itc+fWj8btRh1z6OtgExZTjXPjwniGMyDtc+RU0OqEbj1j5DxqUprbfWPhKKC5dxi9Y+N8pgHKBe1j6qhYlcRTHWPutHNmpuA9Y+9tCewCjV1T5xqvM7gqbVPgnpjBGJd9U+rI\\u002fcx0tI1T40OSsu2RjVPnPUJVRA6dQ+Xl5DgZC51D7\\u002fngks2YnUPir\\u002fN\\u002fEpWtQ+CZXfipIq1D7\\u002fiW\\u002fHIvvTPuHzvIDqy9M+DjENk\\u002fmc0z5OwSnUX27TPhh7hAotQNM+6tly5HAS0z72+YbvOuXSPpSmDJCauNI+C6uw+J6M0j6GWlgiV2HSPgQDL8TRNtI+lrruSx0N0j7aqWnWR+TRPkOqWChfvNE+yLlzp3CV0T4IcdhTiW\\u002fRPhZPwsG1StE+0lGYEwIn0T499FL0eQTRPmNMPZIo49A+f6ATmhjD0D4KaoEyVKTQPs1aAPjkhtA+fZUZ+dNq0D7f6QmzKVDQPuODyQ7uNtA+qx13Xigf0D5NZiZb3wjQPrnpIUYy6M8+rolRcLbBzz5tyRX+VJ7PPstWoXwWfs8+hvZ6PAJhzz4ym41RHkfPPlv155NvMM8+pt8lofkczz4uj33evgzPPo38aXvA\\u002f84+MJTrdP71zj4N3leZd+\\u002fOPod6sIwp7M4+H4t5zRDszj6lYAe6KO\\u002fOPhoXO5Zr9c4+AKOlkdL+zj5RtgjOVQvPPqDWLGbsGs8+b\\u002fcDdYwtzz4\\u002f8w8dK0PPPnZOBJC8W88+ocqaFjR3zz4Vd5IYhJXPPvAZ0SSets8+jgaf+XLazz5n23pGeQDQPtbjbAoGFdA+MKXcB9cq0D5n2mMm40HQPiWOKPogWtA+KmX\\u002fx4Zz0D5b04OJCo7QPsixI\\u002fGhqdA+T+QbbkLG0D5C+2Mw4ePQPlr4hixzAtE+dp1nH+0h0T5w6e6RQ0LRPtGlo9xqY9E+CScqK1eF0T7snat\\u002f\\u002fKfRPv+WJLZOy9E+i36ah0Hv0T7DOziNyBPSPqcsUkPXONI+bwFSDGFe0j52K4szWYTSPo\\u002fB+O+yqtI+qurlZmHR0j7bCIKuV\\u002fjSPtUEYtCIH9M+gDzwy+dG0z7+tcyYZ27TPqlRHyn7ldM+0czda5W90z54dgdPKeXTPuiG2MGpDNQ+bhD3tgk01D5MhZsmPFvUPtrNthA0gtQ+eOMXf+So1D4l3JKHQM\\u002fUPm9EK0479dQ+aJFDB8ga1T7VX9P52T\\u002fVPiQZpoFkZNU+\\u002fHmjEVuI1T6pUiM2savVPvC1TZdaztU+CaGI+0rw1T53\\u002ffNJdhHWPi6v9IzQMdY+AzLP9E1R1j55F1La4m\\u002fWPg2DkMGDjdY+\\u002fI6sXCWq1j79TbGOvMXWPkLpe24+4NY+jiSzSaD51j4zXMyn1xHXPmndHE3aKNc+lET2PZ4+1z5KW8zBGVPXPmzAYmZDZtc+bXMAAxJ41z6lM6e7fIjXPp53TAR7l9c+hpsRpASl1z4Pw3i4EbHXPuPJk7iau9c+84IqeJjE1z7zbdUqBMzXPtX2CWfX0dc+4kIVKQzW1z5LgwLWnNjXPrO+aT6E2dc+tP8job3Y1z4q2eGtRNbXPvM2oYcV0tc+JH3\\u002fxizM1z5rB2V8h8TXPsktBzIju9c+gwy+7f2v1z5WaasyFqPXPo4wsAJrlNc+sCiu3\\u002fuD1z7Po5PMyHHXPjwgL07SXdc+cvnIaxlI1z5me4GvnzDXPu3dcSZnF9c+MuWOYHL81j6uG0xwxN\\u002fWPkjV\\u002fulgwdY+jWUA40uh1j4EMY\\u002fwiX\\u002fWPpl9biYgXNY+2SRFFRQ31j46iLvIaxDWPj9lWcUt6NU+D2QkBmG+1T7cdwD6DJPVPq1i04A5ZtU+kOds6O431T6dbjXpNQjVPq0SpaIX19Q+S0SFl52k1D5ZXv+p0XDUPmu2ehe+O9Q+o91MdG0F1D6m7j6n6s3TPiPq6uRAldM+NkP0qntb0z5S2x67piDTPorGRxbO5NI+3UZD9\\u002f2n0j5Bf6PNQmrSPsZtazipK9I+IcaxAD7s0T5PTDcUDqzRPqdS9H8ma9E+r\\u002fygapQp0T724zsPZefQPr+zkrelpNA+AUXQtmNh0D6NtBNkrB3QPoO2Jyoas88+j\\u002fakMSYqzz4lucRkl6DOPvXvhieIFs4+SWewsRKMzT5SJe0EUQHNPlQxMONcdsw+aPxVxU\\u002fryz4yWg7SQmDLPjypEtVO1co+tnusNoxKyj4SvZDzEsDJPiz8EpX6Nck+iy20KVqsyD7g3w8+SCPIPmCIKtbamsc+kTEjZycTxz63g0rRQozGPg==\"},\"yaxis\":\"y\",\"type\":\"scatter\"}],                        {\"barmode\":\"overlay\",\"hovermode\":\"closest\",\"legend\":{\"traceorder\":\"reversed\"},\"xaxis\":{\"anchor\":\"y2\",\"domain\":[0.0,1.0],\"zeroline\":false,\"title\":{\"text\":\"Time\"}},\"yaxis\":{\"anchor\":\"free\",\"domain\":[0.0,1],\"position\":0.0},\"template\":{\"data\":{\"histogram2dcontour\":[{\"type\":\"histogram2dcontour\",\"colorbar\":{\"outlinewidth\":0,\"ticks\":\"\"},\"colorscale\":[[0.0,\"#0d0887\"],[0.1111111111111111,\"#46039f\"],[0.2222222222222222,\"#7201a8\"],[0.3333333333333333,\"#9c179e\"],[0.4444444444444444,\"#bd3786\"],[0.5555555555555556,\"#d8576b\"],[0.6666666666666666,\"#ed7953\"],[0.7777777777777778,\"#fb9f3a\"],[0.8888888888888888,\"#fdca26\"],[1.0,\"#f0f921\"]]}],\"choropleth\":[{\"type\":\"choropleth\",\"colorbar\":{\"outlinewidth\":0,\"ticks\":\"\"}}],\"histogram2d\":[{\"type\":\"histogram2d\",\"colorbar\":{\"outlinewidth\":0,\"ticks\":\"\"},\"colorscale\":[[0.0,\"#0d0887\"],[0.1111111111111111,\"#46039f\"],[0.2222222222222222,\"#7201a8\"],[0.3333333333333333,\"#9c179e\"],[0.4444444444444444,\"#bd3786\"],[0.5555555555555556,\"#d8576b\"],[0.6666666666666666,\"#ed7953\"],[0.7777777777777778,\"#fb9f3a\"],[0.8888888888888888,\"#fdca26\"],[1.0,\"#f0f921\"]]}],\"heatmap\":[{\"type\":\"heatmap\",\"colorbar\":{\"outlinewidth\":0,\"ticks\":\"\"},\"colorscale\":[[0.0,\"#0d0887\"],[0.1111111111111111,\"#46039f\"],[0.2222222222222222,\"#7201a8\"],[0.3333333333333333,\"#9c179e\"],[0.4444444444444444,\"#bd3786\"],[0.5555555555555556,\"#d8576b\"],[0.6666666666666666,\"#ed7953\"],[0.7777777777777778,\"#fb9f3a\"],[0.8888888888888888,\"#fdca26\"],[1.0,\"#f0f921\"]]}],\"contourcarpet\":[{\"type\":\"contourcarpet\",\"colorbar\":{\"outlinewidth\":0,\"ticks\":\"\"}}],\"contour\":[{\"type\":\"contour\",\"colorbar\":{\"outlinewidth\":0,\"ticks\":\"\"},\"colorscale\":[[0.0,\"#0d0887\"],[0.1111111111111111,\"#46039f\"],[0.2222222222222222,\"#7201a8\"],[0.3333333333333333,\"#9c179e\"],[0.4444444444444444,\"#bd3786\"],[0.5555555555555556,\"#d8576b\"],[0.6666666666666666,\"#ed7953\"],[0.7777777777777778,\"#fb9f3a\"],[0.8888888888888888,\"#fdca26\"],[1.0,\"#f0f921\"]]}],\"surface\":[{\"type\":\"surface\",\"colorbar\":{\"outlinewidth\":0,\"ticks\":\"\"},\"colorscale\":[[0.0,\"#0d0887\"],[0.1111111111111111,\"#46039f\"],[0.2222222222222222,\"#7201a8\"],[0.3333333333333333,\"#9c179e\"],[0.4444444444444444,\"#bd3786\"],[0.5555555555555556,\"#d8576b\"],[0.6666666666666666,\"#ed7953\"],[0.7777777777777778,\"#fb9f3a\"],[0.8888888888888888,\"#fdca26\"],[1.0,\"#f0f921\"]]}],\"mesh3d\":[{\"type\":\"mesh3d\",\"colorbar\":{\"outlinewidth\":0,\"ticks\":\"\"}}],\"scatter\":[{\"fillpattern\":{\"fillmode\":\"overlay\",\"size\":10,\"solidity\":0.2},\"type\":\"scatter\"}],\"parcoords\":[{\"type\":\"parcoords\",\"line\":{\"colorbar\":{\"outlinewidth\":0,\"ticks\":\"\"}}}],\"scatterpolargl\":[{\"type\":\"scatterpolargl\",\"marker\":{\"colorbar\":{\"outlinewidth\":0,\"ticks\":\"\"}}}],\"bar\":[{\"error_x\":{\"color\":\"#2a3f5f\"},\"error_y\":{\"color\":\"#2a3f5f\"},\"marker\":{\"line\":{\"color\":\"#E5ECF6\",\"width\":0.5},\"pattern\":{\"fillmode\":\"overlay\",\"size\":10,\"solidity\":0.2}},\"type\":\"bar\"}],\"scattergeo\":[{\"type\":\"scattergeo\",\"marker\":{\"colorbar\":{\"outlinewidth\":0,\"ticks\":\"\"}}}],\"scatterpolar\":[{\"type\":\"scatterpolar\",\"marker\":{\"colorbar\":{\"outlinewidth\":0,\"ticks\":\"\"}}}],\"histogram\":[{\"marker\":{\"pattern\":{\"fillmode\":\"overlay\",\"size\":10,\"solidity\":0.2}},\"type\":\"histogram\"}],\"scattergl\":[{\"type\":\"scattergl\",\"marker\":{\"colorbar\":{\"outlinewidth\":0,\"ticks\":\"\"}}}],\"scatter3d\":[{\"type\":\"scatter3d\",\"line\":{\"colorbar\":{\"outlinewidth\":0,\"ticks\":\"\"}},\"marker\":{\"colorbar\":{\"outlinewidth\":0,\"ticks\":\"\"}}}],\"scattermap\":[{\"type\":\"scattermap\",\"marker\":{\"colorbar\":{\"outlinewidth\":0,\"ticks\":\"\"}}}],\"scattermapbox\":[{\"type\":\"scattermapbox\",\"marker\":{\"colorbar\":{\"outlinewidth\":0,\"ticks\":\"\"}}}],\"scatterternary\":[{\"type\":\"scatterternary\",\"marker\":{\"colorbar\":{\"outlinewidth\":0,\"ticks\":\"\"}}}],\"scattercarpet\":[{\"type\":\"scattercarpet\",\"marker\":{\"colorbar\":{\"outlinewidth\":0,\"ticks\":\"\"}}}],\"carpet\":[{\"aaxis\":{\"endlinecolor\":\"#2a3f5f\",\"gridcolor\":\"white\",\"linecolor\":\"white\",\"minorgridcolor\":\"white\",\"startlinecolor\":\"#2a3f5f\"},\"baxis\":{\"endlinecolor\":\"#2a3f5f\",\"gridcolor\":\"white\",\"linecolor\":\"white\",\"minorgridcolor\":\"white\",\"startlinecolor\":\"#2a3f5f\"},\"type\":\"carpet\"}],\"table\":[{\"cells\":{\"fill\":{\"color\":\"#EBF0F8\"},\"line\":{\"color\":\"white\"}},\"header\":{\"fill\":{\"color\":\"#C8D4E3\"},\"line\":{\"color\":\"white\"}},\"type\":\"table\"}],\"barpolar\":[{\"marker\":{\"line\":{\"color\":\"#E5ECF6\",\"width\":0.5},\"pattern\":{\"fillmode\":\"overlay\",\"size\":10,\"solidity\":0.2}},\"type\":\"barpolar\"}],\"pie\":[{\"automargin\":true,\"type\":\"pie\"}]},\"layout\":{\"autotypenumbers\":\"strict\",\"colorway\":[\"#636efa\",\"#EF553B\",\"#00cc96\",\"#ab63fa\",\"#FFA15A\",\"#19d3f3\",\"#FF6692\",\"#B6E880\",\"#FF97FF\",\"#FECB52\"],\"font\":{\"color\":\"#2a3f5f\"},\"hovermode\":\"closest\",\"hoverlabel\":{\"align\":\"left\"},\"paper_bgcolor\":\"white\",\"plot_bgcolor\":\"#E5ECF6\",\"polar\":{\"bgcolor\":\"#E5ECF6\",\"angularaxis\":{\"gridcolor\":\"white\",\"linecolor\":\"white\",\"ticks\":\"\"},\"radialaxis\":{\"gridcolor\":\"white\",\"linecolor\":\"white\",\"ticks\":\"\"}},\"ternary\":{\"bgcolor\":\"#E5ECF6\",\"aaxis\":{\"gridcolor\":\"white\",\"linecolor\":\"white\",\"ticks\":\"\"},\"baxis\":{\"gridcolor\":\"white\",\"linecolor\":\"white\",\"ticks\":\"\"},\"caxis\":{\"gridcolor\":\"white\",\"linecolor\":\"white\",\"ticks\":\"\"}},\"coloraxis\":{\"colorbar\":{\"outlinewidth\":0,\"ticks\":\"\"}},\"colorscale\":{\"sequential\":[[0.0,\"#0d0887\"],[0.1111111111111111,\"#46039f\"],[0.2222222222222222,\"#7201a8\"],[0.3333333333333333,\"#9c179e\"],[0.4444444444444444,\"#bd3786\"],[0.5555555555555556,\"#d8576b\"],[0.6666666666666666,\"#ed7953\"],[0.7777777777777778,\"#fb9f3a\"],[0.8888888888888888,\"#fdca26\"],[1.0,\"#f0f921\"]],\"sequentialminus\":[[0.0,\"#0d0887\"],[0.1111111111111111,\"#46039f\"],[0.2222222222222222,\"#7201a8\"],[0.3333333333333333,\"#9c179e\"],[0.4444444444444444,\"#bd3786\"],[0.5555555555555556,\"#d8576b\"],[0.6666666666666666,\"#ed7953\"],[0.7777777777777778,\"#fb9f3a\"],[0.8888888888888888,\"#fdca26\"],[1.0,\"#f0f921\"]],\"diverging\":[[0,\"#8e0152\"],[0.1,\"#c51b7d\"],[0.2,\"#de77ae\"],[0.3,\"#f1b6da\"],[0.4,\"#fde0ef\"],[0.5,\"#f7f7f7\"],[0.6,\"#e6f5d0\"],[0.7,\"#b8e186\"],[0.8,\"#7fbc41\"],[0.9,\"#4d9221\"],[1,\"#276419\"]]},\"xaxis\":{\"gridcolor\":\"white\",\"linecolor\":\"white\",\"ticks\":\"\",\"title\":{\"standoff\":15},\"zerolinecolor\":\"white\",\"automargin\":true,\"zerolinewidth\":2},\"yaxis\":{\"gridcolor\":\"white\",\"linecolor\":\"white\",\"ticks\":\"\",\"title\":{\"standoff\":15},\"zerolinecolor\":\"white\",\"automargin\":true,\"zerolinewidth\":2},\"scene\":{\"xaxis\":{\"backgroundcolor\":\"#E5ECF6\",\"gridcolor\":\"white\",\"linecolor\":\"white\",\"showbackground\":true,\"ticks\":\"\",\"zerolinecolor\":\"white\",\"gridwidth\":2},\"yaxis\":{\"backgroundcolor\":\"#E5ECF6\",\"gridcolor\":\"white\",\"linecolor\":\"white\",\"showbackground\":true,\"ticks\":\"\",\"zerolinecolor\":\"white\",\"gridwidth\":2},\"zaxis\":{\"backgroundcolor\":\"#E5ECF6\",\"gridcolor\":\"white\",\"linecolor\":\"white\",\"showbackground\":true,\"ticks\":\"\",\"zerolinecolor\":\"white\",\"gridwidth\":2}},\"shapedefaults\":{\"line\":{\"color\":\"#2a3f5f\"}},\"annotationdefaults\":{\"arrowcolor\":\"#2a3f5f\",\"arrowhead\":0,\"arrowwidth\":1},\"geo\":{\"bgcolor\":\"white\",\"landcolor\":\"#E5ECF6\",\"subunitcolor\":\"white\",\"showland\":true,\"showlakes\":true,\"lakecolor\":\"white\"},\"title\":{\"x\":0.05},\"mapbox\":{\"style\":\"light\"}}},\"title\":{\"text\":\"Time-based Transaction Density\"},\"width\":900,\"height\":500},                        {\"responsive\": true}                    ).then(function(){\n",
       "                            \n",
       "var gd = document.getElementById('9d6d41f1-9604-4e81-b16b-e9da644be4c9');\n",
       "var x = new MutationObserver(function (mutations, observer) {{\n",
       "        var display = window.getComputedStyle(gd).display;\n",
       "        if (!display || display === 'none') {{\n",
       "            console.log([gd, 'removed!']);\n",
       "            Plotly.purge(gd);\n",
       "            observer.disconnect();\n",
       "        }}\n",
       "}});\n",
       "\n",
       "// Listen for the removal of the full notebook cells\n",
       "var notebookContainer = gd.closest('#notebook-container');\n",
       "if (notebookContainer) {{\n",
       "    x.observe(notebookContainer, {childList: true});\n",
       "}}\n",
       "\n",
       "// Listen for the clearing of the current output cell\n",
       "var outputEl = gd.closest('.output');\n",
       "if (outputEl) {{\n",
       "    x.observe(outputEl, {childList: true});\n",
       "}}\n",
       "\n",
       "                        })                };            </script>        </div>"
      ]
     },
     "metadata": {},
     "output_type": "display_data"
    }
   ],
   "source": [
    "class_legit = data.loc[data['Class'] == 0][\"Time\"]\n",
    "class_fraud = data.loc[data['Class'] == 1][\"Time\"]\n",
    "\n",
    "fig = ff.create_distplot([class_legit, class_fraud], ['Legit Transactions', 'Fraud Transactions'], colors=['#519872', '#041b15'], show_hist=False, show_rug=False)\n",
    "fig['layout'].update(title='Time-based Transaction Density', xaxis=dict(title='Time'), width=900, height=500)\n",
    "fig.write_image('../results/visualizations/time_transaction_density.png', scale=2)\n",
    "pio.show(fig)"
   ]
  },
  {
   "cell_type": "markdown",
   "metadata": {},
   "source": [
    "#### Data Imbalance"
   ]
  },
  {
   "cell_type": "code",
   "execution_count": 8,
   "metadata": {},
   "outputs": [
    {
     "data": {
      "application/vnd.plotly.v1+json": {
       "config": {
        "plotlyServerURL": "https://plot.ly"
       },
       "data": [
        {
         "marker": {
          "color": "#519872"
         },
         "name": "Credit Card Data Imbalance",
         "text": {
          "bdata": "AAAAAGxaEUEAAAAAAMB+QA==",
          "dtype": "f8"
         },
         "type": "bar",
         "x": {
          "bdata": "AAE=",
          "dtype": "i1"
         },
         "y": {
          "bdata": "m1YEAOwBAAA=",
          "dtype": "i4"
         }
        }
       ],
       "layout": {
        "hovermode": "closest",
        "template": {
         "data": {
          "bar": [
           {
            "error_x": {
             "color": "#2a3f5f"
            },
            "error_y": {
             "color": "#2a3f5f"
            },
            "marker": {
             "line": {
              "color": "#E5ECF6",
              "width": 0.5
             },
             "pattern": {
              "fillmode": "overlay",
              "size": 10,
              "solidity": 0.2
             }
            },
            "type": "bar"
           }
          ],
          "barpolar": [
           {
            "marker": {
             "line": {
              "color": "#E5ECF6",
              "width": 0.5
             },
             "pattern": {
              "fillmode": "overlay",
              "size": 10,
              "solidity": 0.2
             }
            },
            "type": "barpolar"
           }
          ],
          "carpet": [
           {
            "aaxis": {
             "endlinecolor": "#2a3f5f",
             "gridcolor": "white",
             "linecolor": "white",
             "minorgridcolor": "white",
             "startlinecolor": "#2a3f5f"
            },
            "baxis": {
             "endlinecolor": "#2a3f5f",
             "gridcolor": "white",
             "linecolor": "white",
             "minorgridcolor": "white",
             "startlinecolor": "#2a3f5f"
            },
            "type": "carpet"
           }
          ],
          "choropleth": [
           {
            "colorbar": {
             "outlinewidth": 0,
             "ticks": ""
            },
            "type": "choropleth"
           }
          ],
          "contour": [
           {
            "colorbar": {
             "outlinewidth": 0,
             "ticks": ""
            },
            "colorscale": [
             [
              0,
              "#0d0887"
             ],
             [
              0.1111111111111111,
              "#46039f"
             ],
             [
              0.2222222222222222,
              "#7201a8"
             ],
             [
              0.3333333333333333,
              "#9c179e"
             ],
             [
              0.4444444444444444,
              "#bd3786"
             ],
             [
              0.5555555555555556,
              "#d8576b"
             ],
             [
              0.6666666666666666,
              "#ed7953"
             ],
             [
              0.7777777777777778,
              "#fb9f3a"
             ],
             [
              0.8888888888888888,
              "#fdca26"
             ],
             [
              1,
              "#f0f921"
             ]
            ],
            "type": "contour"
           }
          ],
          "contourcarpet": [
           {
            "colorbar": {
             "outlinewidth": 0,
             "ticks": ""
            },
            "type": "contourcarpet"
           }
          ],
          "heatmap": [
           {
            "colorbar": {
             "outlinewidth": 0,
             "ticks": ""
            },
            "colorscale": [
             [
              0,
              "#0d0887"
             ],
             [
              0.1111111111111111,
              "#46039f"
             ],
             [
              0.2222222222222222,
              "#7201a8"
             ],
             [
              0.3333333333333333,
              "#9c179e"
             ],
             [
              0.4444444444444444,
              "#bd3786"
             ],
             [
              0.5555555555555556,
              "#d8576b"
             ],
             [
              0.6666666666666666,
              "#ed7953"
             ],
             [
              0.7777777777777778,
              "#fb9f3a"
             ],
             [
              0.8888888888888888,
              "#fdca26"
             ],
             [
              1,
              "#f0f921"
             ]
            ],
            "type": "heatmap"
           }
          ],
          "histogram": [
           {
            "marker": {
             "pattern": {
              "fillmode": "overlay",
              "size": 10,
              "solidity": 0.2
             }
            },
            "type": "histogram"
           }
          ],
          "histogram2d": [
           {
            "colorbar": {
             "outlinewidth": 0,
             "ticks": ""
            },
            "colorscale": [
             [
              0,
              "#0d0887"
             ],
             [
              0.1111111111111111,
              "#46039f"
             ],
             [
              0.2222222222222222,
              "#7201a8"
             ],
             [
              0.3333333333333333,
              "#9c179e"
             ],
             [
              0.4444444444444444,
              "#bd3786"
             ],
             [
              0.5555555555555556,
              "#d8576b"
             ],
             [
              0.6666666666666666,
              "#ed7953"
             ],
             [
              0.7777777777777778,
              "#fb9f3a"
             ],
             [
              0.8888888888888888,
              "#fdca26"
             ],
             [
              1,
              "#f0f921"
             ]
            ],
            "type": "histogram2d"
           }
          ],
          "histogram2dcontour": [
           {
            "colorbar": {
             "outlinewidth": 0,
             "ticks": ""
            },
            "colorscale": [
             [
              0,
              "#0d0887"
             ],
             [
              0.1111111111111111,
              "#46039f"
             ],
             [
              0.2222222222222222,
              "#7201a8"
             ],
             [
              0.3333333333333333,
              "#9c179e"
             ],
             [
              0.4444444444444444,
              "#bd3786"
             ],
             [
              0.5555555555555556,
              "#d8576b"
             ],
             [
              0.6666666666666666,
              "#ed7953"
             ],
             [
              0.7777777777777778,
              "#fb9f3a"
             ],
             [
              0.8888888888888888,
              "#fdca26"
             ],
             [
              1,
              "#f0f921"
             ]
            ],
            "type": "histogram2dcontour"
           }
          ],
          "mesh3d": [
           {
            "colorbar": {
             "outlinewidth": 0,
             "ticks": ""
            },
            "type": "mesh3d"
           }
          ],
          "parcoords": [
           {
            "line": {
             "colorbar": {
              "outlinewidth": 0,
              "ticks": ""
             }
            },
            "type": "parcoords"
           }
          ],
          "pie": [
           {
            "automargin": true,
            "type": "pie"
           }
          ],
          "scatter": [
           {
            "fillpattern": {
             "fillmode": "overlay",
             "size": 10,
             "solidity": 0.2
            },
            "type": "scatter"
           }
          ],
          "scatter3d": [
           {
            "line": {
             "colorbar": {
              "outlinewidth": 0,
              "ticks": ""
             }
            },
            "marker": {
             "colorbar": {
              "outlinewidth": 0,
              "ticks": ""
             }
            },
            "type": "scatter3d"
           }
          ],
          "scattercarpet": [
           {
            "marker": {
             "colorbar": {
              "outlinewidth": 0,
              "ticks": ""
             }
            },
            "type": "scattercarpet"
           }
          ],
          "scattergeo": [
           {
            "marker": {
             "colorbar": {
              "outlinewidth": 0,
              "ticks": ""
             }
            },
            "type": "scattergeo"
           }
          ],
          "scattergl": [
           {
            "marker": {
             "colorbar": {
              "outlinewidth": 0,
              "ticks": ""
             }
            },
            "type": "scattergl"
           }
          ],
          "scattermap": [
           {
            "marker": {
             "colorbar": {
              "outlinewidth": 0,
              "ticks": ""
             }
            },
            "type": "scattermap"
           }
          ],
          "scattermapbox": [
           {
            "marker": {
             "colorbar": {
              "outlinewidth": 0,
              "ticks": ""
             }
            },
            "type": "scattermapbox"
           }
          ],
          "scatterpolar": [
           {
            "marker": {
             "colorbar": {
              "outlinewidth": 0,
              "ticks": ""
             }
            },
            "type": "scatterpolar"
           }
          ],
          "scatterpolargl": [
           {
            "marker": {
             "colorbar": {
              "outlinewidth": 0,
              "ticks": ""
             }
            },
            "type": "scatterpolargl"
           }
          ],
          "scatterternary": [
           {
            "marker": {
             "colorbar": {
              "outlinewidth": 0,
              "ticks": ""
             }
            },
            "type": "scatterternary"
           }
          ],
          "surface": [
           {
            "colorbar": {
             "outlinewidth": 0,
             "ticks": ""
            },
            "colorscale": [
             [
              0,
              "#0d0887"
             ],
             [
              0.1111111111111111,
              "#46039f"
             ],
             [
              0.2222222222222222,
              "#7201a8"
             ],
             [
              0.3333333333333333,
              "#9c179e"
             ],
             [
              0.4444444444444444,
              "#bd3786"
             ],
             [
              0.5555555555555556,
              "#d8576b"
             ],
             [
              0.6666666666666666,
              "#ed7953"
             ],
             [
              0.7777777777777778,
              "#fb9f3a"
             ],
             [
              0.8888888888888888,
              "#fdca26"
             ],
             [
              1,
              "#f0f921"
             ]
            ],
            "type": "surface"
           }
          ],
          "table": [
           {
            "cells": {
             "fill": {
              "color": "#EBF0F8"
             },
             "line": {
              "color": "white"
             }
            },
            "header": {
             "fill": {
              "color": "#C8D4E3"
             },
             "line": {
              "color": "white"
             }
            },
            "type": "table"
           }
          ]
         },
         "layout": {
          "annotationdefaults": {
           "arrowcolor": "#2a3f5f",
           "arrowhead": 0,
           "arrowwidth": 1
          },
          "autotypenumbers": "strict",
          "coloraxis": {
           "colorbar": {
            "outlinewidth": 0,
            "ticks": ""
           }
          },
          "colorscale": {
           "diverging": [
            [
             0,
             "#8e0152"
            ],
            [
             0.1,
             "#c51b7d"
            ],
            [
             0.2,
             "#de77ae"
            ],
            [
             0.3,
             "#f1b6da"
            ],
            [
             0.4,
             "#fde0ef"
            ],
            [
             0.5,
             "#f7f7f7"
            ],
            [
             0.6,
             "#e6f5d0"
            ],
            [
             0.7,
             "#b8e186"
            ],
            [
             0.8,
             "#7fbc41"
            ],
            [
             0.9,
             "#4d9221"
            ],
            [
             1,
             "#276419"
            ]
           ],
           "sequential": [
            [
             0,
             "#0d0887"
            ],
            [
             0.1111111111111111,
             "#46039f"
            ],
            [
             0.2222222222222222,
             "#7201a8"
            ],
            [
             0.3333333333333333,
             "#9c179e"
            ],
            [
             0.4444444444444444,
             "#bd3786"
            ],
            [
             0.5555555555555556,
             "#d8576b"
            ],
            [
             0.6666666666666666,
             "#ed7953"
            ],
            [
             0.7777777777777778,
             "#fb9f3a"
            ],
            [
             0.8888888888888888,
             "#fdca26"
            ],
            [
             1,
             "#f0f921"
            ]
           ],
           "sequentialminus": [
            [
             0,
             "#0d0887"
            ],
            [
             0.1111111111111111,
             "#46039f"
            ],
            [
             0.2222222222222222,
             "#7201a8"
            ],
            [
             0.3333333333333333,
             "#9c179e"
            ],
            [
             0.4444444444444444,
             "#bd3786"
            ],
            [
             0.5555555555555556,
             "#d8576b"
            ],
            [
             0.6666666666666666,
             "#ed7953"
            ],
            [
             0.7777777777777778,
             "#fb9f3a"
            ],
            [
             0.8888888888888888,
             "#fdca26"
            ],
            [
             1,
             "#f0f921"
            ]
           ]
          },
          "colorway": [
           "#636efa",
           "#EF553B",
           "#00cc96",
           "#ab63fa",
           "#FFA15A",
           "#19d3f3",
           "#FF6692",
           "#B6E880",
           "#FF97FF",
           "#FECB52"
          ],
          "font": {
           "color": "#2a3f5f"
          },
          "geo": {
           "bgcolor": "white",
           "lakecolor": "white",
           "landcolor": "#E5ECF6",
           "showlakes": true,
           "showland": true,
           "subunitcolor": "white"
          },
          "hoverlabel": {
           "align": "left"
          },
          "hovermode": "closest",
          "mapbox": {
           "style": "light"
          },
          "paper_bgcolor": "white",
          "plot_bgcolor": "#E5ECF6",
          "polar": {
           "angularaxis": {
            "gridcolor": "white",
            "linecolor": "white",
            "ticks": ""
           },
           "bgcolor": "#E5ECF6",
           "radialaxis": {
            "gridcolor": "white",
            "linecolor": "white",
            "ticks": ""
           }
          },
          "scene": {
           "xaxis": {
            "backgroundcolor": "#E5ECF6",
            "gridcolor": "white",
            "gridwidth": 2,
            "linecolor": "white",
            "showbackground": true,
            "ticks": "",
            "zerolinecolor": "white"
           },
           "yaxis": {
            "backgroundcolor": "#E5ECF6",
            "gridcolor": "white",
            "gridwidth": 2,
            "linecolor": "white",
            "showbackground": true,
            "ticks": "",
            "zerolinecolor": "white"
           },
           "zaxis": {
            "backgroundcolor": "#E5ECF6",
            "gridcolor": "white",
            "gridwidth": 2,
            "linecolor": "white",
            "showbackground": true,
            "ticks": "",
            "zerolinecolor": "white"
           }
          },
          "shapedefaults": {
           "line": {
            "color": "#2a3f5f"
           }
          },
          "ternary": {
           "aaxis": {
            "gridcolor": "white",
            "linecolor": "white",
            "ticks": ""
           },
           "baxis": {
            "gridcolor": "white",
            "linecolor": "white",
            "ticks": ""
           },
           "bgcolor": "#E5ECF6",
           "caxis": {
            "gridcolor": "white",
            "linecolor": "white",
            "ticks": ""
           }
          },
          "title": {
           "x": 0.05
          },
          "xaxis": {
           "automargin": true,
           "gridcolor": "white",
           "linecolor": "white",
           "ticks": "",
           "title": {
            "standoff": 15
           },
           "zerolinecolor": "white",
           "zerolinewidth": 2
          },
          "yaxis": {
           "automargin": true,
           "gridcolor": "white",
           "linecolor": "white",
           "ticks": "",
           "title": {
            "standoff": 15
           },
           "zerolinecolor": "white",
           "zerolinewidth": 2
          }
         }
        },
        "title": {
         "text": "Credit Card Data Imbalance"
        },
        "width": 500,
        "xaxis": {
         "showticklabels": true,
         "title": {
          "text": "Class"
         }
        },
        "yaxis": {
         "title": {
          "text": "Total Transactions"
         }
        }
       }
      },
      "text/html": [
       "<div>            <script src=\"https://cdnjs.cloudflare.com/ajax/libs/mathjax/2.7.5/MathJax.js?config=TeX-AMS-MML_SVG\"></script><script type=\"text/javascript\">if (window.MathJax && window.MathJax.Hub && window.MathJax.Hub.Config) {window.MathJax.Hub.Config({SVG: {font: \"STIX-Web\"}});}</script>                <script type=\"text/javascript\">window.PlotlyConfig = {MathJaxConfig: 'local'};</script>\n",
       "        <script charset=\"utf-8\" src=\"https://cdn.plot.ly/plotly-3.0.0.min.js\"></script>                <div id=\"9ac25549-b2d0-46bd-ac19-320f553850c1\" class=\"plotly-graph-div\" style=\"height:525px; width:500px;\"></div>            <script type=\"text/javascript\">                window.PLOTLYENV=window.PLOTLYENV || {};                                if (document.getElementById(\"9ac25549-b2d0-46bd-ac19-320f553850c1\")) {                    Plotly.newPlot(                        \"9ac25549-b2d0-46bd-ac19-320f553850c1\",                        [{\"marker\":{\"color\":\"#519872\"},\"name\":\"Credit Card Data Imbalance\",\"text\":{\"dtype\":\"f8\",\"bdata\":\"AAAAAGxaEUEAAAAAAMB+QA==\"},\"x\":{\"dtype\":\"i1\",\"bdata\":\"AAE=\"},\"y\":{\"dtype\":\"i4\",\"bdata\":\"m1YEAOwBAAA=\"},\"type\":\"bar\"}],                        {\"hovermode\":\"closest\",\"title\":{\"text\":\"Credit Card Data Imbalance\"},\"width\":500,\"xaxis\":{\"showticklabels\":true,\"title\":{\"text\":\"Class\"}},\"yaxis\":{\"title\":{\"text\":\"Total Transactions\"}},\"template\":{\"data\":{\"histogram2dcontour\":[{\"type\":\"histogram2dcontour\",\"colorbar\":{\"outlinewidth\":0,\"ticks\":\"\"},\"colorscale\":[[0.0,\"#0d0887\"],[0.1111111111111111,\"#46039f\"],[0.2222222222222222,\"#7201a8\"],[0.3333333333333333,\"#9c179e\"],[0.4444444444444444,\"#bd3786\"],[0.5555555555555556,\"#d8576b\"],[0.6666666666666666,\"#ed7953\"],[0.7777777777777778,\"#fb9f3a\"],[0.8888888888888888,\"#fdca26\"],[1.0,\"#f0f921\"]]}],\"choropleth\":[{\"type\":\"choropleth\",\"colorbar\":{\"outlinewidth\":0,\"ticks\":\"\"}}],\"histogram2d\":[{\"type\":\"histogram2d\",\"colorbar\":{\"outlinewidth\":0,\"ticks\":\"\"},\"colorscale\":[[0.0,\"#0d0887\"],[0.1111111111111111,\"#46039f\"],[0.2222222222222222,\"#7201a8\"],[0.3333333333333333,\"#9c179e\"],[0.4444444444444444,\"#bd3786\"],[0.5555555555555556,\"#d8576b\"],[0.6666666666666666,\"#ed7953\"],[0.7777777777777778,\"#fb9f3a\"],[0.8888888888888888,\"#fdca26\"],[1.0,\"#f0f921\"]]}],\"heatmap\":[{\"type\":\"heatmap\",\"colorbar\":{\"outlinewidth\":0,\"ticks\":\"\"},\"colorscale\":[[0.0,\"#0d0887\"],[0.1111111111111111,\"#46039f\"],[0.2222222222222222,\"#7201a8\"],[0.3333333333333333,\"#9c179e\"],[0.4444444444444444,\"#bd3786\"],[0.5555555555555556,\"#d8576b\"],[0.6666666666666666,\"#ed7953\"],[0.7777777777777778,\"#fb9f3a\"],[0.8888888888888888,\"#fdca26\"],[1.0,\"#f0f921\"]]}],\"contourcarpet\":[{\"type\":\"contourcarpet\",\"colorbar\":{\"outlinewidth\":0,\"ticks\":\"\"}}],\"contour\":[{\"type\":\"contour\",\"colorbar\":{\"outlinewidth\":0,\"ticks\":\"\"},\"colorscale\":[[0.0,\"#0d0887\"],[0.1111111111111111,\"#46039f\"],[0.2222222222222222,\"#7201a8\"],[0.3333333333333333,\"#9c179e\"],[0.4444444444444444,\"#bd3786\"],[0.5555555555555556,\"#d8576b\"],[0.6666666666666666,\"#ed7953\"],[0.7777777777777778,\"#fb9f3a\"],[0.8888888888888888,\"#fdca26\"],[1.0,\"#f0f921\"]]}],\"surface\":[{\"type\":\"surface\",\"colorbar\":{\"outlinewidth\":0,\"ticks\":\"\"},\"colorscale\":[[0.0,\"#0d0887\"],[0.1111111111111111,\"#46039f\"],[0.2222222222222222,\"#7201a8\"],[0.3333333333333333,\"#9c179e\"],[0.4444444444444444,\"#bd3786\"],[0.5555555555555556,\"#d8576b\"],[0.6666666666666666,\"#ed7953\"],[0.7777777777777778,\"#fb9f3a\"],[0.8888888888888888,\"#fdca26\"],[1.0,\"#f0f921\"]]}],\"mesh3d\":[{\"type\":\"mesh3d\",\"colorbar\":{\"outlinewidth\":0,\"ticks\":\"\"}}],\"scatter\":[{\"fillpattern\":{\"fillmode\":\"overlay\",\"size\":10,\"solidity\":0.2},\"type\":\"scatter\"}],\"parcoords\":[{\"type\":\"parcoords\",\"line\":{\"colorbar\":{\"outlinewidth\":0,\"ticks\":\"\"}}}],\"scatterpolargl\":[{\"type\":\"scatterpolargl\",\"marker\":{\"colorbar\":{\"outlinewidth\":0,\"ticks\":\"\"}}}],\"bar\":[{\"error_x\":{\"color\":\"#2a3f5f\"},\"error_y\":{\"color\":\"#2a3f5f\"},\"marker\":{\"line\":{\"color\":\"#E5ECF6\",\"width\":0.5},\"pattern\":{\"fillmode\":\"overlay\",\"size\":10,\"solidity\":0.2}},\"type\":\"bar\"}],\"scattergeo\":[{\"type\":\"scattergeo\",\"marker\":{\"colorbar\":{\"outlinewidth\":0,\"ticks\":\"\"}}}],\"scatterpolar\":[{\"type\":\"scatterpolar\",\"marker\":{\"colorbar\":{\"outlinewidth\":0,\"ticks\":\"\"}}}],\"histogram\":[{\"marker\":{\"pattern\":{\"fillmode\":\"overlay\",\"size\":10,\"solidity\":0.2}},\"type\":\"histogram\"}],\"scattergl\":[{\"type\":\"scattergl\",\"marker\":{\"colorbar\":{\"outlinewidth\":0,\"ticks\":\"\"}}}],\"scatter3d\":[{\"type\":\"scatter3d\",\"line\":{\"colorbar\":{\"outlinewidth\":0,\"ticks\":\"\"}},\"marker\":{\"colorbar\":{\"outlinewidth\":0,\"ticks\":\"\"}}}],\"scattermap\":[{\"type\":\"scattermap\",\"marker\":{\"colorbar\":{\"outlinewidth\":0,\"ticks\":\"\"}}}],\"scattermapbox\":[{\"type\":\"scattermapbox\",\"marker\":{\"colorbar\":{\"outlinewidth\":0,\"ticks\":\"\"}}}],\"scatterternary\":[{\"type\":\"scatterternary\",\"marker\":{\"colorbar\":{\"outlinewidth\":0,\"ticks\":\"\"}}}],\"scattercarpet\":[{\"type\":\"scattercarpet\",\"marker\":{\"colorbar\":{\"outlinewidth\":0,\"ticks\":\"\"}}}],\"carpet\":[{\"aaxis\":{\"endlinecolor\":\"#2a3f5f\",\"gridcolor\":\"white\",\"linecolor\":\"white\",\"minorgridcolor\":\"white\",\"startlinecolor\":\"#2a3f5f\"},\"baxis\":{\"endlinecolor\":\"#2a3f5f\",\"gridcolor\":\"white\",\"linecolor\":\"white\",\"minorgridcolor\":\"white\",\"startlinecolor\":\"#2a3f5f\"},\"type\":\"carpet\"}],\"table\":[{\"cells\":{\"fill\":{\"color\":\"#EBF0F8\"},\"line\":{\"color\":\"white\"}},\"header\":{\"fill\":{\"color\":\"#C8D4E3\"},\"line\":{\"color\":\"white\"}},\"type\":\"table\"}],\"barpolar\":[{\"marker\":{\"line\":{\"color\":\"#E5ECF6\",\"width\":0.5},\"pattern\":{\"fillmode\":\"overlay\",\"size\":10,\"solidity\":0.2}},\"type\":\"barpolar\"}],\"pie\":[{\"automargin\":true,\"type\":\"pie\"}]},\"layout\":{\"autotypenumbers\":\"strict\",\"colorway\":[\"#636efa\",\"#EF553B\",\"#00cc96\",\"#ab63fa\",\"#FFA15A\",\"#19d3f3\",\"#FF6692\",\"#B6E880\",\"#FF97FF\",\"#FECB52\"],\"font\":{\"color\":\"#2a3f5f\"},\"hovermode\":\"closest\",\"hoverlabel\":{\"align\":\"left\"},\"paper_bgcolor\":\"white\",\"plot_bgcolor\":\"#E5ECF6\",\"polar\":{\"bgcolor\":\"#E5ECF6\",\"angularaxis\":{\"gridcolor\":\"white\",\"linecolor\":\"white\",\"ticks\":\"\"},\"radialaxis\":{\"gridcolor\":\"white\",\"linecolor\":\"white\",\"ticks\":\"\"}},\"ternary\":{\"bgcolor\":\"#E5ECF6\",\"aaxis\":{\"gridcolor\":\"white\",\"linecolor\":\"white\",\"ticks\":\"\"},\"baxis\":{\"gridcolor\":\"white\",\"linecolor\":\"white\",\"ticks\":\"\"},\"caxis\":{\"gridcolor\":\"white\",\"linecolor\":\"white\",\"ticks\":\"\"}},\"coloraxis\":{\"colorbar\":{\"outlinewidth\":0,\"ticks\":\"\"}},\"colorscale\":{\"sequential\":[[0.0,\"#0d0887\"],[0.1111111111111111,\"#46039f\"],[0.2222222222222222,\"#7201a8\"],[0.3333333333333333,\"#9c179e\"],[0.4444444444444444,\"#bd3786\"],[0.5555555555555556,\"#d8576b\"],[0.6666666666666666,\"#ed7953\"],[0.7777777777777778,\"#fb9f3a\"],[0.8888888888888888,\"#fdca26\"],[1.0,\"#f0f921\"]],\"sequentialminus\":[[0.0,\"#0d0887\"],[0.1111111111111111,\"#46039f\"],[0.2222222222222222,\"#7201a8\"],[0.3333333333333333,\"#9c179e\"],[0.4444444444444444,\"#bd3786\"],[0.5555555555555556,\"#d8576b\"],[0.6666666666666666,\"#ed7953\"],[0.7777777777777778,\"#fb9f3a\"],[0.8888888888888888,\"#fdca26\"],[1.0,\"#f0f921\"]],\"diverging\":[[0,\"#8e0152\"],[0.1,\"#c51b7d\"],[0.2,\"#de77ae\"],[0.3,\"#f1b6da\"],[0.4,\"#fde0ef\"],[0.5,\"#f7f7f7\"],[0.6,\"#e6f5d0\"],[0.7,\"#b8e186\"],[0.8,\"#7fbc41\"],[0.9,\"#4d9221\"],[1,\"#276419\"]]},\"xaxis\":{\"gridcolor\":\"white\",\"linecolor\":\"white\",\"ticks\":\"\",\"title\":{\"standoff\":15},\"zerolinecolor\":\"white\",\"automargin\":true,\"zerolinewidth\":2},\"yaxis\":{\"gridcolor\":\"white\",\"linecolor\":\"white\",\"ticks\":\"\",\"title\":{\"standoff\":15},\"zerolinecolor\":\"white\",\"automargin\":true,\"zerolinewidth\":2},\"scene\":{\"xaxis\":{\"backgroundcolor\":\"#E5ECF6\",\"gridcolor\":\"white\",\"linecolor\":\"white\",\"showbackground\":true,\"ticks\":\"\",\"zerolinecolor\":\"white\",\"gridwidth\":2},\"yaxis\":{\"backgroundcolor\":\"#E5ECF6\",\"gridcolor\":\"white\",\"linecolor\":\"white\",\"showbackground\":true,\"ticks\":\"\",\"zerolinecolor\":\"white\",\"gridwidth\":2},\"zaxis\":{\"backgroundcolor\":\"#E5ECF6\",\"gridcolor\":\"white\",\"linecolor\":\"white\",\"showbackground\":true,\"ticks\":\"\",\"zerolinecolor\":\"white\",\"gridwidth\":2}},\"shapedefaults\":{\"line\":{\"color\":\"#2a3f5f\"}},\"annotationdefaults\":{\"arrowcolor\":\"#2a3f5f\",\"arrowhead\":0,\"arrowwidth\":1},\"geo\":{\"bgcolor\":\"white\",\"landcolor\":\"#E5ECF6\",\"subunitcolor\":\"white\",\"showland\":true,\"showlakes\":true,\"lakecolor\":\"white\"},\"title\":{\"x\":0.05},\"mapbox\":{\"style\":\"light\"}}}},                        {\"responsive\": true}                    ).then(function(){\n",
       "                            \n",
       "var gd = document.getElementById('9ac25549-b2d0-46bd-ac19-320f553850c1');\n",
       "var x = new MutationObserver(function (mutations, observer) {{\n",
       "        var display = window.getComputedStyle(gd).display;\n",
       "        if (!display || display === 'none') {{\n",
       "            console.log([gd, 'removed!']);\n",
       "            Plotly.purge(gd);\n",
       "            observer.disconnect();\n",
       "        }}\n",
       "}});\n",
       "\n",
       "// Listen for the removal of the full notebook cells\n",
       "var notebookContainer = gd.closest('#notebook-container');\n",
       "if (notebookContainer) {{\n",
       "    x.observe(notebookContainer, {childList: true});\n",
       "}}\n",
       "\n",
       "// Listen for the clearing of the current output cell\n",
       "var outputEl = gd.closest('.output');\n",
       "if (outputEl) {{\n",
       "    x.observe(outputEl, {childList: true});\n",
       "}}\n",
       "\n",
       "                        })                };            </script>        </div>"
      ]
     },
     "metadata": {},
     "output_type": "display_data"
    }
   ],
   "source": [
    "class_val = data['Class'].value_counts()\n",
    "df = pd.DataFrame({'Class': class_val.index, 'Values': class_val.values})\n",
    "\n",
    "graph_data = go.Bar(\n",
    "    x = df['Class'],\n",
    "    y = df['Values'],\n",
    "    name = 'Credit Card Data Imbalance',\n",
    "    marker = dict(color='#519872'),\n",
    "    text = df['Values']\n",
    ")\n",
    "\n",
    "layout = dict(\n",
    "    title = 'Credit Card Data Imbalance',\n",
    "    xaxis = dict(title='Class', showticklabels=True),\n",
    "    yaxis = dict(title='Total Transactions'),\n",
    "    hovermode = 'closest',\n",
    "    width = 500\n",
    ")\n",
    "\n",
    "fig = go.Figure(data=[graph_data], layout=layout)\n",
    "fig.write_image('../results/visualizations/credit_card_imbalance.png', scale=2)\n",
    "pio.show(fig)"
   ]
  },
  {
   "cell_type": "markdown",
   "metadata": {},
   "source": [
    "#### Transactions Amount"
   ]
  },
  {
   "cell_type": "code",
   "execution_count": 9,
   "metadata": {},
   "outputs": [
    {
     "data": {
      "image/png": "[encoded data removed]",
      "text/plain": [
       "<Figure size 1100x600 with 2 Axes>"
      ]
     },
     "metadata": {},
     "output_type": "display_data"
    }
   ],
   "source": [
    "fig, ax = plt.subplots(ncols=2, figsize=(11,6))\n",
    "\n",
    "sns.boxplot(ax=ax[0], x='Class', y='Amount', hue='Class', data=data, palette=['#a4b494', '#519872'], showfliers=False)\n",
    "sns.boxplot(ax=ax[1], x='Class', y='Amount', hue='Class', data=data, palette=['#a4b494', '#519872'], showfliers=True)\n",
    "\n",
    "for a in ax:\n",
    "    handles, _ = a.get_legend_handles_labels()\n",
    "    a.legend(handles, ['Legit Transactions', 'Fraud Transactions'], title=\"Transaction Type\")\n",
    "\n",
    "plt.savefig('../results/visualizations/transactions_amount.png', dpi=166.67)\n",
    "plt.show()"
   ]
  },
  {
   "cell_type": "markdown",
   "metadata": {},
   "source": [
    "#### Feature Correlation"
   ]
  },
  {
   "cell_type": "code",
   "execution_count": 10,
   "metadata": {},
   "outputs": [
    {
     "data": {
      "image/png": "[encoded data removed]",
      "text/plain": [
       "<Figure size 800x800 with 2 Axes>"
      ]
     },
     "metadata": {},
     "output_type": "display_data"
    }
   ],
   "source": [
    "data_corr = data.corr()\n",
    "\n",
    "plt.figure(figsize=(8,8))\n",
    "sns.heatmap(data_corr, xticklabels=data_corr.columns, yticklabels=data_corr.columns, cmap='Greens', linewidths=0.1)\n",
    "plt.title('Transactions Features Corr. Plot')\n",
    "plt.savefig('../results/visualizations/feature_correlation.png', dpi=125)\n",
    "plt.show()"
   ]
  },
  {
   "cell_type": "markdown",
   "metadata": {},
   "source": [
    "## Model Training"
   ]
  },
  {
   "cell_type": "markdown",
   "metadata": {},
   "source": [
    "### Split data into features (X) and target (y)"
   ]
  },
  {
   "cell_type": "code",
   "execution_count": 11,
   "metadata": {},
   "outputs": [],
   "source": [
    "X = data.drop(['Class'], axis=1)\n",
    "y = data['Class']"
   ]
  },
  {
   "cell_type": "markdown",
   "metadata": {},
   "source": [
    "### Train-Test-Val Split\n",
    "\n",
    "Training set - 80%,\n",
    "Test set - 10%,\n",
    "Validation set - 10%"
   ]
  },
  {
   "cell_type": "code",
   "execution_count": 12,
   "metadata": {},
   "outputs": [],
   "source": [
    "X_train, X_temp, y_train, y_temp = train_test_split(X, y, test_size=0.2, random_state=42, shuffle=True)\n",
    "X_test, X_val, y_test, y_val = train_test_split(X_temp, y_temp, test_size=0.5, random_state=42, shuffle=True)"
   ]
  },
  {
   "cell_type": "markdown",
   "metadata": {},
   "source": [
    "### Define Model"
   ]
  },
  {
   "cell_type": "markdown",
   "metadata": {},
   "source": [
    "#### RandomForestClassifier"
   ]
  },
  {
   "cell_type": "code",
   "execution_count": 13,
   "metadata": {},
   "outputs": [
    {
     "data": {
      "text/html": [
       "<style>#sk-container-id-1 {\n",
       "  /* Definition of color scheme common for light and dark mode */\n",
       "  --sklearn-color-text: #000;\n",
       "  --sklearn-color-text-muted: #666;\n",
       "  --sklearn-color-line: gray;\n",
       "  /* Definition of color scheme for unfitted estimators */\n",
       "  --sklearn-color-unfitted-level-0: #fff5e6;\n",
       "  --sklearn-color-unfitted-level-1: #f6e4d2;\n",
       "  --sklearn-color-unfitted-level-2: #ffe0b3;\n",
       "  --sklearn-color-unfitted-level-3: chocolate;\n",
       "  /* Definition of color scheme for fitted estimators */\n",
       "  --sklearn-color-fitted-level-0: #f0f8ff;\n",
       "  --sklearn-color-fitted-level-1: #d4ebff;\n",
       "  --sklearn-color-fitted-level-2: #b3dbfd;\n",
       "  --sklearn-color-fitted-level-3: cornflowerblue;\n",
       "\n",
       "  /* Specific color for light theme */\n",
       "  --sklearn-color-text-on-default-background: var(--sg-text-color, var(--theme-code-foreground, var(--jp-content-font-color1, black)));\n",
       "  --sklearn-color-background: var(--sg-background-color, var(--theme-background, var(--jp-layout-color0, white)));\n",
       "  --sklearn-color-border-box: var(--sg-text-color, var(--theme-code-foreground, var(--jp-content-font-color1, black)));\n",
       "  --sklearn-color-icon: #696969;\n",
       "\n",
       "  @media (prefers-color-scheme: dark) {\n",
       "    /* Redefinition of color scheme for dark theme */\n",
       "    --sklearn-color-text-on-default-background: var(--sg-text-color, var(--theme-code-foreground, var(--jp-content-font-color1, white)));\n",
       "    --sklearn-color-background: var(--sg-background-color, var(--theme-background, var(--jp-layout-color0, #111)));\n",
       "    --sklearn-color-border-box: var(--sg-text-color, var(--theme-code-foreground, var(--jp-content-font-color1, white)));\n",
       "    --sklearn-color-icon: #878787;\n",
       "  }\n",
       "}\n",
       "\n",
       "#sk-container-id-1 {\n",
       "  color: var(--sklearn-color-text);\n",
       "}\n",
       "\n",
       "#sk-container-id-1 pre {\n",
       "  padding: 0;\n",
       "}\n",
       "\n",
       "#sk-container-id-1 input.sk-hidden--visually {\n",
       "  border: 0;\n",
       "  clip: rect(1px 1px 1px 1px);\n",
       "  clip: rect(1px, 1px, 1px, 1px);\n",
       "  height: 1px;\n",
       "  margin: -1px;\n",
       "  overflow: hidden;\n",
       "  padding: 0;\n",
       "  position: absolute;\n",
       "  width: 1px;\n",
       "}\n",
       "\n",
       "#sk-container-id-1 div.sk-dashed-wrapped {\n",
       "  border: 1px dashed var(--sklearn-color-line);\n",
       "  margin: 0 0.4em 0.5em 0.4em;\n",
       "  box-sizing: border-box;\n",
       "  padding-bottom: 0.4em;\n",
       "  background-color: var(--sklearn-color-background);\n",
       "}\n",
       "\n",
       "#sk-container-id-1 div.sk-container {\n",
       "  /* jupyter's `normalize.less` sets `[hidden] { display: none; }`\n",
       "     but bootstrap.min.css set `[hidden] { display: none !important; }`\n",
       "     so we also need the `!important` here to be able to override the\n",
       "     default hidden behavior on the sphinx rendered scikit-learn.org.\n",
       "     See: https://github.com/scikit-learn/scikit-learn/issues/21755 */\n",
       "  display: inline-block !important;\n",
       "  position: relative;\n",
       "}\n",
       "\n",
       "#sk-container-id-1 div.sk-text-repr-fallback {\n",
       "  display: none;\n",
       "}\n",
       "\n",
       "div.sk-parallel-item,\n",
       "div.sk-serial,\n",
       "div.sk-item {\n",
       "  /* draw centered vertical line to link estimators */\n",
       "  background-image: linear-gradient(var(--sklearn-color-text-on-default-background), var(--sklearn-color-text-on-default-background));\n",
       "  background-size: 2px 100%;\n",
       "  background-repeat: no-repeat;\n",
       "  background-position: center center;\n",
       "}\n",
       "\n",
       "/* Parallel-specific style estimator block */\n",
       "\n",
       "#sk-container-id-1 div.sk-parallel-item::after {\n",
       "  content: \"\";\n",
       "  width: 100%;\n",
       "  border-bottom: 2px solid var(--sklearn-color-text-on-default-background);\n",
       "  flex-grow: 1;\n",
       "}\n",
       "\n",
       "#sk-container-id-1 div.sk-parallel {\n",
       "  display: flex;\n",
       "  align-items: stretch;\n",
       "  justify-content: center;\n",
       "  background-color: var(--sklearn-color-background);\n",
       "  position: relative;\n",
       "}\n",
       "\n",
       "#sk-container-id-1 div.sk-parallel-item {\n",
       "  display: flex;\n",
       "  flex-direction: column;\n",
       "}\n",
       "\n",
       "#sk-container-id-1 div.sk-parallel-item:first-child::after {\n",
       "  align-self: flex-end;\n",
       "  width: 50%;\n",
       "}\n",
       "\n",
       "#sk-container-id-1 div.sk-parallel-item:last-child::after {\n",
       "  align-self: flex-start;\n",
       "  width: 50%;\n",
       "}\n",
       "\n",
       "#sk-container-id-1 div.sk-parallel-item:only-child::after {\n",
       "  width: 0;\n",
       "}\n",
       "\n",
       "/* Serial-specific style estimator block */\n",
       "\n",
       "#sk-container-id-1 div.sk-serial {\n",
       "  display: flex;\n",
       "  flex-direction: column;\n",
       "  align-items: center;\n",
       "  background-color: var(--sklearn-color-background);\n",
       "  padding-right: 1em;\n",
       "  padding-left: 1em;\n",
       "}\n",
       "\n",
       "\n",
       "/* Toggleable style: style used for estimator/Pipeline/ColumnTransformer box that is\n",
       "clickable and can be expanded/collapsed.\n",
       "- Pipeline and ColumnTransformer use this feature and define the default style\n",
       "- Estimators will overwrite some part of the style using the `sk-estimator` class\n",
       "*/\n",
       "\n",
       "/* Pipeline and ColumnTransformer style (default) */\n",
       "\n",
       "#sk-container-id-1 div.sk-toggleable {\n",
       "  /* Default theme specific background. It is overwritten whether we have a\n",
       "  specific estimator or a Pipeline/ColumnTransformer */\n",
       "  background-color: var(--sklearn-color-background);\n",
       "}\n",
       "\n",
       "/* Toggleable label */\n",
       "#sk-container-id-1 label.sk-toggleable__label {\n",
       "  cursor: pointer;\n",
       "  display: flex;\n",
       "  width: 100%;\n",
       "  margin-bottom: 0;\n",
       "  padding: 0.5em;\n",
       "  box-sizing: border-box;\n",
       "  text-align: center;\n",
       "  align-items: start;\n",
       "  justify-content: space-between;\n",
       "  gap: 0.5em;\n",
       "}\n",
       "\n",
       "#sk-container-id-1 label.sk-toggleable__label .caption {\n",
       "  font-size: 0.6rem;\n",
       "  font-weight: lighter;\n",
       "  color: var(--sklearn-color-text-muted);\n",
       "}\n",
       "\n",
       "#sk-container-id-1 label.sk-toggleable__label-arrow:before {\n",
       "  /* Arrow on the left of the label */\n",
       "  content: \"▸\";\n",
       "  float: left;\n",
       "  margin-right: 0.25em;\n",
       "  color: var(--sklearn-color-icon);\n",
       "}\n",
       "\n",
       "#sk-container-id-1 label.sk-toggleable__label-arrow:hover:before {\n",
       "  color: var(--sklearn-color-text);\n",
       "}\n",
       "\n",
       "/* Toggleable content - dropdown */\n",
       "\n",
       "#sk-container-id-1 div.sk-toggleable__content {\n",
       "  max-height: 0;\n",
       "  max-width: 0;\n",
       "  overflow: hidden;\n",
       "  text-align: left;\n",
       "  /* unfitted */\n",
       "  background-color: var(--sklearn-color-unfitted-level-0);\n",
       "}\n",
       "\n",
       "#sk-container-id-1 div.sk-toggleable__content.fitted {\n",
       "  /* fitted */\n",
       "  background-color: var(--sklearn-color-fitted-level-0);\n",
       "}\n",
       "\n",
       "#sk-container-id-1 div.sk-toggleable__content pre {\n",
       "  margin: 0.2em;\n",
       "  border-radius: 0.25em;\n",
       "  color: var(--sklearn-color-text);\n",
       "  /* unfitted */\n",
       "  background-color: var(--sklearn-color-unfitted-level-0);\n",
       "}\n",
       "\n",
       "#sk-container-id-1 div.sk-toggleable__content.fitted pre {\n",
       "  /* unfitted */\n",
       "  background-color: var(--sklearn-color-fitted-level-0);\n",
       "}\n",
       "\n",
       "#sk-container-id-1 input.sk-toggleable__control:checked~div.sk-toggleable__content {\n",
       "  /* Expand drop-down */\n",
       "  max-height: 200px;\n",
       "  max-width: 100%;\n",
       "  overflow: auto;\n",
       "}\n",
       "\n",
       "#sk-container-id-1 input.sk-toggleable__control:checked~label.sk-toggleable__label-arrow:before {\n",
       "  content: \"▾\";\n",
       "}\n",
       "\n",
       "/* Pipeline/ColumnTransformer-specific style */\n",
       "\n",
       "#sk-container-id-1 div.sk-label input.sk-toggleable__control:checked~label.sk-toggleable__label {\n",
       "  color: var(--sklearn-color-text);\n",
       "  background-color: var(--sklearn-color-unfitted-level-2);\n",
       "}\n",
       "\n",
       "#sk-container-id-1 div.sk-label.fitted input.sk-toggleable__control:checked~label.sk-toggleable__label {\n",
       "  background-color: var(--sklearn-color-fitted-level-2);\n",
       "}\n",
       "\n",
       "/* Estimator-specific style */\n",
       "\n",
       "/* Colorize estimator box */\n",
       "#sk-container-id-1 div.sk-estimator input.sk-toggleable__control:checked~label.sk-toggleable__label {\n",
       "  /* unfitted */\n",
       "  background-color: var(--sklearn-color-unfitted-level-2);\n",
       "}\n",
       "\n",
       "#sk-container-id-1 div.sk-estimator.fitted input.sk-toggleable__control:checked~label.sk-toggleable__label {\n",
       "  /* fitted */\n",
       "  background-color: var(--sklearn-color-fitted-level-2);\n",
       "}\n",
       "\n",
       "#sk-container-id-1 div.sk-label label.sk-toggleable__label,\n",
       "#sk-container-id-1 div.sk-label label {\n",
       "  /* The background is the default theme color */\n",
       "  color: var(--sklearn-color-text-on-default-background);\n",
       "}\n",
       "\n",
       "/* On hover, darken the color of the background */\n",
       "#sk-container-id-1 div.sk-label:hover label.sk-toggleable__label {\n",
       "  color: var(--sklearn-color-text);\n",
       "  background-color: var(--sklearn-color-unfitted-level-2);\n",
       "}\n",
       "\n",
       "/* Label box, darken color on hover, fitted */\n",
       "#sk-container-id-1 div.sk-label.fitted:hover label.sk-toggleable__label.fitted {\n",
       "  color: var(--sklearn-color-text);\n",
       "  background-color: var(--sklearn-color-fitted-level-2);\n",
       "}\n",
       "\n",
       "/* Estimator label */\n",
       "\n",
       "#sk-container-id-1 div.sk-label label {\n",
       "  font-family: monospace;\n",
       "  font-weight: bold;\n",
       "  display: inline-block;\n",
       "  line-height: 1.2em;\n",
       "}\n",
       "\n",
       "#sk-container-id-1 div.sk-label-container {\n",
       "  text-align: center;\n",
       "}\n",
       "\n",
       "/* Estimator-specific */\n",
       "#sk-container-id-1 div.sk-estimator {\n",
       "  font-family: monospace;\n",
       "  border: 1px dotted var(--sklearn-color-border-box);\n",
       "  border-radius: 0.25em;\n",
       "  box-sizing: border-box;\n",
       "  margin-bottom: 0.5em;\n",
       "  /* unfitted */\n",
       "  background-color: var(--sklearn-color-unfitted-level-0);\n",
       "}\n",
       "\n",
       "#sk-container-id-1 div.sk-estimator.fitted {\n",
       "  /* fitted */\n",
       "  background-color: var(--sklearn-color-fitted-level-0);\n",
       "}\n",
       "\n",
       "/* on hover */\n",
       "#sk-container-id-1 div.sk-estimator:hover {\n",
       "  /* unfitted */\n",
       "  background-color: var(--sklearn-color-unfitted-level-2);\n",
       "}\n",
       "\n",
       "#sk-container-id-1 div.sk-estimator.fitted:hover {\n",
       "  /* fitted */\n",
       "  background-color: var(--sklearn-color-fitted-level-2);\n",
       "}\n",
       "\n",
       "/* Specification for estimator info (e.g. \"i\" and \"?\") */\n",
       "\n",
       "/* Common style for \"i\" and \"?\" */\n",
       "\n",
       ".sk-estimator-doc-link,\n",
       "a:link.sk-estimator-doc-link,\n",
       "a:visited.sk-estimator-doc-link {\n",
       "  float: right;\n",
       "  font-size: smaller;\n",
       "  line-height: 1em;\n",
       "  font-family: monospace;\n",
       "  background-color: var(--sklearn-color-background);\n",
       "  border-radius: 1em;\n",
       "  height: 1em;\n",
       "  width: 1em;\n",
       "  text-decoration: none !important;\n",
       "  margin-left: 0.5em;\n",
       "  text-align: center;\n",
       "  /* unfitted */\n",
       "  border: var(--sklearn-color-unfitted-level-1) 1pt solid;\n",
       "  color: var(--sklearn-color-unfitted-level-1);\n",
       "}\n",
       "\n",
       ".sk-estimator-doc-link.fitted,\n",
       "a:link.sk-estimator-doc-link.fitted,\n",
       "a:visited.sk-estimator-doc-link.fitted {\n",
       "  /* fitted */\n",
       "  border: var(--sklearn-color-fitted-level-1) 1pt solid;\n",
       "  color: var(--sklearn-color-fitted-level-1);\n",
       "}\n",
       "\n",
       "/* On hover */\n",
       "div.sk-estimator:hover .sk-estimator-doc-link:hover,\n",
       ".sk-estimator-doc-link:hover,\n",
       "div.sk-label-container:hover .sk-estimator-doc-link:hover,\n",
       ".sk-estimator-doc-link:hover {\n",
       "  /* unfitted */\n",
       "  background-color: var(--sklearn-color-unfitted-level-3);\n",
       "  color: var(--sklearn-color-background);\n",
       "  text-decoration: none;\n",
       "}\n",
       "\n",
       "div.sk-estimator.fitted:hover .sk-estimator-doc-link.fitted:hover,\n",
       ".sk-estimator-doc-link.fitted:hover,\n",
       "div.sk-label-container:hover .sk-estimator-doc-link.fitted:hover,\n",
       ".sk-estimator-doc-link.fitted:hover {\n",
       "  /* fitted */\n",
       "  background-color: var(--sklearn-color-fitted-level-3);\n",
       "  color: var(--sklearn-color-background);\n",
       "  text-decoration: none;\n",
       "}\n",
       "\n",
       "/* Span, style for the box shown on hovering the info icon */\n",
       ".sk-estimator-doc-link span {\n",
       "  display: none;\n",
       "  z-index: 9999;\n",
       "  position: relative;\n",
       "  font-weight: normal;\n",
       "  right: .2ex;\n",
       "  padding: .5ex;\n",
       "  margin: .5ex;\n",
       "  width: min-content;\n",
       "  min-width: 20ex;\n",
       "  max-width: 50ex;\n",
       "  color: var(--sklearn-color-text);\n",
       "  box-shadow: 2pt 2pt 4pt #999;\n",
       "  /* unfitted */\n",
       "  background: var(--sklearn-color-unfitted-level-0);\n",
       "  border: .5pt solid var(--sklearn-color-unfitted-level-3);\n",
       "}\n",
       "\n",
       ".sk-estimator-doc-link.fitted span {\n",
       "  /* fitted */\n",
       "  background: var(--sklearn-color-fitted-level-0);\n",
       "  border: var(--sklearn-color-fitted-level-3);\n",
       "}\n",
       "\n",
       ".sk-estimator-doc-link:hover span {\n",
       "  display: block;\n",
       "}\n",
       "\n",
       "/* \"?\"-specific style due to the `<a>` HTML tag */\n",
       "\n",
       "#sk-container-id-1 a.estimator_doc_link {\n",
       "  float: right;\n",
       "  font-size: 1rem;\n",
       "  line-height: 1em;\n",
       "  font-family: monospace;\n",
       "  background-color: var(--sklearn-color-background);\n",
       "  border-radius: 1rem;\n",
       "  height: 1rem;\n",
       "  width: 1rem;\n",
       "  text-decoration: none;\n",
       "  /* unfitted */\n",
       "  color: var(--sklearn-color-unfitted-level-1);\n",
       "  border: var(--sklearn-color-unfitted-level-1) 1pt solid;\n",
       "}\n",
       "\n",
       "#sk-container-id-1 a.estimator_doc_link.fitted {\n",
       "  /* fitted */\n",
       "  border: var(--sklearn-color-fitted-level-1) 1pt solid;\n",
       "  color: var(--sklearn-color-fitted-level-1);\n",
       "}\n",
       "\n",
       "/* On hover */\n",
       "#sk-container-id-1 a.estimator_doc_link:hover {\n",
       "  /* unfitted */\n",
       "  background-color: var(--sklearn-color-unfitted-level-3);\n",
       "  color: var(--sklearn-color-background);\n",
       "  text-decoration: none;\n",
       "}\n",
       "\n",
       "#sk-container-id-1 a.estimator_doc_link.fitted:hover {\n",
       "  /* fitted */\n",
       "  background-color: var(--sklearn-color-fitted-level-3);\n",
       "}\n",
       "</style><div id=\"sk-container-id-1\" class=\"sk-top-container\"><div class=\"sk-text-repr-fallback\"><pre>RandomForestClassifier(n_jobs=4, random_state=42, verbose=False)</pre><b>In a Jupyter environment, please rerun this cell to show the HTML representation or trust the notebook. <br />On GitHub, the HTML representation is unable to render, please try loading this page with nbviewer.org.</b></div><div class=\"sk-container\" hidden><div class=\"sk-item\"><div class=\"sk-estimator fitted sk-toggleable\"><input class=\"sk-toggleable__control sk-hidden--visually\" id=\"sk-estimator-id-1\" type=\"checkbox\" checked><label for=\"sk-estimator-id-1\" class=\"sk-toggleable__label fitted sk-toggleable__label-arrow\"><div><div>RandomForestClassifier</div></div><div><a class=\"sk-estimator-doc-link fitted\" rel=\"noreferrer\" target=\"_blank\" href=\"https://scikit-learn.org/1.6/modules/generated/sklearn.ensemble.RandomForestClassifier.html\">?<span>Documentation for RandomForestClassifier</span></a><span class=\"sk-estimator-doc-link fitted\">i<span>Fitted</span></span></div></label><div class=\"sk-toggleable__content fitted\"><pre>RandomForestClassifier(n_jobs=4, random_state=42, verbose=False)</pre></div> </div></div></div></div>"
      ],
      "text/plain": [
       "RandomForestClassifier(n_jobs=4, random_state=42, verbose=False)"
      ]
     },
     "execution_count": 13,
     "metadata": {},
     "output_type": "execute_result"
    }
   ],
   "source": [
    "rfc = RandomForestClassifier(n_jobs=4, random_state=42, criterion='gini', n_estimators=100, verbose=False)\n",
    "rfc.fit(X_train, y_train.values)"
   ]
  },
  {
   "cell_type": "code",
   "execution_count": 14,
   "metadata": {},
   "outputs": [],
   "source": [
    "rfc_pred = rfc.predict(X_val)"
   ]
  },
  {
   "cell_type": "markdown",
   "metadata": {},
   "source": [
    "### AdaBoostClassifier"
   ]
  },
  {
   "cell_type": "code",
   "execution_count": 15,
   "metadata": {},
   "outputs": [
    {
     "data": {
      "text/html": [
       "<style>#sk-container-id-2 {\n",
       "  /* Definition of color scheme common for light and dark mode */\n",
       "  --sklearn-color-text: #000;\n",
       "  --sklearn-color-text-muted: #666;\n",
       "  --sklearn-color-line: gray;\n",
       "  /* Definition of color scheme for unfitted estimators */\n",
       "  --sklearn-color-unfitted-level-0: #fff5e6;\n",
       "  --sklearn-color-unfitted-level-1: #f6e4d2;\n",
       "  --sklearn-color-unfitted-level-2: #ffe0b3;\n",
       "  --sklearn-color-unfitted-level-3: chocolate;\n",
       "  /* Definition of color scheme for fitted estimators */\n",
       "  --sklearn-color-fitted-level-0: #f0f8ff;\n",
       "  --sklearn-color-fitted-level-1: #d4ebff;\n",
       "  --sklearn-color-fitted-level-2: #b3dbfd;\n",
       "  --sklearn-color-fitted-level-3: cornflowerblue;\n",
       "\n",
       "  /* Specific color for light theme */\n",
       "  --sklearn-color-text-on-default-background: var(--sg-text-color, var(--theme-code-foreground, var(--jp-content-font-color1, black)));\n",
       "  --sklearn-color-background: var(--sg-background-color, var(--theme-background, var(--jp-layout-color0, white)));\n",
       "  --sklearn-color-border-box: var(--sg-text-color, var(--theme-code-foreground, var(--jp-content-font-color1, black)));\n",
       "  --sklearn-color-icon: #696969;\n",
       "\n",
       "  @media (prefers-color-scheme: dark) {\n",
       "    /* Redefinition of color scheme for dark theme */\n",
       "    --sklearn-color-text-on-default-background: var(--sg-text-color, var(--theme-code-foreground, var(--jp-content-font-color1, white)));\n",
       "    --sklearn-color-background: var(--sg-background-color, var(--theme-background, var(--jp-layout-color0, #111)));\n",
       "    --sklearn-color-border-box: var(--sg-text-color, var(--theme-code-foreground, var(--jp-content-font-color1, white)));\n",
       "    --sklearn-color-icon: #878787;\n",
       "  }\n",
       "}\n",
       "\n",
       "#sk-container-id-2 {\n",
       "  color: var(--sklearn-color-text);\n",
       "}\n",
       "\n",
       "#sk-container-id-2 pre {\n",
       "  padding: 0;\n",
       "}\n",
       "\n",
       "#sk-container-id-2 input.sk-hidden--visually {\n",
       "  border: 0;\n",
       "  clip: rect(1px 1px 1px 1px);\n",
       "  clip: rect(1px, 1px, 1px, 1px);\n",
       "  height: 1px;\n",
       "  margin: -1px;\n",
       "  overflow: hidden;\n",
       "  padding: 0;\n",
       "  position: absolute;\n",
       "  width: 1px;\n",
       "}\n",
       "\n",
       "#sk-container-id-2 div.sk-dashed-wrapped {\n",
       "  border: 1px dashed var(--sklearn-color-line);\n",
       "  margin: 0 0.4em 0.5em 0.4em;\n",
       "  box-sizing: border-box;\n",
       "  padding-bottom: 0.4em;\n",
       "  background-color: var(--sklearn-color-background);\n",
       "}\n",
       "\n",
       "#sk-container-id-2 div.sk-container {\n",
       "  /* jupyter's `normalize.less` sets `[hidden] { display: none; }`\n",
       "     but bootstrap.min.css set `[hidden] { display: none !important; }`\n",
       "     so we also need the `!important` here to be able to override the\n",
       "     default hidden behavior on the sphinx rendered scikit-learn.org.\n",
       "     See: https://github.com/scikit-learn/scikit-learn/issues/21755 */\n",
       "  display: inline-block !important;\n",
       "  position: relative;\n",
       "}\n",
       "\n",
       "#sk-container-id-2 div.sk-text-repr-fallback {\n",
       "  display: none;\n",
       "}\n",
       "\n",
       "div.sk-parallel-item,\n",
       "div.sk-serial,\n",
       "div.sk-item {\n",
       "  /* draw centered vertical line to link estimators */\n",
       "  background-image: linear-gradient(var(--sklearn-color-text-on-default-background), var(--sklearn-color-text-on-default-background));\n",
       "  background-size: 2px 100%;\n",
       "  background-repeat: no-repeat;\n",
       "  background-position: center center;\n",
       "}\n",
       "\n",
       "/* Parallel-specific style estimator block */\n",
       "\n",
       "#sk-container-id-2 div.sk-parallel-item::after {\n",
       "  content: \"\";\n",
       "  width: 100%;\n",
       "  border-bottom: 2px solid var(--sklearn-color-text-on-default-background);\n",
       "  flex-grow: 1;\n",
       "}\n",
       "\n",
       "#sk-container-id-2 div.sk-parallel {\n",
       "  display: flex;\n",
       "  align-items: stretch;\n",
       "  justify-content: center;\n",
       "  background-color: var(--sklearn-color-background);\n",
       "  position: relative;\n",
       "}\n",
       "\n",
       "#sk-container-id-2 div.sk-parallel-item {\n",
       "  display: flex;\n",
       "  flex-direction: column;\n",
       "}\n",
       "\n",
       "#sk-container-id-2 div.sk-parallel-item:first-child::after {\n",
       "  align-self: flex-end;\n",
       "  width: 50%;\n",
       "}\n",
       "\n",
       "#sk-container-id-2 div.sk-parallel-item:last-child::after {\n",
       "  align-self: flex-start;\n",
       "  width: 50%;\n",
       "}\n",
       "\n",
       "#sk-container-id-2 div.sk-parallel-item:only-child::after {\n",
       "  width: 0;\n",
       "}\n",
       "\n",
       "/* Serial-specific style estimator block */\n",
       "\n",
       "#sk-container-id-2 div.sk-serial {\n",
       "  display: flex;\n",
       "  flex-direction: column;\n",
       "  align-items: center;\n",
       "  background-color: var(--sklearn-color-background);\n",
       "  padding-right: 1em;\n",
       "  padding-left: 1em;\n",
       "}\n",
       "\n",
       "\n",
       "/* Toggleable style: style used for estimator/Pipeline/ColumnTransformer box that is\n",
       "clickable and can be expanded/collapsed.\n",
       "- Pipeline and ColumnTransformer use this feature and define the default style\n",
       "- Estimators will overwrite some part of the style using the `sk-estimator` class\n",
       "*/\n",
       "\n",
       "/* Pipeline and ColumnTransformer style (default) */\n",
       "\n",
       "#sk-container-id-2 div.sk-toggleable {\n",
       "  /* Default theme specific background. It is overwritten whether we have a\n",
       "  specific estimator or a Pipeline/ColumnTransformer */\n",
       "  background-color: var(--sklearn-color-background);\n",
       "}\n",
       "\n",
       "/* Toggleable label */\n",
       "#sk-container-id-2 label.sk-toggleable__label {\n",
       "  cursor: pointer;\n",
       "  display: flex;\n",
       "  width: 100%;\n",
       "  margin-bottom: 0;\n",
       "  padding: 0.5em;\n",
       "  box-sizing: border-box;\n",
       "  text-align: center;\n",
       "  align-items: start;\n",
       "  justify-content: space-between;\n",
       "  gap: 0.5em;\n",
       "}\n",
       "\n",
       "#sk-container-id-2 label.sk-toggleable__label .caption {\n",
       "  font-size: 0.6rem;\n",
       "  font-weight: lighter;\n",
       "  color: var(--sklearn-color-text-muted);\n",
       "}\n",
       "\n",
       "#sk-container-id-2 label.sk-toggleable__label-arrow:before {\n",
       "  /* Arrow on the left of the label */\n",
       "  content: \"▸\";\n",
       "  float: left;\n",
       "  margin-right: 0.25em;\n",
       "  color: var(--sklearn-color-icon);\n",
       "}\n",
       "\n",
       "#sk-container-id-2 label.sk-toggleable__label-arrow:hover:before {\n",
       "  color: var(--sklearn-color-text);\n",
       "}\n",
       "\n",
       "/* Toggleable content - dropdown */\n",
       "\n",
       "#sk-container-id-2 div.sk-toggleable__content {\n",
       "  max-height: 0;\n",
       "  max-width: 0;\n",
       "  overflow: hidden;\n",
       "  text-align: left;\n",
       "  /* unfitted */\n",
       "  background-color: var(--sklearn-color-unfitted-level-0);\n",
       "}\n",
       "\n",
       "#sk-container-id-2 div.sk-toggleable__content.fitted {\n",
       "  /* fitted */\n",
       "  background-color: var(--sklearn-color-fitted-level-0);\n",
       "}\n",
       "\n",
       "#sk-container-id-2 div.sk-toggleable__content pre {\n",
       "  margin: 0.2em;\n",
       "  border-radius: 0.25em;\n",
       "  color: var(--sklearn-color-text);\n",
       "  /* unfitted */\n",
       "  background-color: var(--sklearn-color-unfitted-level-0);\n",
       "}\n",
       "\n",
       "#sk-container-id-2 div.sk-toggleable__content.fitted pre {\n",
       "  /* unfitted */\n",
       "  background-color: var(--sklearn-color-fitted-level-0);\n",
       "}\n",
       "\n",
       "#sk-container-id-2 input.sk-toggleable__control:checked~div.sk-toggleable__content {\n",
       "  /* Expand drop-down */\n",
       "  max-height: 200px;\n",
       "  max-width: 100%;\n",
       "  overflow: auto;\n",
       "}\n",
       "\n",
       "#sk-container-id-2 input.sk-toggleable__control:checked~label.sk-toggleable__label-arrow:before {\n",
       "  content: \"▾\";\n",
       "}\n",
       "\n",
       "/* Pipeline/ColumnTransformer-specific style */\n",
       "\n",
       "#sk-container-id-2 div.sk-label input.sk-toggleable__control:checked~label.sk-toggleable__label {\n",
       "  color: var(--sklearn-color-text);\n",
       "  background-color: var(--sklearn-color-unfitted-level-2);\n",
       "}\n",
       "\n",
       "#sk-container-id-2 div.sk-label.fitted input.sk-toggleable__control:checked~label.sk-toggleable__label {\n",
       "  background-color: var(--sklearn-color-fitted-level-2);\n",
       "}\n",
       "\n",
       "/* Estimator-specific style */\n",
       "\n",
       "/* Colorize estimator box */\n",
       "#sk-container-id-2 div.sk-estimator input.sk-toggleable__control:checked~label.sk-toggleable__label {\n",
       "  /* unfitted */\n",
       "  background-color: var(--sklearn-color-unfitted-level-2);\n",
       "}\n",
       "\n",
       "#sk-container-id-2 div.sk-estimator.fitted input.sk-toggleable__control:checked~label.sk-toggleable__label {\n",
       "  /* fitted */\n",
       "  background-color: var(--sklearn-color-fitted-level-2);\n",
       "}\n",
       "\n",
       "#sk-container-id-2 div.sk-label label.sk-toggleable__label,\n",
       "#sk-container-id-2 div.sk-label label {\n",
       "  /* The background is the default theme color */\n",
       "  color: var(--sklearn-color-text-on-default-background);\n",
       "}\n",
       "\n",
       "/* On hover, darken the color of the background */\n",
       "#sk-container-id-2 div.sk-label:hover label.sk-toggleable__label {\n",
       "  color: var(--sklearn-color-text);\n",
       "  background-color: var(--sklearn-color-unfitted-level-2);\n",
       "}\n",
       "\n",
       "/* Label box, darken color on hover, fitted */\n",
       "#sk-container-id-2 div.sk-label.fitted:hover label.sk-toggleable__label.fitted {\n",
       "  color: var(--sklearn-color-text);\n",
       "  background-color: var(--sklearn-color-fitted-level-2);\n",
       "}\n",
       "\n",
       "/* Estimator label */\n",
       "\n",
       "#sk-container-id-2 div.sk-label label {\n",
       "  font-family: monospace;\n",
       "  font-weight: bold;\n",
       "  display: inline-block;\n",
       "  line-height: 1.2em;\n",
       "}\n",
       "\n",
       "#sk-container-id-2 div.sk-label-container {\n",
       "  text-align: center;\n",
       "}\n",
       "\n",
       "/* Estimator-specific */\n",
       "#sk-container-id-2 div.sk-estimator {\n",
       "  font-family: monospace;\n",
       "  border: 1px dotted var(--sklearn-color-border-box);\n",
       "  border-radius: 0.25em;\n",
       "  box-sizing: border-box;\n",
       "  margin-bottom: 0.5em;\n",
       "  /* unfitted */\n",
       "  background-color: var(--sklearn-color-unfitted-level-0);\n",
       "}\n",
       "\n",
       "#sk-container-id-2 div.sk-estimator.fitted {\n",
       "  /* fitted */\n",
       "  background-color: var(--sklearn-color-fitted-level-0);\n",
       "}\n",
       "\n",
       "/* on hover */\n",
       "#sk-container-id-2 div.sk-estimator:hover {\n",
       "  /* unfitted */\n",
       "  background-color: var(--sklearn-color-unfitted-level-2);\n",
       "}\n",
       "\n",
       "#sk-container-id-2 div.sk-estimator.fitted:hover {\n",
       "  /* fitted */\n",
       "  background-color: var(--sklearn-color-fitted-level-2);\n",
       "}\n",
       "\n",
       "/* Specification for estimator info (e.g. \"i\" and \"?\") */\n",
       "\n",
       "/* Common style for \"i\" and \"?\" */\n",
       "\n",
       ".sk-estimator-doc-link,\n",
       "a:link.sk-estimator-doc-link,\n",
       "a:visited.sk-estimator-doc-link {\n",
       "  float: right;\n",
       "  font-size: smaller;\n",
       "  line-height: 1em;\n",
       "  font-family: monospace;\n",
       "  background-color: var(--sklearn-color-background);\n",
       "  border-radius: 1em;\n",
       "  height: 1em;\n",
       "  width: 1em;\n",
       "  text-decoration: none !important;\n",
       "  margin-left: 0.5em;\n",
       "  text-align: center;\n",
       "  /* unfitted */\n",
       "  border: var(--sklearn-color-unfitted-level-1) 1pt solid;\n",
       "  color: var(--sklearn-color-unfitted-level-1);\n",
       "}\n",
       "\n",
       ".sk-estimator-doc-link.fitted,\n",
       "a:link.sk-estimator-doc-link.fitted,\n",
       "a:visited.sk-estimator-doc-link.fitted {\n",
       "  /* fitted */\n",
       "  border: var(--sklearn-color-fitted-level-1) 1pt solid;\n",
       "  color: var(--sklearn-color-fitted-level-1);\n",
       "}\n",
       "\n",
       "/* On hover */\n",
       "div.sk-estimator:hover .sk-estimator-doc-link:hover,\n",
       ".sk-estimator-doc-link:hover,\n",
       "div.sk-label-container:hover .sk-estimator-doc-link:hover,\n",
       ".sk-estimator-doc-link:hover {\n",
       "  /* unfitted */\n",
       "  background-color: var(--sklearn-color-unfitted-level-3);\n",
       "  color: var(--sklearn-color-background);\n",
       "  text-decoration: none;\n",
       "}\n",
       "\n",
       "div.sk-estimator.fitted:hover .sk-estimator-doc-link.fitted:hover,\n",
       ".sk-estimator-doc-link.fitted:hover,\n",
       "div.sk-label-container:hover .sk-estimator-doc-link.fitted:hover,\n",
       ".sk-estimator-doc-link.fitted:hover {\n",
       "  /* fitted */\n",
       "  background-color: var(--sklearn-color-fitted-level-3);\n",
       "  color: var(--sklearn-color-background);\n",
       "  text-decoration: none;\n",
       "}\n",
       "\n",
       "/* Span, style for the box shown on hovering the info icon */\n",
       ".sk-estimator-doc-link span {\n",
       "  display: none;\n",
       "  z-index: 9999;\n",
       "  position: relative;\n",
       "  font-weight: normal;\n",
       "  right: .2ex;\n",
       "  padding: .5ex;\n",
       "  margin: .5ex;\n",
       "  width: min-content;\n",
       "  min-width: 20ex;\n",
       "  max-width: 50ex;\n",
       "  color: var(--sklearn-color-text);\n",
       "  box-shadow: 2pt 2pt 4pt #999;\n",
       "  /* unfitted */\n",
       "  background: var(--sklearn-color-unfitted-level-0);\n",
       "  border: .5pt solid var(--sklearn-color-unfitted-level-3);\n",
       "}\n",
       "\n",
       ".sk-estimator-doc-link.fitted span {\n",
       "  /* fitted */\n",
       "  background: var(--sklearn-color-fitted-level-0);\n",
       "  border: var(--sklearn-color-fitted-level-3);\n",
       "}\n",
       "\n",
       ".sk-estimator-doc-link:hover span {\n",
       "  display: block;\n",
       "}\n",
       "\n",
       "/* \"?\"-specific style due to the `<a>` HTML tag */\n",
       "\n",
       "#sk-container-id-2 a.estimator_doc_link {\n",
       "  float: right;\n",
       "  font-size: 1rem;\n",
       "  line-height: 1em;\n",
       "  font-family: monospace;\n",
       "  background-color: var(--sklearn-color-background);\n",
       "  border-radius: 1rem;\n",
       "  height: 1rem;\n",
       "  width: 1rem;\n",
       "  text-decoration: none;\n",
       "  /* unfitted */\n",
       "  color: var(--sklearn-color-unfitted-level-1);\n",
       "  border: var(--sklearn-color-unfitted-level-1) 1pt solid;\n",
       "}\n",
       "\n",
       "#sk-container-id-2 a.estimator_doc_link.fitted {\n",
       "  /* fitted */\n",
       "  border: var(--sklearn-color-fitted-level-1) 1pt solid;\n",
       "  color: var(--sklearn-color-fitted-level-1);\n",
       "}\n",
       "\n",
       "/* On hover */\n",
       "#sk-container-id-2 a.estimator_doc_link:hover {\n",
       "  /* unfitted */\n",
       "  background-color: var(--sklearn-color-unfitted-level-3);\n",
       "  color: var(--sklearn-color-background);\n",
       "  text-decoration: none;\n",
       "}\n",
       "\n",
       "#sk-container-id-2 a.estimator_doc_link.fitted:hover {\n",
       "  /* fitted */\n",
       "  background-color: var(--sklearn-color-fitted-level-3);\n",
       "}\n",
       "</style><div id=\"sk-container-id-2\" class=\"sk-top-container\"><div class=\"sk-text-repr-fallback\"><pre>AdaBoostClassifier(learning_rate=0.8, n_estimators=100, random_state=42)</pre><b>In a Jupyter environment, please rerun this cell to show the HTML representation or trust the notebook. <br />On GitHub, the HTML representation is unable to render, please try loading this page with nbviewer.org.</b></div><div class=\"sk-container\" hidden><div class=\"sk-item\"><div class=\"sk-estimator fitted sk-toggleable\"><input class=\"sk-toggleable__control sk-hidden--visually\" id=\"sk-estimator-id-2\" type=\"checkbox\" checked><label for=\"sk-estimator-id-2\" class=\"sk-toggleable__label fitted sk-toggleable__label-arrow\"><div><div>AdaBoostClassifier</div></div><div><a class=\"sk-estimator-doc-link fitted\" rel=\"noreferrer\" target=\"_blank\" href=\"https://scikit-learn.org/1.6/modules/generated/sklearn.ensemble.AdaBoostClassifier.html\">?<span>Documentation for AdaBoostClassifier</span></a><span class=\"sk-estimator-doc-link fitted\">i<span>Fitted</span></span></div></label><div class=\"sk-toggleable__content fitted\"><pre>AdaBoostClassifier(learning_rate=0.8, n_estimators=100, random_state=42)</pre></div> </div></div></div></div>"
      ],
      "text/plain": [
       "AdaBoostClassifier(learning_rate=0.8, n_estimators=100, random_state=42)"
      ]
     },
     "execution_count": 15,
     "metadata": {},
     "output_type": "execute_result"
    }
   ],
   "source": [
    "abc = AdaBoostClassifier(learning_rate=0.8, n_estimators=100, random_state=42)\n",
    "abc.fit(X_train, y_train.values)"
   ]
  },
  {
   "cell_type": "code",
   "execution_count": 16,
   "metadata": {},
   "outputs": [],
   "source": [
    "abc_pred = abc.predict(X_val)"
   ]
  },
  {
   "cell_type": "markdown",
   "metadata": {},
   "source": [
    "### CatBoostClassifier"
   ]
  },
  {
   "cell_type": "code",
   "execution_count": 17,
   "metadata": {},
   "outputs": [
    {
     "name": "stdout",
     "output_type": "stream",
     "text": [
      "Learning rate set to 0.197556\n",
      "0:\ttotal: 684ms\tremaining: 5m 41s\n",
      "50:\ttotal: 26.1s\tremaining: 3m 50s\n",
      "100:\ttotal: 44.5s\tremaining: 2m 55s\n",
      "150:\ttotal: 1m 5s\tremaining: 2m 30s\n",
      "200:\ttotal: 1m 25s\tremaining: 2m 7s\n",
      "250:\ttotal: 1m 45s\tremaining: 1m 44s\n",
      "300:\ttotal: 2m 5s\tremaining: 1m 23s\n",
      "350:\ttotal: 2m 27s\tremaining: 1m 2s\n",
      "400:\ttotal: 2m 48s\tremaining: 41.6s\n",
      "450:\ttotal: 3m 8s\tremaining: 20.5s\n",
      "499:\ttotal: 3m 30s\tremaining: 0us\n"
     ]
    },
    {
     "data": {
      "text/plain": [
       "<catboost.core.CatBoostClassifier at 0x26db730a1e0>"
      ]
     },
     "execution_count": 17,
     "metadata": {},
     "output_type": "execute_result"
    }
   ],
   "source": [
    "cbc = CatBoostClassifier(iterations=500, eval_metric='AUC', metric_period=50, od_type='Iter', od_wait=100, depth=12, bagging_temperature=0.2, random_state=42)\n",
    "cbc.fit(X_train, y_train.values, verbose=True)"
   ]
  },
  {
   "cell_type": "code",
   "execution_count": 18,
   "metadata": {},
   "outputs": [],
   "source": [
    "cbc_pred = cbc.predict(X_train)"
   ]
  },
  {
   "cell_type": "markdown",
   "metadata": {},
   "source": [
    "### XGBoost"
   ]
  },
  {
   "cell_type": "code",
   "execution_count": 27,
   "metadata": {},
   "outputs": [],
   "source": [
    "d_train = xgb.DMatrix(X_train, y_train.values)\n",
    "d_test = xgb.DMatrix(X_test, y_test.values)\n",
    "d_val = xgb.DMatrix(X_val, y_val.values)\n",
    "\n",
    "wl = [(d_train, 'train'), (d_val, 'valid')]\n",
    "\n",
    "xgb_params = {\n",
    "    'objective': 'binary:logistic',\n",
    "    'eta': 0.039,\n",
    "    'max_depth': 2,\n",
    "    'subsample': 0.8,\n",
    "    'colsample_bytree': 0.9,\n",
    "    'eval_metric': 'auc',\n",
    "    'random_state': 42\n",
    "}"
   ]
  },
  {
   "cell_type": "code",
   "execution_count": 29,
   "metadata": {},
   "outputs": [
    {
     "name": "stdout",
     "output_type": "stream",
     "text": [
      "[0]\ttrain-auc:0.90024\tvalid-auc:0.91792\n",
      "[50]\ttrain-auc:0.92991\tvalid-auc:0.94065\n",
      "[56]\ttrain-auc:0.93580\tvalid-auc:0.94023\n"
     ]
    }
   ],
   "source": [
    "xgb_model = xgb.train(xgb_params, d_train, num_boost_round=1000, evals=wl, early_stopping_rounds=50, verbose_eval=50, maximize=True)"
   ]
  },
  {
   "cell_type": "code",
   "execution_count": 30,
   "metadata": {},
   "outputs": [],
   "source": [
    "xgb_pred = xgb_model.predict(d_test)"
   ]
  },
  {
   "cell_type": "markdown",
   "metadata": {},
   "source": [
    "## Model Evaluation"
   ]
  },
  {
   "cell_type": "markdown",
   "metadata": {},
   "source": [
    "### ROC-AUC Score"
   ]
  },
  {
   "cell_type": "code",
   "execution_count": null,
   "metadata": {},
   "outputs": [
    {
     "name": "stdout",
     "output_type": "stream",
     "text": [
      "ROC-AUC Score:-\n",
      "RandomForestClassifier: 0.8953312551008559\n",
      "AdaBoostClassifier: 0.848661388217861\n"
     ]
    },
    {
     "ename": "ValueError",
     "evalue": "Found input variables with inconsistent numbers of samples: [28481, 227845]",
     "output_type": "error",
     "traceback": [
      "\u001b[1;31m---------------------------------------------------------------------------\u001b[0m",
      "\u001b[1;31mValueError\u001b[0m                                Traceback (most recent call last)",
      "Cell \u001b[1;32mIn[57], line 4\u001b[0m\n\u001b[0;32m      2\u001b[0m \u001b[38;5;28mprint\u001b[39m(\u001b[38;5;124mf\u001b[39m\u001b[38;5;124m'\u001b[39m\u001b[38;5;124mRandomForestClassifier: \u001b[39m\u001b[38;5;132;01m{\u001b[39;00mroc_auc_score(y_val,\u001b[38;5;250m \u001b[39mrfc_pred)\u001b[38;5;132;01m}\u001b[39;00m\u001b[38;5;124m'\u001b[39m)\n\u001b[0;32m      3\u001b[0m \u001b[38;5;28mprint\u001b[39m(\u001b[38;5;124mf\u001b[39m\u001b[38;5;124m'\u001b[39m\u001b[38;5;124mAdaBoostClassifier: \u001b[39m\u001b[38;5;132;01m{\u001b[39;00mroc_auc_score(y_val,\u001b[38;5;250m \u001b[39mabc_pred)\u001b[38;5;132;01m}\u001b[39;00m\u001b[38;5;124m'\u001b[39m)\n\u001b[1;32m----> 4\u001b[0m \u001b[38;5;28mprint\u001b[39m(\u001b[38;5;124mf\u001b[39m\u001b[38;5;124m'\u001b[39m\u001b[38;5;124mCatBoostClassifier: \u001b[39m\u001b[38;5;132;01m{\u001b[39;00m\u001b[43mroc_auc_score\u001b[49m\u001b[43m(\u001b[49m\u001b[43my_val\u001b[49m\u001b[43m,\u001b[49m\u001b[38;5;250;43m \u001b[39;49m\u001b[43mcbc_pred\u001b[49m\u001b[43m)\u001b[49m\u001b[38;5;132;01m}\u001b[39;00m\u001b[38;5;124m'\u001b[39m)\n\u001b[0;32m      5\u001b[0m \u001b[38;5;28mprint\u001b[39m(\u001b[38;5;124mf\u001b[39m\u001b[38;5;124m'\u001b[39m\u001b[38;5;124mXGBoost: \u001b[39m\u001b[38;5;132;01m{\u001b[39;00mroc_auc_score(y_val,\u001b[38;5;250m \u001b[39mxgb_pred)\u001b[38;5;132;01m}\u001b[39;00m\u001b[38;5;124m'\u001b[39m)\n",
      "File \u001b[1;32mc:\\Users\\Arush\\AppData\\Local\\Programs\\Python\\Python312\\Lib\\site-packages\\sklearn\\utils\\_param_validation.py:216\u001b[0m, in \u001b[0;36mvalidate_params.<locals>.decorator.<locals>.wrapper\u001b[1;34m(*args, **kwargs)\u001b[0m\n\u001b[0;32m    210\u001b[0m \u001b[38;5;28;01mtry\u001b[39;00m:\n\u001b[0;32m    211\u001b[0m     \u001b[38;5;28;01mwith\u001b[39;00m config_context(\n\u001b[0;32m    212\u001b[0m         skip_parameter_validation\u001b[38;5;241m=\u001b[39m(\n\u001b[0;32m    213\u001b[0m             prefer_skip_nested_validation \u001b[38;5;129;01mor\u001b[39;00m global_skip_validation\n\u001b[0;32m    214\u001b[0m         )\n\u001b[0;32m    215\u001b[0m     ):\n\u001b[1;32m--> 216\u001b[0m         \u001b[38;5;28;01mreturn\u001b[39;00m \u001b[43mfunc\u001b[49m\u001b[43m(\u001b[49m\u001b[38;5;241;43m*\u001b[39;49m\u001b[43margs\u001b[49m\u001b[43m,\u001b[49m\u001b[43m \u001b[49m\u001b[38;5;241;43m*\u001b[39;49m\u001b[38;5;241;43m*\u001b[39;49m\u001b[43mkwargs\u001b[49m\u001b[43m)\u001b[49m\n\u001b[0;32m    217\u001b[0m \u001b[38;5;28;01mexcept\u001b[39;00m InvalidParameterError \u001b[38;5;28;01mas\u001b[39;00m e:\n\u001b[0;32m    218\u001b[0m     \u001b[38;5;66;03m# When the function is just a wrapper around an estimator, we allow\u001b[39;00m\n\u001b[0;32m    219\u001b[0m     \u001b[38;5;66;03m# the function to delegate validation to the estimator, but we replace\u001b[39;00m\n\u001b[0;32m    220\u001b[0m     \u001b[38;5;66;03m# the name of the estimator by the name of the function in the error\u001b[39;00m\n\u001b[0;32m    221\u001b[0m     \u001b[38;5;66;03m# message to avoid confusion.\u001b[39;00m\n\u001b[0;32m    222\u001b[0m     msg \u001b[38;5;241m=\u001b[39m re\u001b[38;5;241m.\u001b[39msub(\n\u001b[0;32m    223\u001b[0m         \u001b[38;5;124mr\u001b[39m\u001b[38;5;124m\"\u001b[39m\u001b[38;5;124mparameter of \u001b[39m\u001b[38;5;124m\\\u001b[39m\u001b[38;5;124mw+ must be\u001b[39m\u001b[38;5;124m\"\u001b[39m,\n\u001b[0;32m    224\u001b[0m         \u001b[38;5;124mf\u001b[39m\u001b[38;5;124m\"\u001b[39m\u001b[38;5;124mparameter of \u001b[39m\u001b[38;5;132;01m{\u001b[39;00mfunc\u001b[38;5;241m.\u001b[39m\u001b[38;5;18m__qualname__\u001b[39m\u001b[38;5;132;01m}\u001b[39;00m\u001b[38;5;124m must be\u001b[39m\u001b[38;5;124m\"\u001b[39m,\n\u001b[0;32m    225\u001b[0m         \u001b[38;5;28mstr\u001b[39m(e),\n\u001b[0;32m    226\u001b[0m     )\n",
      "File \u001b[1;32mc:\\Users\\Arush\\AppData\\Local\\Programs\\Python\\Python312\\Lib\\site-packages\\sklearn\\metrics\\_ranking.py:641\u001b[0m, in \u001b[0;36mroc_auc_score\u001b[1;34m(y_true, y_score, average, sample_weight, max_fpr, multi_class, labels)\u001b[0m\n\u001b[0;32m    639\u001b[0m     labels \u001b[38;5;241m=\u001b[39m np\u001b[38;5;241m.\u001b[39munique(y_true)\n\u001b[0;32m    640\u001b[0m     y_true \u001b[38;5;241m=\u001b[39m label_binarize(y_true, classes\u001b[38;5;241m=\u001b[39mlabels)[:, \u001b[38;5;241m0\u001b[39m]\n\u001b[1;32m--> 641\u001b[0m     \u001b[38;5;28;01mreturn\u001b[39;00m \u001b[43m_average_binary_score\u001b[49m\u001b[43m(\u001b[49m\n\u001b[0;32m    642\u001b[0m \u001b[43m        \u001b[49m\u001b[43mpartial\u001b[49m\u001b[43m(\u001b[49m\u001b[43m_binary_roc_auc_score\u001b[49m\u001b[43m,\u001b[49m\u001b[43m \u001b[49m\u001b[43mmax_fpr\u001b[49m\u001b[38;5;241;43m=\u001b[39;49m\u001b[43mmax_fpr\u001b[49m\u001b[43m)\u001b[49m\u001b[43m,\u001b[49m\n\u001b[0;32m    643\u001b[0m \u001b[43m        \u001b[49m\u001b[43my_true\u001b[49m\u001b[43m,\u001b[49m\n\u001b[0;32m    644\u001b[0m \u001b[43m        \u001b[49m\u001b[43my_score\u001b[49m\u001b[43m,\u001b[49m\n\u001b[0;32m    645\u001b[0m \u001b[43m        \u001b[49m\u001b[43maverage\u001b[49m\u001b[43m,\u001b[49m\n\u001b[0;32m    646\u001b[0m \u001b[43m        \u001b[49m\u001b[43msample_weight\u001b[49m\u001b[38;5;241;43m=\u001b[39;49m\u001b[43msample_weight\u001b[49m\u001b[43m,\u001b[49m\n\u001b[0;32m    647\u001b[0m \u001b[43m    \u001b[49m\u001b[43m)\u001b[49m\n\u001b[0;32m    648\u001b[0m \u001b[38;5;28;01melse\u001b[39;00m:  \u001b[38;5;66;03m# multilabel-indicator\u001b[39;00m\n\u001b[0;32m    649\u001b[0m     \u001b[38;5;28;01mreturn\u001b[39;00m _average_binary_score(\n\u001b[0;32m    650\u001b[0m         partial(_binary_roc_auc_score, max_fpr\u001b[38;5;241m=\u001b[39mmax_fpr),\n\u001b[0;32m    651\u001b[0m         y_true,\n\u001b[1;32m   (...)\u001b[0m\n\u001b[0;32m    654\u001b[0m         sample_weight\u001b[38;5;241m=\u001b[39msample_weight,\n\u001b[0;32m    655\u001b[0m     )\n",
      "File \u001b[1;32mc:\\Users\\Arush\\AppData\\Local\\Programs\\Python\\Python312\\Lib\\site-packages\\sklearn\\metrics\\_base.py:69\u001b[0m, in \u001b[0;36m_average_binary_score\u001b[1;34m(binary_metric, y_true, y_score, average, sample_weight)\u001b[0m\n\u001b[0;32m     66\u001b[0m     \u001b[38;5;28;01mraise\u001b[39;00m \u001b[38;5;167;01mValueError\u001b[39;00m(\u001b[38;5;124m\"\u001b[39m\u001b[38;5;132;01m{0}\u001b[39;00m\u001b[38;5;124m format is not supported\u001b[39m\u001b[38;5;124m\"\u001b[39m\u001b[38;5;241m.\u001b[39mformat(y_type))\n\u001b[0;32m     68\u001b[0m \u001b[38;5;28;01mif\u001b[39;00m y_type \u001b[38;5;241m==\u001b[39m \u001b[38;5;124m\"\u001b[39m\u001b[38;5;124mbinary\u001b[39m\u001b[38;5;124m\"\u001b[39m:\n\u001b[1;32m---> 69\u001b[0m     \u001b[38;5;28;01mreturn\u001b[39;00m \u001b[43mbinary_metric\u001b[49m\u001b[43m(\u001b[49m\u001b[43my_true\u001b[49m\u001b[43m,\u001b[49m\u001b[43m \u001b[49m\u001b[43my_score\u001b[49m\u001b[43m,\u001b[49m\u001b[43m \u001b[49m\u001b[43msample_weight\u001b[49m\u001b[38;5;241;43m=\u001b[39;49m\u001b[43msample_weight\u001b[49m\u001b[43m)\u001b[49m\n\u001b[0;32m     71\u001b[0m check_consistent_length(y_true, y_score, sample_weight)\n\u001b[0;32m     72\u001b[0m y_true \u001b[38;5;241m=\u001b[39m check_array(y_true)\n",
      "File \u001b[1;32mc:\\Users\\Arush\\AppData\\Local\\Programs\\Python\\Python312\\Lib\\site-packages\\sklearn\\metrics\\_ranking.py:388\u001b[0m, in \u001b[0;36m_binary_roc_auc_score\u001b[1;34m(y_true, y_score, sample_weight, max_fpr)\u001b[0m\n\u001b[0;32m    379\u001b[0m     warnings\u001b[38;5;241m.\u001b[39mwarn(\n\u001b[0;32m    380\u001b[0m         (\n\u001b[0;32m    381\u001b[0m             \u001b[38;5;124m\"\u001b[39m\u001b[38;5;124mOnly one class is present in y_true. ROC AUC score \u001b[39m\u001b[38;5;124m\"\u001b[39m\n\u001b[1;32m   (...)\u001b[0m\n\u001b[0;32m    384\u001b[0m         UndefinedMetricWarning,\n\u001b[0;32m    385\u001b[0m     )\n\u001b[0;32m    386\u001b[0m     \u001b[38;5;28;01mreturn\u001b[39;00m np\u001b[38;5;241m.\u001b[39mnan\n\u001b[1;32m--> 388\u001b[0m fpr, tpr, _ \u001b[38;5;241m=\u001b[39m \u001b[43mroc_curve\u001b[49m\u001b[43m(\u001b[49m\u001b[43my_true\u001b[49m\u001b[43m,\u001b[49m\u001b[43m \u001b[49m\u001b[43my_score\u001b[49m\u001b[43m,\u001b[49m\u001b[43m \u001b[49m\u001b[43msample_weight\u001b[49m\u001b[38;5;241;43m=\u001b[39;49m\u001b[43msample_weight\u001b[49m\u001b[43m)\u001b[49m\n\u001b[0;32m    389\u001b[0m \u001b[38;5;28;01mif\u001b[39;00m max_fpr \u001b[38;5;129;01mis\u001b[39;00m \u001b[38;5;28;01mNone\u001b[39;00m \u001b[38;5;129;01mor\u001b[39;00m max_fpr \u001b[38;5;241m==\u001b[39m \u001b[38;5;241m1\u001b[39m:\n\u001b[0;32m    390\u001b[0m     \u001b[38;5;28;01mreturn\u001b[39;00m auc(fpr, tpr)\n",
      "File \u001b[1;32mc:\\Users\\Arush\\AppData\\Local\\Programs\\Python\\Python312\\Lib\\site-packages\\sklearn\\utils\\_param_validation.py:189\u001b[0m, in \u001b[0;36mvalidate_params.<locals>.decorator.<locals>.wrapper\u001b[1;34m(*args, **kwargs)\u001b[0m\n\u001b[0;32m    187\u001b[0m global_skip_validation \u001b[38;5;241m=\u001b[39m get_config()[\u001b[38;5;124m\"\u001b[39m\u001b[38;5;124mskip_parameter_validation\u001b[39m\u001b[38;5;124m\"\u001b[39m]\n\u001b[0;32m    188\u001b[0m \u001b[38;5;28;01mif\u001b[39;00m global_skip_validation:\n\u001b[1;32m--> 189\u001b[0m     \u001b[38;5;28;01mreturn\u001b[39;00m \u001b[43mfunc\u001b[49m\u001b[43m(\u001b[49m\u001b[38;5;241;43m*\u001b[39;49m\u001b[43margs\u001b[49m\u001b[43m,\u001b[49m\u001b[43m \u001b[49m\u001b[38;5;241;43m*\u001b[39;49m\u001b[38;5;241;43m*\u001b[39;49m\u001b[43mkwargs\u001b[49m\u001b[43m)\u001b[49m\n\u001b[0;32m    191\u001b[0m func_sig \u001b[38;5;241m=\u001b[39m signature(func)\n\u001b[0;32m    193\u001b[0m \u001b[38;5;66;03m# Map *args/**kwargs to the function signature\u001b[39;00m\n",
      "File \u001b[1;32mc:\\Users\\Arush\\AppData\\Local\\Programs\\Python\\Python312\\Lib\\site-packages\\sklearn\\metrics\\_ranking.py:1150\u001b[0m, in \u001b[0;36mroc_curve\u001b[1;34m(y_true, y_score, pos_label, sample_weight, drop_intermediate)\u001b[0m\n\u001b[0;32m   1046\u001b[0m \u001b[38;5;129m@validate_params\u001b[39m(\n\u001b[0;32m   1047\u001b[0m     {\n\u001b[0;32m   1048\u001b[0m         \u001b[38;5;124m\"\u001b[39m\u001b[38;5;124my_true\u001b[39m\u001b[38;5;124m\"\u001b[39m: [\u001b[38;5;124m\"\u001b[39m\u001b[38;5;124marray-like\u001b[39m\u001b[38;5;124m\"\u001b[39m],\n\u001b[1;32m   (...)\u001b[0m\n\u001b[0;32m   1057\u001b[0m     y_true, y_score, \u001b[38;5;241m*\u001b[39m, pos_label\u001b[38;5;241m=\u001b[39m\u001b[38;5;28;01mNone\u001b[39;00m, sample_weight\u001b[38;5;241m=\u001b[39m\u001b[38;5;28;01mNone\u001b[39;00m, drop_intermediate\u001b[38;5;241m=\u001b[39m\u001b[38;5;28;01mTrue\u001b[39;00m\n\u001b[0;32m   1058\u001b[0m ):\n\u001b[0;32m   1059\u001b[0m \u001b[38;5;250m    \u001b[39m\u001b[38;5;124;03m\"\"\"Compute Receiver operating characteristic (ROC).\u001b[39;00m\n\u001b[0;32m   1060\u001b[0m \n\u001b[0;32m   1061\u001b[0m \u001b[38;5;124;03m    Note: this implementation is restricted to the binary classification task.\u001b[39;00m\n\u001b[1;32m   (...)\u001b[0m\n\u001b[0;32m   1148\u001b[0m \u001b[38;5;124;03m    array([ inf, 0.8 , 0.4 , 0.35, 0.1 ])\u001b[39;00m\n\u001b[0;32m   1149\u001b[0m \u001b[38;5;124;03m    \"\"\"\u001b[39;00m\n\u001b[1;32m-> 1150\u001b[0m     fps, tps, thresholds \u001b[38;5;241m=\u001b[39m \u001b[43m_binary_clf_curve\u001b[49m\u001b[43m(\u001b[49m\n\u001b[0;32m   1151\u001b[0m \u001b[43m        \u001b[49m\u001b[43my_true\u001b[49m\u001b[43m,\u001b[49m\u001b[43m \u001b[49m\u001b[43my_score\u001b[49m\u001b[43m,\u001b[49m\u001b[43m \u001b[49m\u001b[43mpos_label\u001b[49m\u001b[38;5;241;43m=\u001b[39;49m\u001b[43mpos_label\u001b[49m\u001b[43m,\u001b[49m\u001b[43m \u001b[49m\u001b[43msample_weight\u001b[49m\u001b[38;5;241;43m=\u001b[39;49m\u001b[43msample_weight\u001b[49m\n\u001b[0;32m   1152\u001b[0m \u001b[43m    \u001b[49m\u001b[43m)\u001b[49m\n\u001b[0;32m   1154\u001b[0m     \u001b[38;5;66;03m# Attempt to drop thresholds corresponding to points in between and\u001b[39;00m\n\u001b[0;32m   1155\u001b[0m     \u001b[38;5;66;03m# collinear with other points. These are always suboptimal and do not\u001b[39;00m\n\u001b[0;32m   1156\u001b[0m     \u001b[38;5;66;03m# appear on a plotted ROC curve (and thus do not affect the AUC).\u001b[39;00m\n\u001b[1;32m   (...)\u001b[0m\n\u001b[0;32m   1161\u001b[0m     \u001b[38;5;66;03m# but does not drop more complicated cases like fps = [1, 3, 7],\u001b[39;00m\n\u001b[0;32m   1162\u001b[0m     \u001b[38;5;66;03m# tps = [1, 2, 4]; there is no harm in keeping too many thresholds.\u001b[39;00m\n\u001b[0;32m   1163\u001b[0m     \u001b[38;5;28;01mif\u001b[39;00m drop_intermediate \u001b[38;5;129;01mand\u001b[39;00m \u001b[38;5;28mlen\u001b[39m(fps) \u001b[38;5;241m>\u001b[39m \u001b[38;5;241m2\u001b[39m:\n",
      "File \u001b[1;32mc:\\Users\\Arush\\AppData\\Local\\Programs\\Python\\Python312\\Lib\\site-packages\\sklearn\\metrics\\_ranking.py:820\u001b[0m, in \u001b[0;36m_binary_clf_curve\u001b[1;34m(y_true, y_score, pos_label, sample_weight)\u001b[0m\n\u001b[0;32m    817\u001b[0m \u001b[38;5;28;01mif\u001b[39;00m \u001b[38;5;129;01mnot\u001b[39;00m (y_type \u001b[38;5;241m==\u001b[39m \u001b[38;5;124m\"\u001b[39m\u001b[38;5;124mbinary\u001b[39m\u001b[38;5;124m\"\u001b[39m \u001b[38;5;129;01mor\u001b[39;00m (y_type \u001b[38;5;241m==\u001b[39m \u001b[38;5;124m\"\u001b[39m\u001b[38;5;124mmulticlass\u001b[39m\u001b[38;5;124m\"\u001b[39m \u001b[38;5;129;01mand\u001b[39;00m pos_label \u001b[38;5;129;01mis\u001b[39;00m \u001b[38;5;129;01mnot\u001b[39;00m \u001b[38;5;28;01mNone\u001b[39;00m)):\n\u001b[0;32m    818\u001b[0m     \u001b[38;5;28;01mraise\u001b[39;00m \u001b[38;5;167;01mValueError\u001b[39;00m(\u001b[38;5;124m\"\u001b[39m\u001b[38;5;132;01m{0}\u001b[39;00m\u001b[38;5;124m format is not supported\u001b[39m\u001b[38;5;124m\"\u001b[39m\u001b[38;5;241m.\u001b[39mformat(y_type))\n\u001b[1;32m--> 820\u001b[0m \u001b[43mcheck_consistent_length\u001b[49m\u001b[43m(\u001b[49m\u001b[43my_true\u001b[49m\u001b[43m,\u001b[49m\u001b[43m \u001b[49m\u001b[43my_score\u001b[49m\u001b[43m,\u001b[49m\u001b[43m \u001b[49m\u001b[43msample_weight\u001b[49m\u001b[43m)\u001b[49m\n\u001b[0;32m    821\u001b[0m y_true \u001b[38;5;241m=\u001b[39m column_or_1d(y_true)\n\u001b[0;32m    822\u001b[0m y_score \u001b[38;5;241m=\u001b[39m column_or_1d(y_score)\n",
      "File \u001b[1;32mc:\\Users\\Arush\\AppData\\Local\\Programs\\Python\\Python312\\Lib\\site-packages\\sklearn\\utils\\validation.py:475\u001b[0m, in \u001b[0;36mcheck_consistent_length\u001b[1;34m(*arrays)\u001b[0m\n\u001b[0;32m    473\u001b[0m uniques \u001b[38;5;241m=\u001b[39m np\u001b[38;5;241m.\u001b[39munique(lengths)\n\u001b[0;32m    474\u001b[0m \u001b[38;5;28;01mif\u001b[39;00m \u001b[38;5;28mlen\u001b[39m(uniques) \u001b[38;5;241m>\u001b[39m \u001b[38;5;241m1\u001b[39m:\n\u001b[1;32m--> 475\u001b[0m     \u001b[38;5;28;01mraise\u001b[39;00m \u001b[38;5;167;01mValueError\u001b[39;00m(\n\u001b[0;32m    476\u001b[0m         \u001b[38;5;124m\"\u001b[39m\u001b[38;5;124mFound input variables with inconsistent numbers of samples: \u001b[39m\u001b[38;5;132;01m%r\u001b[39;00m\u001b[38;5;124m\"\u001b[39m\n\u001b[0;32m    477\u001b[0m         \u001b[38;5;241m%\u001b[39m [\u001b[38;5;28mint\u001b[39m(l) \u001b[38;5;28;01mfor\u001b[39;00m l \u001b[38;5;129;01min\u001b[39;00m lengths]\n\u001b[0;32m    478\u001b[0m     )\n",
      "\u001b[1;31mValueError\u001b[0m: Found input variables with inconsistent numbers of samples: [28481, 227845]"
     ]
    }
   ],
   "source": [
    "print(f'ROC-AUC Score:-')\n",
    "print(f'RandomForestClassifier: {roc_auc_score(y_val.values, rfc_pred)}')\n",
    "print(f'AdaBoostClassifier: {roc_auc_score(y_val.values, abc_pred)}')\n",
    "print(f'CatBoostClassifier: {roc_auc_score(y_val.values, cbc_pred)}')\n",
    "print(f'XGBoost: {roc_auc_score(y_val.values, xgb_pred)}')"
   ]
  },
  {
   "cell_type": "markdown",
   "metadata": {},
   "source": [
    "## Model Visualization"
   ]
  },
  {
   "cell_type": "code",
   "execution_count": null,
   "metadata": {},
   "outputs": [],
   "source": [
    "features = ['Time', 'V1', 'V2', 'V3', 'V4', 'V5', 'V6', 'V7', 'V8', 'V9', 'V10', 'V11', 'V12', 'V13', 'V14', 'V15', 'V16', 'V17', 'V18', 'V19', 'V20', 'V21', 'V22', 'V23', 'V24', 'V25', 'V26', 'V27', 'V28', 'Amount']\n",
    "target = 'Class'"
   ]
  },
  {
   "cell_type": "markdown",
   "metadata": {},
   "source": [
    "### Features/Variable Importance for Models"
   ]
  },
  {
   "cell_type": "code",
   "execution_count": 46,
   "metadata": {},
   "outputs": [
    {
     "data": {
      "image/png": "[encoded data removed]",
      "text/plain": [
       "<Figure size 1000x600 with 1 Axes>"
      ]
     },
     "metadata": {},
     "output_type": "display_data"
    }
   ],
   "source": [
    "# RandomForestClassifier\n",
    "\n",
    "temp = pd.DataFrame({'Feature': features, 'Feature importance': rfc.feature_importances_})\n",
    "temp = temp.sort_values(by='Feature importance',ascending=False)\n",
    "\n",
    "plt.figure(figsize = (10,6))\n",
    "plot = sns.barplot(x='Feature',y='Feature importance',data=temp, hue='Feature', palette='Greens_r', legend=False)\n",
    "plot.set_xticks(range(len(temp)))\n",
    "plot.set_xticklabels(plot.get_xticklabels(),rotation=90)\n",
    "plt.title('RandomForestClassifier - Features Importance',fontsize=14)\n",
    "plt.savefig('../results/visualizations/features_imp_rfc.png', dpi=166.67)\n",
    "plt.show()"
   ]
  },
  {
   "cell_type": "code",
   "execution_count": 47,
   "metadata": {},
   "outputs": [
    {
     "data": {
      "image/png": "[encoded data removed]",
      "text/plain": [
       "<Figure size 1000x600 with 1 Axes>"
      ]
     },
     "metadata": {},
     "output_type": "display_data"
    }
   ],
   "source": [
    "# AdaBoostClassifier\n",
    "\n",
    "temp = pd.DataFrame({'Feature': features, 'Feature importance': abc.feature_importances_})\n",
    "temp = temp.sort_values(by='Feature importance',ascending=False)\n",
    "\n",
    "plt.figure(figsize = (10,6))\n",
    "plot = sns.barplot(x='Feature',y='Feature importance',data=temp, hue='Feature', palette='Greens_r', legend=False)\n",
    "plot.set_xticks(range(len(temp)))\n",
    "plot.set_xticklabels(plot.get_xticklabels(),rotation=90)\n",
    "plt.title('AdaBoostClassifier - Features Importance',fontsize=14)\n",
    "plt.savefig('../results/visualizations/features_imp_abc.png', dpi=166.67)\n",
    "plt.show()"
   ]
  },
  {
   "cell_type": "code",
   "execution_count": 48,
   "metadata": {},
   "outputs": [
    {
     "data": {
      "image/png": "[encoded data removed]",
      "text/plain": [
       "<Figure size 1000x600 with 1 Axes>"
      ]
     },
     "metadata": {},
     "output_type": "display_data"
    }
   ],
   "source": [
    "# CatBoostClassifier\n",
    "\n",
    "temp = pd.DataFrame({'Feature': features, 'Feature importance': cbc.feature_importances_})\n",
    "temp = temp.sort_values(by='Feature importance',ascending=False)\n",
    "\n",
    "plt.figure(figsize = (10,6))\n",
    "plot = sns.barplot(x='Feature',y='Feature importance',data=temp, hue='Feature', palette='Greens_r', legend=False)\n",
    "plot.set_xticks(range(len(temp)))\n",
    "plot.set_xticklabels(plot.get_xticklabels(),rotation=90)\n",
    "plt.title('CatBoostClassifier - Features Importance',fontsize=14)\n",
    "plt.savefig('../results/visualizations/features_imp_cbc.png', dpi=166.67)\n",
    "plt.show()"
   ]
  },
  {
   "cell_type": "code",
   "execution_count": 54,
   "metadata": {},
   "outputs": [
    {
     "data": {
      "image/png": "[encoded data removed]",
      "text/plain": [
       "<Figure size 800x500 with 1 Axes>"
      ]
     },
     "metadata": {},
     "output_type": "display_data"
    }
   ],
   "source": [
    "# XGBoost\n",
    "\n",
    "fig, ax = plt.subplots(ncols=1, figsize=(8,5))\n",
    "xgb.plot_importance(xgb_model, height=0.8, title=\"Features Importance - XGBoost\", ax=ax, color=['#bec5ad', '#b1bda1', '#a4b494', '#7ba683', '#519872', '#46755e', '#3b5249', '#20372f', '#041b15', '#000000']) \n",
    "plt.savefig('../results/visualizations/features_imp_xgb.png', dpi=200)\n",
    "plt.show()"
   ]
  }
 ],
 "metadata": {
  "kernelspec": {
   "display_name": "Python 3",
   "language": "python",
   "name": "python3"
  },
  "language_info": {
   "codemirror_mode": {
    "name": "ipython",
    "version": 3
   },
   "file_extension": ".py",
   "mimetype": "text/x-python",
   "name": "python",
   "nbconvert_exporter": "python",
   "pygments_lexer": "ipython3",
   "version": "3.12.6"
  }
 },
 "nbformat": 4,
 "nbformat_minor": 2
}
